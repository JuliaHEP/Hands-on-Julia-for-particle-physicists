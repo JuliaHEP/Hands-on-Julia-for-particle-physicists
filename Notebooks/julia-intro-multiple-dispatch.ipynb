{
 "cells": [
  {
   "cell_type": "markdown",
   "id": "5175cbbd",
   "metadata": {},
   "source": [
    "You may have noticed that we seem to write functions in Julia much as we do in Python: without any requirement for explicit types.\n",
    "\n",
    "We can specify types if we want to:"
   ]
  },
  {
   "cell_type": "code",
   "execution_count": 1,
   "id": "aa9d2eb3",
   "metadata": {},
   "outputs": [
    {
     "data": {
      "text/plain": [
       "30"
      ]
     },
     "execution_count": 1,
     "metadata": {},
     "output_type": "execute_result"
    }
   ],
   "source": [
    "function multiply(x ::Int64, y ::Int64)\n",
    "    x*y\n",
    "end\n",
    "\n",
    "multiply(5,6)"
   ]
  },
  {
   "cell_type": "code",
   "execution_count": 2,
   "id": "fca9673d",
   "metadata": {},
   "outputs": [
    {
     "ename": "LoadError",
     "evalue": "MethodError: no method matching multiply(::Float64, ::Int64)\n\n\u001b[0mClosest candidates are:\n\u001b[0m  multiply(\u001b[91m::Int64\u001b[39m, ::Int64)\n\u001b[0m\u001b[90m   @\u001b[39m \u001b[35mMain\u001b[39m \u001b[90m\u001b[4mIn[1]:1\u001b[24m\u001b[39m\n",
     "output_type": "error",
     "traceback": [
      "MethodError: no method matching multiply(::Float64, ::Int64)\n\n\u001b[0mClosest candidates are:\n\u001b[0m  multiply(\u001b[91m::Int64\u001b[39m, ::Int64)\n\u001b[0m\u001b[90m   @\u001b[39m \u001b[35mMain\u001b[39m \u001b[90m\u001b[4mIn[1]:1\u001b[24m\u001b[39m\n",
      "",
      "Stacktrace:",
      " [1] top-level scope",
      "   @ In[2]:1"
     ]
    }
   ],
   "source": [
    "multiply(9.0,1)"
   ]
  },
  {
   "cell_type": "markdown",
   "id": "8cbb1bac",
   "metadata": {},
   "source": [
    "As you can see, unlike some versions of Python, if we do specify types in our function declaration, Julia takes us seriously - it will not provide the function for arguments with other types.\n",
    "\n",
    "However, this also reveals a difference between how Julia and Python think about functions in the first place: Julia *always* generates different versions of a function for different types - it's just that it waits until a particular set of argument types is required before doing the work.\n",
    "\n",
    "We can declare additional versions of multiply for different arguments explicitly:"
   ]
  },
  {
   "cell_type": "code",
   "execution_count": 3,
   "id": "f642695b",
   "metadata": {},
   "outputs": [
    {
     "data": {
      "text/plain": [
       "multiply (generic function with 2 methods)"
      ]
     },
     "execution_count": 3,
     "metadata": {},
     "output_type": "execute_result"
    }
   ],
   "source": [
    "function multiply(x ::Float64, y ::Int64)\n",
    "    x*y + 1 \n",
    "end\n",
    "\n"
   ]
  },
  {
   "cell_type": "markdown",
   "id": "85e4dea7",
   "metadata": {},
   "source": [
    "and you notice that when we do so, Julia notes that multiply is now a \"generic function with 2 methods\" - those methods being \"multiply a Float64 and an Int64\" and \"multiply two Int64s\"\n",
    "\n",
    "Julia will always pick the version of our function that matches the types of its arguments - this is called **Multiple Dispatch** and is a key to how Julia provides \"object orientation\"-like mutability for functions without having actual Objects."
   ]
  },
  {
   "cell_type": "code",
   "execution_count": 9,
   "id": "3b772c54",
   "metadata": {},
   "outputs": [
    {
     "data": {
      "text/plain": [
       "11.0"
      ]
     },
     "execution_count": 9,
     "metadata": {},
     "output_type": "execute_result"
    }
   ],
   "source": [
    "multiply(5.5, 2) #Float64, Int64\n"
   ]
  },
  {
   "cell_type": "code",
   "execution_count": 10,
   "id": "b700daa2",
   "metadata": {},
   "outputs": [
    {
     "data": {
      "text/plain": [
       "30"
      ]
     },
     "execution_count": 10,
     "metadata": {},
     "output_type": "execute_result"
    }
   ],
   "source": [
    "multiply(6,5) #Int64, Int64"
   ]
  },
  {
   "cell_type": "markdown",
   "id": "7c953390",
   "metadata": {},
   "source": [
    "We can always also provide a generic version that will be used to generate versions of the function for any other combinations of types we've not thought of:"
   ]
  },
  {
   "cell_type": "code",
   "execution_count": 11,
   "id": "5be0714b",
   "metadata": {},
   "outputs": [
    {
     "data": {
      "text/plain": [
       "multiply (generic function with 3 methods)"
      ]
     },
     "execution_count": 11,
     "metadata": {},
     "output_type": "execute_result"
    }
   ],
   "source": [
    "function multiply(x,y)\n",
    "    x*y -1\n",
    "end"
   ]
  },
  {
   "cell_type": "code",
   "execution_count": 13,
   "id": "f31b563e",
   "metadata": {},
   "outputs": [
    {
     "data": {
      "text/plain": [
       "12.0"
      ]
     },
     "execution_count": 13,
     "metadata": {},
     "output_type": "execute_result"
    }
   ],
   "source": [
    "multiply(2,6.5) #Int64, Float64 - uses our generic method since we didn't explicitly cover this"
   ]
  },
  {
   "cell_type": "code",
   "execution_count": null,
   "id": "593999ed",
   "metadata": {},
   "outputs": [],
   "source": []
  }
 ],
 "metadata": {
  "kernelspec": {
   "display_name": "Julia 1.9.2",
   "language": "julia",
   "name": "julia-1.9"
  },
  "language_info": {
   "file_extension": ".jl",
   "mimetype": "application/julia",
   "name": "julia",
   "version": "1.9.2"
  }
 },
 "nbformat": 4,
 "nbformat_minor": 5
}
