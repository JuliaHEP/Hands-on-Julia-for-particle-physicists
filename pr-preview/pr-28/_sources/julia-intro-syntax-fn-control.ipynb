{
 "cells": [
  {
   "cell_type": "markdown",
   "metadata": {},
   "source": [
    "# Julia Syntax Survival (Functions and Control Flow)\n",
    "\n",
    "Here are the key constructs for defining functions and using control flow in Julia:"
   ]
  },
  {
   "cell_type": "markdown",
   "metadata": {},
   "source": [
    "## Functions\n",
    "\n",
    "Functions are defined in a very straightforward way using the `function ... end` syntax:"
   ]
  },
  {
   "cell_type": "code",
   "execution_count": 1,
   "metadata": {},
   "outputs": [
    {
     "data": {
      "text/plain": [
       "mymult (generic function with 1 method)"
      ]
     },
     "metadata": {},
     "output_type": "display_data"
    }
   ],
   "source": [
    "function mymult(a, b)\n",
    "    a * b\n",
    "end"
   ]
  },
  {
   "cell_type": "code",
   "execution_count": 2,
   "metadata": {},
   "outputs": [
    {
     "data": {
      "text/plain": [
       "21"
      ]
     },
     "metadata": {},
     "output_type": "display_data"
    }
   ],
   "source": [
    "mymult(3, 7)"
   ]
  },
  {
   "cell_type": "code",
   "execution_count": 3,
   "metadata": {},
   "outputs": [
    {
     "data": {
      "text/plain": [
       "-33 - 69im"
      ]
     },
     "metadata": {},
     "output_type": "display_data"
    }
   ],
   "source": [
    "mymult(6+3im, -9-7im)"
   ]
  },
  {
   "cell_type": "code",
   "execution_count": 4,
   "metadata": {},
   "outputs": [
    {
     "data": {
      "text/plain": [
       "\"goldleader\""
      ]
     },
     "metadata": {},
     "output_type": "display_data"
    }
   ],
   "source": [
    "mymult(\"gold\", \"leader\")"
   ]
  },
  {
   "cell_type": "markdown",
   "metadata": {},
   "source": [
    "Notice our function is working for any types (we used `Int64`, `Complex` and `String`) - in Julia this stays *fast* because of *multiple dispatch* that we discuss later."
   ]
  },
  {
   "cell_type": "markdown",
   "metadata": {},
   "source": [
    "### Function Documentation\n",
    "\n",
    "A string directly before a function definition is interpreted by Julia as \"documentation\" for the function.\n",
    "The `?` operator will display the doc strings for a function, amongst other things (? also provides help for expressions and other constructs). All of the Julia standard library functions have docstrings."
   ]
  },
  {
   "cell_type": "code",
   "execution_count": 5,
   "metadata": {},
   "outputs": [
    {
     "data": {
      "text/plain": [
       "adder"
      ]
     },
     "metadata": {},
     "output_type": "display_data"
    }
   ],
   "source": [
    "\"\"\"\n",
    "    adder(a, b)\n",
    "    This function adds `a` and `b`\n",
    "\"\"\"\n",
    "function adder(a, b)\n",
    "    a+b\n",
    "end"
   ]
  },
  {
   "cell_type": "code",
   "execution_count": 6,
   "metadata": {},
   "outputs": [
    {
     "ename": "ErrorException",
     "evalue": "syntax: invalid identifier name \"?\"",
     "output_type": "error",
     "traceback": [
      "syntax: invalid identifier name \"?\"\n",
      "\n",
      "Stacktrace:\n",
      " [1] top-level scope\n",
      "   @ ~/docs/JuliaHEP-2023/julia-intro/docs/julia-intro-syntax-fn-control.ipynb:1"
     ]
    }
   ],
   "source": [
    "?adder"
   ]
  },
  {
   "cell_type": "markdown",
   "metadata": {},
   "source": [
    "### Compact Function Definition\n",
    "\n",
    "If we can write a function on one line then Julia allows us to not bother with `function ... end`:"
   ]
  },
  {
   "cell_type": "code",
   "execution_count": 7,
   "metadata": {},
   "outputs": [
    {
     "data": {
      "text/plain": [
       "mypow (generic function with 1 method)"
      ]
     },
     "metadata": {},
     "output_type": "display_data"
    }
   ],
   "source": [
    "mypow(a, b) = a^b"
   ]
  },
  {
   "cell_type": "code",
   "execution_count": 8,
   "metadata": {},
   "outputs": [
    {
     "data": {
      "text/plain": [
       "256"
      ]
     },
     "metadata": {},
     "output_type": "display_data"
    }
   ],
   "source": [
    "mypow(2, 8)"
   ]
  },
  {
   "cell_type": "code",
   "execution_count": 9,
   "metadata": {},
   "outputs": [
    {
     "data": {
      "text/plain": [
       "\"old old old old \""
      ]
     },
     "metadata": {},
     "output_type": "display_data"
    }
   ],
   "source": [
    "mypow(\"old \", 4)"
   ]
  },
  {
   "cell_type": "markdown",
   "metadata": {},
   "source": [
    "### Anonymous Functions (lambdas)\n",
    "\n",
    "Anonymous functions in Julia are written using `->`, like this:"
   ]
  },
  {
   "cell_type": "code",
   "execution_count": 10,
   "metadata": {},
   "outputs": [
    {
     "data": {
      "text/plain": [
       "#11 (generic function with 1 method)"
      ]
     },
     "metadata": {},
     "output_type": "display_data"
    }
   ],
   "source": [
    "x -> x>2"
   ]
  },
  {
   "cell_type": "markdown",
   "metadata": {},
   "source": [
    "Which is not too useful like that, but comes into its own when used with something like `map`:"
   ]
  },
  {
   "cell_type": "code",
   "execution_count": 11,
   "metadata": {},
   "outputs": [
    {
     "data": {
      "text/plain": [
       "5-element Vector{Bool}:\n",
       " 0\n",
       " 0\n",
       " 1\n",
       " 1\n",
       " 1"
      ]
     },
     "metadata": {},
     "output_type": "display_data"
    }
   ],
   "source": [
    "map(x -> x>2, 1:5)"
   ]
  },
  {
   "cell_type": "markdown",
   "metadata": {},
   "source": [
    "## if then else\n",
    "\n",
    "Conditional execution is very easily achieved with an `if` block in Julia:"
   ]
  },
  {
   "cell_type": "code",
   "execution_count": 12,
   "metadata": {},
   "outputs": [
    {
     "data": {
      "text/plain": [
       "gtlteq (generic function with 1 method)"
      ]
     },
     "metadata": {},
     "output_type": "display_data"
    }
   ],
   "source": [
    "function gtlteq(a, b)\n",
    "    if a > b\n",
    "        println(\"$a is greater than $b\")\n",
    "    elseif a < b\n",
    "        println(\"$a is less than $b\")\n",
    "    elseif a == b\n",
    "        println(\"$a is equal to $b\")\n",
    "    else\n",
    "        println(\"I have no idea about $a and $b!\")\n",
    "    end\n",
    "end"
   ]
  },
  {
   "cell_type": "code",
   "execution_count": 13,
   "metadata": {},
   "outputs": [
    {
     "name": "stdout",
     "output_type": "stream",
     "text": [
      "2.3 is greater than -9\n"
     ]
    }
   ],
   "source": [
    "gtlteq(2.3, -9)"
   ]
  },
  {
   "cell_type": "code",
   "execution_count": 14,
   "metadata": {},
   "outputs": [
    {
     "name": "stdout",
     "output_type": "stream",
     "text": [
      "apples is less than oranges\n"
     ]
    }
   ],
   "source": [
    "gtlteq(\"apples\", \"oranges\")"
   ]
  },
  {
   "cell_type": "markdown",
   "metadata": {},
   "source": [
    "### Short Circuit and Ternary Operators"
   ]
  },
  {
   "cell_type": "markdown",
   "metadata": {},
   "source": [
    "### Short Circuit\n",
    "\n",
    "The operators `&&` and `||` can be used for conditional execution.\n",
    "\n",
    "- `a && b` - evaluate `b` only if `a` (i.e., `a` is true)\n",
    "- `a || b` - evaluate `b` only if `!a` (i.e., `a` is false)"
   ]
  },
  {
   "cell_type": "code",
   "execution_count": 15,
   "metadata": {},
   "outputs": [
    {
     "data": {
      "text/plain": [
       "\"it's true\""
      ]
     },
     "metadata": {},
     "output_type": "display_data"
    }
   ],
   "source": [
    "true && \"it's true\""
   ]
  },
  {
   "cell_type": "code",
   "execution_count": 16,
   "metadata": {},
   "outputs": [
    {
     "data": {
      "text/plain": [
       "\"it's false\""
      ]
     },
     "metadata": {},
     "output_type": "display_data"
    }
   ],
   "source": [
    "false || \"it's false\""
   ]
  },
  {
   "cell_type": "code",
   "execution_count": 17,
   "metadata": {},
   "outputs": [
    {
     "data": {
      "text/plain": [
       "false"
      ]
     },
     "metadata": {},
     "output_type": "display_data"
    }
   ],
   "source": [
    "false && \"it's true\""
   ]
  },
  {
   "cell_type": "markdown",
   "metadata": {},
   "source": [
    "## Ternary\n",
    "\n",
    "A special type of \"quick\" conditional is the ternary operator, familiar from C:"
   ]
  },
  {
   "cell_type": "code",
   "execution_count": 18,
   "metadata": {},
   "outputs": [
    {
     "data": {
      "text/plain": [
       "\"it's smaller\""
      ]
     },
     "metadata": {},
     "output_type": "display_data"
    }
   ],
   "source": [
    "2 > 4 ? \"it's bigger\" : \"it's smaller\""
   ]
  },
  {
   "cell_type": "markdown",
   "metadata": {},
   "source": [
    "The syntax is `a ? b : c` meaning *if `a`, evaluate `b`, else evaluate `c`*. "
   ]
  },
  {
   "cell_type": "markdown",
   "metadata": {},
   "source": [
    "## Loops\n",
    "\n",
    "### `For` loops\n",
    "\n",
    "For loops are always over an *iterator* in Julia, allowing a loop over any object that has a beginning and an end:"
   ]
  },
  {
   "cell_type": "code",
   "execution_count": 19,
   "metadata": {},
   "outputs": [
    {
     "name": "stdout",
     "output_type": "stream",
     "text": [
      "I am at number 1\n",
      "I am at number 2\n",
      "I am at number 3\n",
      "I am at number 4\n"
     ]
    }
   ],
   "source": [
    "for number in 1:4\n",
    "    println(\"I am at number $number\")\n",
    "end"
   ]
  },
  {
   "cell_type": "markdown",
   "metadata": {},
   "source": [
    "`enumerate` and `zip` also exist:"
   ]
  },
  {
   "cell_type": "code",
   "execution_count": 20,
   "metadata": {},
   "outputs": [
    {
     "name": "stdout",
     "output_type": "stream",
     "text": [
      "Word 1 is I\n",
      "Word 2 is think\n",
      "Word 3 is therefore\n",
      "Word 4 is I\n",
      "Word 5 is am\n"
     ]
    }
   ],
   "source": [
    "for (index, string) in enumerate([\"I\", \"think\", \"therefore\", \"I\", \"am\"])\n",
    "    println(\"Word $index is $string\")\n",
    "end"
   ]
  },
  {
   "cell_type": "code",
   "execution_count": 21,
   "metadata": {},
   "outputs": [
    {
     "name": "stdout",
     "output_type": "stream",
     "text": [
      "The 1 and 10 say yes\n",
      "The 2 and 11 say no\n",
      "The 3 and 12 say maybe\n"
     ]
    }
   ],
   "source": [
    "for (hip, hop, hup) in zip(1:3, 10:12, [\"yes\", \"no\", \"maybe\"])\n",
    "    println(\"The $hip and $hop say $hup\")\n",
    "end"
   ]
  },
  {
   "cell_type": "markdown",
   "metadata": {},
   "source": [
    "A more novel feature: `for` will also naturally form the outer product of a comma-separated set of iterators provided to them, without the need for \"nesting\" of loops. (This also applies to the `for` in comprehensions, so you can easily make multi-dimensional arrays with a chain of iterators if you want all the combinations that result as elements.)"
   ]
  },
  {
   "cell_type": "code",
   "execution_count": 22,
   "metadata": {},
   "outputs": [
    {
     "name": "stdout",
     "output_type": "stream",
     "text": [
      "The product of 1 and 1 is 1\n",
      "The product of 1 and 2 is 2\n",
      "The product of 1 and 3 is 3\n",
      "The product of 1 and 4 is 4\n",
      "The product of 2 and 1 is 2\n",
      "The product of 2 and 2 is 4\n",
      "The product of 2 and 3 is 6\n",
      "The product of 2 and 4 is 8\n",
      "The product of 3 and 1 is 3\n",
      "The product of 3 and 2 is 6\n",
      "The product of 3 and 3 is 9\n",
      "The product of 3 and 4 is 12\n"
     ]
    }
   ],
   "source": [
    "for i = 1:3, j = 1:4  #like for i=1:3 ; for j=1:4 ...\n",
    "    println(\"The product of $i and $j is $(i*j)\")\n",
    "end"
   ]
  },
  {
   "cell_type": "markdown",
   "metadata": {},
   "source": [
    "### `while` loops\n",
    "\n",
    "By now it is going to be no surprise to you how Julia constructs a `while` loop:"
   ]
  },
  {
   "cell_type": "code",
   "execution_count": 23,
   "metadata": {},
   "outputs": [
    {
     "name": "stdout",
     "output_type": "stream",
     "text": [
      "10...\n",
      "9...\n",
      "8...\n",
      "7...\n",
      "6...\n",
      "5...\n",
      "4...\n",
      "3...\n",
      "2...\n",
      "1...\n",
      "blast off!\n"
     ]
    }
   ],
   "source": [
    "countdown = 10\n",
    "while countdown > 0\n",
    "    println(countdown, \"...\")\n",
    "    countdown -= 1\n",
    "end\n",
    "println(\"blast off!\")"
   ]
  }
 ],
 "metadata": {
  "kernelspec": {
   "display_name": "Julia 1.9.3",
   "language": "julia",
   "name": "julia-1.9"
  },
  "language_info": {
   "file_extension": ".jl",
   "mimetype": "application/julia",
   "name": "julia",
   "version": "1.9.3"
  }
 },
 "nbformat": 4,
 "nbformat_minor": 4
}
