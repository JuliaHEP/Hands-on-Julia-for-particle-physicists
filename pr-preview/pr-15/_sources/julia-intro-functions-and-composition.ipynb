{
 "cells": [
  {
   "cell_type": "markdown",
   "id": "a2eaefc6-58e0-4520-9ba9-f11d1480e959",
   "metadata": {
    "slideshow": {
     "slide_type": ""
    },
    "tags": []
   },
   "source": [
    "# Functions and Composition"
   ]
  },
  {
   "cell_type": "markdown",
   "id": "2a69c363",
   "metadata": {
    "slideshow": {
     "slide_type": ""
    },
    "tags": []
   },
   "source": [
    "**Julia** wants, as far as possible, to allow you to write expressions in a manner natural to mathematicians. \n",
    "\n",
    "We've seen that it naturally supports both Unicode (not unusual for a programming language) and LaTeX-style shortcuts for representing mathematical symbols; however, Julia also extends its philosophy to different ways of representing composition of functions."
   ]
  },
  {
   "cell_type": "markdown",
   "id": "0b5be2ff",
   "metadata": {},
   "source": [
    "To demonstrate this, we'll start with a classic \"long-form\" function, complete with doc-string:"
   ]
  },
  {
   "cell_type": "code",
   "execution_count": 1,
   "id": "660906e1",
   "metadata": {},
   "outputs": [
    {
     "data": {
      "text/plain": [
       "6"
      ]
     },
     "execution_count": 1,
     "metadata": {},
     "output_type": "execute_result"
    }
   ],
   "source": [
    "\"multiply(a,b): return the product of a and b\"\n",
    "function multiply(a, b)\n",
    "    a*b\n",
    "end\n",
    "\n",
    "multiply(2,3)"
   ]
  },
  {
   "cell_type": "markdown",
   "id": "287c4426",
   "metadata": {},
   "source": [
    "In most traditional imperative languages, you \"compose\" functions by simply \"nesting\" the function calls.\n",
    "Julia supports this, here composing two trivial anonymous functions:"
   ]
  },
  {
   "cell_type": "code",
   "execution_count": 2,
   "id": "63ff0959",
   "metadata": {},
   "outputs": [
    {
     "data": {
      "text/plain": [
       "30"
      ]
     },
     "execution_count": 2,
     "metadata": {},
     "output_type": "execute_result"
    }
   ],
   "source": [
    "twice = x -> 2*x\n",
    "thrice = x -> 3*x\n",
    "\n",
    "twice(thrice(5))"
   ]
  },
  {
   "cell_type": "markdown",
   "id": "44f59926",
   "metadata": {},
   "source": [
    "However, Julia also supports a more \"mathematically natural\" method of function composition - using the ∘ (\\circ) operator, we can write a very natural composition operation, and then simply \"call the resulting function\":"
   ]
  },
  {
   "cell_type": "code",
   "execution_count": 3,
   "id": "bd41cd93",
   "metadata": {},
   "outputs": [
    {
     "data": {
      "text/plain": [
       "30"
      ]
     },
     "execution_count": 3,
     "metadata": {},
     "output_type": "execute_result"
    }
   ],
   "source": [
    "six_times = twice ∘ thrice\n",
    "\n",
    "six_times(5)"
   ]
  },
  {
   "cell_type": "code",
   "execution_count": 4,
   "id": "23257cf6",
   "metadata": {},
   "outputs": [
    {
     "data": {
      "text/plain": [
       "30"
      ]
     },
     "execution_count": 4,
     "metadata": {},
     "output_type": "execute_result"
    }
   ],
   "source": [
    "(twice ∘ thrice)(5) "
   ]
  },
  {
   "cell_type": "code",
   "execution_count": 5,
   "id": "523280b7",
   "metadata": {},
   "outputs": [
    {
     "data": {
      "text/plain": [
       "12"
      ]
     },
     "execution_count": 5,
     "metadata": {},
     "output_type": "execute_result"
    }
   ],
   "source": [
    "(twice ∘ multiply)(2,3)"
   ]
  },
  {
   "cell_type": "markdown",
   "id": "e33ba93b",
   "metadata": {},
   "source": [
    "(Clearly, this does not work the other way around in the latter case, as _multiply_ needs two arguments...)\n",
    "\n",
    "Function composition is especially nice if you use it with broadcasting (see next...), or with functional programming operators like map(). \n",
    "Because the composition operator is a fundamental component of Julia, \"composed functions\" will also be JITed separately to their component functions - and thus can be more efficient than simply naïvely nesting function calls.\n",
    "We can demonstrate this using Julia's code introspection features:\n",
    "\n",
    "the macro \"@code_llvm\" shows us the resulting code that will be compiled by the JIT for the given expression - in this case as LLVM Intermediate Representation (there are other @code_* macros that show the code at other levels of processing)"
   ]
  },
  {
   "cell_type": "code",
   "execution_count": 6,
   "id": "cc13013b",
   "metadata": {},
   "outputs": [
    {
     "name": "stdout",
     "output_type": "stream",
     "text": [
      "\u001b[90m;  @ operators.jl:1031 within `ComposedFunction`\u001b[39m\n",
      "\u001b[90m; Function Attrs: uwtable\u001b[39m\n",
      "\u001b[95mdefine\u001b[39m \u001b[36mi64\u001b[39m \u001b[93m@julia_ComposedFunction_972\u001b[39m\u001b[33m(\u001b[39m\u001b[36mi64\u001b[39m \u001b[95msignext\u001b[39m \u001b[0m%0\u001b[33m)\u001b[39m \u001b[0m#0 \u001b[33m{\u001b[39m\n",
      "\u001b[91mtop:\u001b[39m\n",
      "\u001b[90m; ┌ @ operators.jl:1031 within `#_#97`\u001b[39m\n",
      "\u001b[90m; │┌ @ operators.jl:1034 within `call_composed`\u001b[39m\n",
      "\u001b[90m; ││┌ @ In[2]:1 within `#3`\u001b[39m\n",
      "\u001b[90m; │││┌ @ int.jl:88 within `*`\u001b[39m\n",
      "      \u001b[0m%1 \u001b[0m= \u001b[96m\u001b[1mmul\u001b[22m\u001b[39m \u001b[36mi64\u001b[39m \u001b[0m%0\u001b[0m, \u001b[33m6\u001b[39m\n",
      "\u001b[90m; └└└└\u001b[39m\n",
      "  \u001b[96m\u001b[1mret\u001b[22m\u001b[39m \u001b[36mi64\u001b[39m \u001b[0m%1\n",
      "\u001b[33m}\u001b[39m\n"
     ]
    }
   ],
   "source": [
    "@code_llvm( (twice ∘ thrice)(2) )"
   ]
  },
  {
   "cell_type": "code",
   "execution_count": 7,
   "id": "098e5818",
   "metadata": {},
   "outputs": [
    {
     "name": "stdout",
     "output_type": "stream",
     "text": [
      "\u001b[90m;  @ In[2]:1 within `#3`\u001b[39m\n",
      "\u001b[90m; Function Attrs: uwtable\u001b[39m\n",
      "\u001b[95mdefine\u001b[39m \u001b[36mi64\u001b[39m \u001b[93m@\"julia_#3_997\"\u001b[39m\u001b[33m(\u001b[39m\u001b[36mi64\u001b[39m \u001b[95msignext\u001b[39m \u001b[0m%0\u001b[33m)\u001b[39m \u001b[0m#0 \u001b[33m{\u001b[39m\n",
      "\u001b[91mtop:\u001b[39m\n",
      "\u001b[90m; ┌ @ int.jl:88 within `*`\u001b[39m\n",
      "   \u001b[0m%1 \u001b[0m= \u001b[96m\u001b[1mshl\u001b[22m\u001b[39m \u001b[36mi64\u001b[39m \u001b[0m%0\u001b[0m, \u001b[33m1\u001b[39m\n",
      "\u001b[90m; └\u001b[39m\n",
      "  \u001b[96m\u001b[1mret\u001b[22m\u001b[39m \u001b[36mi64\u001b[39m \u001b[0m%1\n",
      "\u001b[33m}\u001b[39m\n"
     ]
    }
   ],
   "source": [
    "@code_llvm( twice(thrice(2)))"
   ]
  },
  {
   "cell_type": "markdown",
   "id": "65a64f7c",
   "metadata": {},
   "source": [
    "As should be clear, the composed form is directly optimised to \"multiply by 6\", whilst the nested function call simply nests the function (@code_llvm only shows us the outer function - \"twice\", which uses a \"shift left\" to efficiently multiply by 2 )."
   ]
  }
 ],
 "metadata": {
  "kernelspec": {
   "display_name": "Julia 1.9.3",
   "language": "julia",
   "name": "julia-1.9"
  },
  "language_info": {
   "file_extension": ".jl",
   "mimetype": "application/julia",
   "name": "julia",
   "version": "1.9.3"
  }
 },
 "nbformat": 4,
 "nbformat_minor": 5
}
