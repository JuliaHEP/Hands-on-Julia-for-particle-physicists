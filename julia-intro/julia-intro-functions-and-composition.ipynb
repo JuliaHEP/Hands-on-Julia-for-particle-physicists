{
 "cells": [
  {
   "cell_type": "markdown",
   "id": "2a69c363",
   "metadata": {},
   "source": [
    "**Julia** wants, as far as possible, to allow you to write expressions in a manner natural to mathematicians. \n",
    "\n",
    "We've seen that it naturally supports both Unicode (not unusual for a programming language) and LaTeX-style shortcuts for representing mathematical symbols; however, Julia also extends its philosophy to different ways of representing operations."
   ]
  },
  {
   "cell_type": "markdown",
   "id": "0b5be2ff",
   "metadata": {},
   "source": [
    "As with a classic imperative language, we can write a function in a rather Python-like way, specifying a name, arguments and a function body:"
   ]
  },
  {
   "cell_type": "code",
   "execution_count": 3,
   "id": "660906e1",
   "metadata": {},
   "outputs": [
    {
     "data": {
      "text/plain": [
       "6"
      ]
     },
     "execution_count": 3,
     "metadata": {},
     "output_type": "execute_result"
    }
   ],
   "source": [
    "function multiply(a, b)\n",
    "    return a*b\n",
    "end\n",
    "\n",
    "multiply(2,3)"
   ]
  },
  {
   "cell_type": "markdown",
   "id": "290bb541",
   "metadata": {},
   "source": [
    "We can, of course, make use of the fact that in Julia all statements are expressions (that is, they return a value equal to their result), to simplify this:"
   ]
  },
  {
   "cell_type": "code",
   "execution_count": 4,
   "id": "37021c44",
   "metadata": {},
   "outputs": [
    {
     "data": {
      "text/plain": [
       "6"
      ]
     },
     "execution_count": 4,
     "metadata": {},
     "output_type": "execute_result"
    }
   ],
   "source": [
    "function alsomultiply(a,b)\n",
    "    a*b\n",
    "end\n",
    "\n",
    "alsomultiply(2,3)"
   ]
  },
  {
   "cell_type": "markdown",
   "id": "eceb8329",
   "metadata": {},
   "source": [
    "We can go further though, just as in Python, and write a small function as an anonymous \"mapping\", with the -> indicating that this function takes the inputs on the left to the output on the right:"
   ]
  },
  {
   "cell_type": "code",
   "execution_count": 6,
   "id": "423a6482",
   "metadata": {},
   "outputs": [
    {
     "data": {
      "text/plain": [
       "6"
      ]
     },
     "execution_count": 6,
     "metadata": {},
     "output_type": "execute_result"
    }
   ],
   "source": [
    "this_is_also_multiply = (a, b) -> a*b\n",
    "\n",
    "this_is_also_multiply(2,3)"
   ]
  },
  {
   "cell_type": "markdown",
   "id": "287c4426",
   "metadata": {},
   "source": [
    "In most traditional imperative languages, you \"compose\" functions by simply \"nesting\" the function calls.\n",
    "Julia supports this:"
   ]
  },
  {
   "cell_type": "code",
   "execution_count": 7,
   "id": "63ff0959",
   "metadata": {},
   "outputs": [
    {
     "data": {
      "text/plain": [
       "30"
      ]
     },
     "execution_count": 7,
     "metadata": {},
     "output_type": "execute_result"
    }
   ],
   "source": [
    "twice = x -> 2*x\n",
    "thrice = x -> 3*x\n",
    "\n",
    "twice(thrice(5))"
   ]
  },
  {
   "cell_type": "markdown",
   "id": "44f59926",
   "metadata": {},
   "source": [
    "However, Julia also supports a more \"mathematically natural\" method of function composition - using the ∘ (\\circ) operator, we can write a very natural composition operation, and then simply \"call the resulting function\":"
   ]
  },
  {
   "cell_type": "code",
   "execution_count": 11,
   "id": "bd41cd93",
   "metadata": {},
   "outputs": [
    {
     "data": {
      "text/plain": [
       "30"
      ]
     },
     "execution_count": 11,
     "metadata": {},
     "output_type": "execute_result"
    }
   ],
   "source": [
    "six_times = twice ∘ thrice\n",
    "\n",
    "six_times(5)"
   ]
  },
  {
   "cell_type": "code",
   "execution_count": 12,
   "id": "23257cf6",
   "metadata": {},
   "outputs": [
    {
     "data": {
      "text/plain": [
       "30"
      ]
     },
     "execution_count": 12,
     "metadata": {},
     "output_type": "execute_result"
    }
   ],
   "source": [
    "(twice ∘ thrice)(5) "
   ]
  },
  {
   "cell_type": "code",
   "execution_count": 22,
   "id": "523280b7",
   "metadata": {},
   "outputs": [
    {
     "data": {
      "text/plain": [
       "12"
      ]
     },
     "execution_count": 22,
     "metadata": {},
     "output_type": "execute_result"
    }
   ],
   "source": [
    "(twice ∘ multiply)(2,3)"
   ]
  },
  {
   "cell_type": "markdown",
   "id": "e33ba93b",
   "metadata": {},
   "source": [
    "(Clearly, this does not work the other way around in the latter case, as _multiply_ needs two arguments...)\n",
    "\n",
    "Function composition is especially nice if you use it with broadcasting (see next...), or with functional programming operators like map()."
   ]
  },
  {
   "cell_type": "code",
   "execution_count": null,
   "id": "23bea650",
   "metadata": {},
   "outputs": [],
   "source": []
  }
 ],
 "metadata": {
  "kernelspec": {
   "display_name": "Julia 1.9.2",
   "language": "julia",
   "name": "julia-1.9"
  },
  "language_info": {
   "file_extension": ".jl",
   "mimetype": "application/julia",
   "name": "julia",
   "version": "1.9.2"
  }
 },
 "nbformat": 4,
 "nbformat_minor": 5
}
