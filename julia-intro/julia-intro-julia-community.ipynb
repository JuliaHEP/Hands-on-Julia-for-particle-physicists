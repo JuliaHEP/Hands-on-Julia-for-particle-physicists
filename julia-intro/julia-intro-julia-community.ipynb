{
 "cells": [
  {
   "cell_type": "markdown",
   "metadata": {},
   "source": [
    "The Julia Community (and getting Julia)\n",
    "==========================================\n",
    "\n",
    "Especially in the modern world, a programming language is no better than the community resources it has on the internet.\n",
    "\n",
    "Whilst the **Julia** community is smaller than that for Python and C++, it's certainly well supported and active - and cross-fertilisation of ideas with other \"newer\" language communities such as *Rust* has led to a number of exciting developments as well."
   ]
  },
  {
   "cell_type": "markdown",
   "metadata": {},
   "source": [
    "Getting Julia\n",
    "--------------\n",
    "\n",
    "### Juliaup \n",
    "(inspired by the Rust toolkit manager, Rustup)\n",
    "\n",
    "### IJulia\n",
    "(Jupyter kernels and interactive Julia)\n",
    "\n",
    "### Managing Julia Packages (Pkg)"
   ]
  },
  {
   "cell_type": "markdown",
   "metadata": {},
   "source": [
    "Getting Help with Julia\n",
    "-----------------------\n",
    "\n",
    "### \"Forum Style\" - the Julia Discourse\n",
    "\n",
    "\n",
    "### \"Real Time\" - the Julia Slack\n",
    "\n",
    "\n",
    "### HEP specific - the JuliaHEP subculture"
   ]
  }
 ],
 "metadata": {
  "language_info": {
   "name": "python"
  },
  "orig_nbformat": 4
 },
 "nbformat": 4,
 "nbformat_minor": 2
}
