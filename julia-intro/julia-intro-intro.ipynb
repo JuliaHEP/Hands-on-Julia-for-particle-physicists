{
 "cells": [
  {
   "cell_type": "markdown",
   "metadata": {},
   "source": [
    "Julia for Python (and C++) programmers\n",
    "========================================\n",
    "\n",
    "Why Julia?\n",
    "----------\n",
    "\n",
    "**Julia** is a relatively young (2012) programming language designed to be effective for scientific workflows - the developers specifically call out Fortran and MATLAB as predecessors in this area. \n",
    "Compared to these, Julia has much of the dynamic and interactive expressiveness of languages such as *Python* (including functionality that is only provided there by the third-party *NumPy* library), whilst leveraging just-in-time compilation and specialisation to allow performance approaching (and sometimes better than) high-performance compiled languages such as *C*, *Modern Fortran* and *Rust*.\n",
    "\n",
    "### List of Julia properties\n",
    "\n",
    "+ High-performance (within 0.5 order of magnitude of C; often at parity)\n",
    "+ Fully Unicode supporting - including LaTeX markup support in REPL, and natural mathematical symbols for common operations\n",
    "+ First-class support in Jupyter (it's the *Ju* bit of the name)\n",
    "+ Supports object-oriented programming (with *multiple dispatch*), Functional-style method chaining, and other modern paradigms\n",
    "+ Dynamic typing, with efficient function specialisation (via JIT) and optional typing supported deeply in language (unlike Python)\n",
    "\n"
   ]
  },
  {
   "cell_type": "markdown",
   "metadata": {},
   "source": [
    "Example Julia Code\n",
    "==================="
   ]
  },
  {
   "cell_type": "code",
   "execution_count": 2,
   "metadata": {},
   "outputs": [
    {
     "name": "stdout",
     "output_type": "stream",
     "text": [
      "Y is greater than X\n",
      "X is greater than Y\n"
     ]
    }
   ],
   "source": [
    "function myfunc(x, y)\n",
    "    if x > y\n",
    "        \"X is greater than Y\\n\"\n",
    "    else\n",
    "        \"Y is greater than X\\n\"\n",
    "    end\n",
    "end\n",
    "\n",
    "print(myfunc(2,3))\n",
    "\n",
    "print(myfunc(2.0, 1))"
   ]
  },
  {
   "cell_type": "markdown",
   "metadata": {
    "vscode": {
     "languageId": "julia"
    }
   },
   "source": [
    "As you can see, Julia's syntax is somewhere between that of Python and MATLAB in style, but it's easy to follow.\n",
    "One subtle thing we're using in this example is that *all* expressions return a value - the \"value\" of the *if* chain is the string that is created as the only operation in that chain... and thus the \"value\" of the function, without an explicit *return* statement, is simply the value of the last expression that was executed before the function ended.\n",
    "\n",
    "We could write this more explicitly as:"
   ]
  },
  {
   "cell_type": "code",
   "execution_count": null,
   "metadata": {},
   "outputs": [],
   "source": [
    "function verbosefunc(x, y)\n",
    "    if x > y \n",
    "        return \"X is greater than Y\\n\"\n",
    "    else \n",
    "        return \"Y is greater than X\\n\"\n",
    "    end\n",
    "end"
   ]
  },
  {
   "cell_type": "markdown",
   "metadata": {},
   "source": [
    "and of course *explicit* return statements are necessary in some places to control flow."
   ]
  }
 ],
 "metadata": {
  "kernelspec": {
   "display_name": "Julia 1.9.2",
   "language": "julia",
   "name": "julia-1.9"
  },
  "language_info": {
   "file_extension": ".jl",
   "mimetype": "application/julia",
   "name": "julia",
   "version": "1.9.2"
  }
 },
 "nbformat": 4,
 "nbformat_minor": 2
}
