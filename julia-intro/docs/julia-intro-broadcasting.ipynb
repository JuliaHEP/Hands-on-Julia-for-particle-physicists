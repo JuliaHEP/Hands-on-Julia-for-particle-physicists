{
 "cells": [
  {
   "cell_type": "markdown",
   "id": "5b6e9de6-c0bd-4a06-8f68-c1db3ec40263",
   "metadata": {
    "slideshow": {
     "slide_type": ""
    },
    "tags": []
   },
   "source": [
    "# Broadcasting"
   ]
  },
  {
   "cell_type": "markdown",
   "id": "fad0b401",
   "metadata": {
    "slideshow": {
     "slide_type": ""
    },
    "tags": []
   },
   "source": [
    "Like _NumPy_ for Python, **Julia** supports \"broadcasting\" over array types - that is, performing an operation on the *elements* of an array, rather than on the array itself as a whole object.\n",
    "\n",
    "Almost all Julia operations support being used in \"broadcasting\" mode - including function calls! In all cases, you just need to prepend the operation with a \".\\\" (a period / full stop) to use this functionality.\n",
    "\n",
    "For example, given a simple array:"
   ]
  },
  {
   "cell_type": "code",
   "execution_count": 2,
   "id": "248503fd",
   "metadata": {},
   "outputs": [
    {
     "data": {
      "text/plain": [
       "5-element Vector{Int64}:\n",
       " 1\n",
       " 2\n",
       " 3\n",
       " 4\n",
       " 5"
      ]
     },
     "execution_count": 2,
     "metadata": {},
     "output_type": "execute_result"
    }
   ],
   "source": [
    "myarray = [1,2,3,4,5]"
   ]
  },
  {
   "cell_type": "markdown",
   "id": "7b1cfe63",
   "metadata": {},
   "source": [
    "We can distribute the \"add 2\" operation over all its elements by simply typing (note `.+` not `+`):"
   ]
  },
  {
   "cell_type": "code",
   "execution_count": 2,
   "id": "8dd817e5",
   "metadata": {},
   "outputs": [
    {
     "data": {
      "text/plain": [
       "5-element Vector{Int64}:\n",
       " 3\n",
       " 4\n",
       " 5\n",
       " 6\n",
       " 7"
      ]
     },
     "execution_count": 2,
     "metadata": {},
     "output_type": "execute_result"
    }
   ],
   "source": [
    "2 .+ myarray"
   ]
  },
  {
   "cell_type": "markdown",
   "id": "2a362b5a",
   "metadata": {},
   "source": [
    "We can also distribute on the left and the right, where we get \"element-wise\" addition when arrays are both the same geometry:"
   ]
  },
  {
   "cell_type": "code",
   "execution_count": 3,
   "id": "01ff4f66",
   "metadata": {},
   "outputs": [
    {
     "data": {
      "text/plain": [
       "5-element Vector{Int64}:\n",
       "  2\n",
       "  4\n",
       "  6\n",
       "  8\n",
       " 10"
      ]
     },
     "execution_count": 3,
     "metadata": {},
     "output_type": "execute_result"
    }
   ],
   "source": [
    "myarray .+ myarray"
   ]
  },
  {
   "cell_type": "markdown",
   "id": "dd912693",
   "metadata": {},
   "source": [
    "And the outer product when they are a row and a column (here using `'` to form the transpose):"
   ]
  },
  {
   "cell_type": "code",
   "execution_count": 3,
   "id": "96c8b12f",
   "metadata": {},
   "outputs": [
    {
     "data": {
      "text/plain": [
       "5×5 Matrix{Int64}:\n",
       " 2  3  4  5   6\n",
       " 3  4  5  6   7\n",
       " 4  5  6  7   8\n",
       " 5  6  7  8   9\n",
       " 6  7  8  9  10"
      ]
     },
     "execution_count": 3,
     "metadata": {},
     "output_type": "execute_result"
    }
   ],
   "source": [
    "myarray' .+ myarray #the ' operator forms the transpose of the array"
   ]
  },
  {
   "cell_type": "markdown",
   "id": "075d9cd8",
   "metadata": {},
   "source": [
    "As mentioned above, we can even distribute function calls - the `()` operator - over our list!"
   ]
  },
  {
   "cell_type": "code",
   "execution_count": 4,
   "id": "83de7925",
   "metadata": {},
   "outputs": [
    {
     "name": "stdout",
     "output_type": "stream",
     "text": [
      "search: \u001b[0m\u001b[1mi\u001b[22m\u001b[0m\u001b[1ms\u001b[22m\u001b[0m\u001b[1me\u001b[22m\u001b[0m\u001b[1mv\u001b[22m\u001b[0m\u001b[1me\u001b[22m\u001b[0m\u001b[1mn\u001b[22m \u001b[0m\u001b[1mi\u001b[22m\u001b[0m\u001b[1ms\u001b[22mint\u001b[0m\u001b[1me\u001b[22mracti\u001b[0m\u001b[1mv\u001b[22m\u001b[0m\u001b[1me\u001b[22m\n",
      "\n"
     ]
    },
    {
     "data": {
      "text/latex": [
       "\\begin{verbatim}\n",
       "iseven(x::Number) -> Bool\n",
       "\\end{verbatim}\n",
       "Return \\texttt{true} if \\texttt{x} is an even integer (that is, an integer divisible by 2), and \\texttt{false} otherwise.\n",
       "\n",
       "\\begin{quote}\n",
       "\\textbf{compat}\n",
       "\n",
       "Julia 1.7\n",
       "\n",
       "Non-\\texttt{Integer} arguments require Julia 1.7 or later.\n",
       "\n",
       "\\end{quote}\n",
       "\\section{Examples}\n",
       "\\begin{verbatim}\n",
       "julia> iseven(9)\n",
       "false\n",
       "\n",
       "julia> iseven(10)\n",
       "true\n",
       "\\end{verbatim}\n"
      ],
      "text/markdown": [
       "```\n",
       "iseven(x::Number) -> Bool\n",
       "```\n",
       "\n",
       "Return `true` if `x` is an even integer (that is, an integer divisible by 2), and `false` otherwise.\n",
       "\n",
       "!!! compat \"Julia 1.7\"\n",
       "    Non-`Integer` arguments require Julia 1.7 or later.\n",
       "\n",
       "\n",
       "# Examples\n",
       "\n",
       "```jldoctest\n",
       "julia> iseven(9)\n",
       "false\n",
       "\n",
       "julia> iseven(10)\n",
       "true\n",
       "```\n"
      ],
      "text/plain": [
       "  \u001b[38;2;235;219;178miseven\u001b[0m(\u001b[0m\u001b[38;2;235;219;178mx\u001b[0m\u001b[38;2;235;219;178m::\u001b[0m\u001b[38;2;235;219;178mNumber\u001b[0m\u001b[38;2;235;219;178m)\u001b[0m \u001b[0m\u001b[38;2;235;219;178m->\u001b[0m \u001b[0m\u001b[38;2;235;219;178mBool\u001b[0m\n",
       "\n",
       "\n",
       "  Return \u001b[36mtrue\u001b[39m if \u001b[36mx\u001b[39m is an even integer (that is, an integer divisible by 2),\n",
       "  and \u001b[36mfalse\u001b[39m otherwise.\n",
       "\n",
       "\u001b[39m\u001b[1m  │ \u001b[22m\u001b[39m\u001b[1mJulia 1.7\u001b[22m\n",
       "\u001b[39m\u001b[1m  │\u001b[22m\n",
       "\u001b[39m\u001b[1m  │\u001b[22m  Non-\u001b[36mInteger\u001b[39m arguments require Julia 1.7 or later.\n",
       "\n",
       "\u001b[1m  Examples\u001b[22m\n",
       "\u001b[1m  ≡≡≡≡≡≡≡≡≡≡\u001b[22m\n",
       "\n",
       "  \u001b[31;1mjulia> \u001b[0m\u001b[38;2;235;219;178miseven\u001b[0m(\u001b[0m\u001b[38;2;211;134;155m9\u001b[0m\u001b[38;2;235;219;178m)\u001b[0m\n",
       "  \u001b[0mfalse\n",
       "  \n",
       "  \u001b[31;1mjulia> \u001b[0m\u001b[38;2;235;219;178miseven\u001b[0m(\u001b[0m\u001b[38;2;211;134;155m10\u001b[0m\u001b[38;2;235;219;178m)\u001b[0m\n",
       "  \u001b[0mtrue\n"
      ]
     },
     "execution_count": 4,
     "metadata": {},
     "output_type": "execute_result"
    }
   ],
   "source": [
    "?iseven  #demonstrate how the online docs work"
   ]
  },
  {
   "cell_type": "code",
   "execution_count": 5,
   "id": "9f476631",
   "metadata": {},
   "outputs": [
    {
     "data": {
      "text/plain": [
       "5-element BitVector:\n",
       " 0\n",
       " 1\n",
       " 0\n",
       " 1\n",
       " 0"
      ]
     },
     "execution_count": 5,
     "metadata": {},
     "output_type": "execute_result"
    }
   ],
   "source": [
    "iseven.(myarray)"
   ]
  },
  {
   "cell_type": "markdown",
   "id": "9fef8a7f",
   "metadata": {},
   "source": [
    "This kind of \"implicit iteration\" is very powerful, and can be used to very consisely represent a number of transformations.\n",
    "For example, making use of the Julia \"ImageShow\" package family to naturally display a 2d matrix as an image..."
   ]
  },
  {
   "cell_type": "code",
   "execution_count": 6,
   "id": "8925c30a",
   "metadata": {},
   "outputs": [],
   "source": [
    "using ImageCore, ImageInTerminal, ImageShow"
   ]
  },
  {
   "cell_type": "markdown",
   "id": "c9a73bc4",
   "metadata": {},
   "source": [
    "We can define a simple function - the Mandelbrot set membership function:"
   ]
  },
  {
   "cell_type": "code",
   "execution_count": 7,
   "id": "97dd700d",
   "metadata": {},
   "outputs": [
    {
     "data": {
      "text/plain": [
       "mk (generic function with 1 method)"
      ]
     },
     "execution_count": 7,
     "metadata": {},
     "output_type": "execute_result"
    }
   ],
   "source": [
    "function mk(c)\n",
    "  i = 0; z = 0\n",
    "  while i < 255 && abs(z) < 2.0\n",
    "    z = z^2 + c\n",
    "    i += 1\n",
    "  end\n",
    "  i\n",
    "end"
   ]
  },
  {
   "cell_type": "markdown",
   "id": "1b75664a",
   "metadata": {},
   "source": [
    "And a matrix representing a subset of the complex plane:"
   ]
  },
  {
   "cell_type": "code",
   "execution_count": 8,
   "id": "8cb1a753",
   "metadata": {},
   "outputs": [],
   "source": [
    "argand = [ (i+j*1im) / 100 for i in -200:200, j in -200:200 ] ;\n"
   ]
  },
  {
   "cell_type": "markdown",
   "id": "cd11d9ee",
   "metadata": {},
   "source": [
    "And then simply apply a composed function - using `@.` to denote every operation should be broadcasted - to calculate the Mandelbrot set for all points, map them to a value from 0 to 1 and then represent them all as Grayscale pixels:"
   ]
  },
  {
   "cell_type": "code",
   "execution_count": 9,
   "id": "e72a4e03-0d39-4885-aa2a-bbf889ff3786",
   "metadata": {},
   "outputs": [
    {
     "data": {
      "image/png": "[encoded data removed]",
      "text/html": [
       "<img src=\"data:image/png;base64,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\">"
      ],
      "text/plain": [
       "\u001b[0m\u001b[38;2;0;0;0;48;2;1;1;1m▀\u001b[38;2;1;1;1;48;2;1;1;1m▀\u001b[38;2;1;1;1;48;2;1;1;1m▀\u001b[38;2;1;1;1;48;2;1;1;1m▀\u001b[38;2;1;1;1;48;2;1;1;1m▀\u001b[38;2;1;1;1;48;2;1;1;1m▀\u001b[38;2;1;1;1;48;2;1;1;1m▀\u001b[38;2;1;1;1;48;2;1;1;1m▀\u001b[38;2;1;1;1;48;2;1;1;1m▀\u001b[38;2;1;1;1;48;2;1;1;1m▀\u001b[38;2;1;1;1;48;2;1;1;1m▀\u001b[38;2;1;1;1;48;2;1;1;1m▀\u001b[38;2;1;1;1;48;2;1;1;1m▀\u001b[38;2;1;1;1;48;2;1;1;1m▀\u001b[38;2;1;1;1;48;2;1;1;1m▀\u001b[38;2;1;1;1;48;2;1;1;1m▀\u001b[38;2;1;1;1;48;2;1;1;1m▀\u001b[38;2;1;1;1;48;2;1;1;1m▀\u001b[38;2;1;1;1;48;2;2;2;2m▀\u001b[38;2;1;1;1;48;2;2;2;2m▀\u001b[38;2;1;1;1;48;2;2;2;2m▀\u001b[38;2;1;1;1;48;2;3;3;3m▀\u001b[38;2;1;1;1;48;2;3;3;3m▀\u001b[38;2;1;1;1;48;2;4;4;4m▀\u001b[38;2;2;2;2;48;2;5;5;5m▀\u001b[38;2;16;16;16;48;2;37;37;37m▀\u001b[38;2;2;2;2;48;2;5;5;5m▀\u001b[38;2;1;1;1;48;2;4;4;4m▀\u001b[38;2;1;1;1;48;2;3;3;3m▀\u001b[38;2;1;1;1;48;2;3;3;3m▀\u001b[38;2;1;1;1;48;2;2;2;2m▀\u001b[38;2;1;1;1;48;2;2;2;2m▀\u001b[38;2;1;1;1;48;2;2;2;2m▀\u001b[38;2;1;1;1;48;2;1;1;1m▀\u001b[38;2;1;1;1;48;2;1;1;1m▀\u001b[38;2;1;1;1;48;2;1;1;1m▀\u001b[38;2;1;1;1;48;2;1;1;1m▀\u001b[38;2;1;1;1;48;2;1;1;1m▀\u001b[38;2;1;1;1;48;2;1;1;1m▀\u001b[38;2;1;1;1;48;2;1;1;1m▀\u001b[38;2;1;1;1;48;2;1;1;1m▀\u001b[38;2;1;1;1;48;2;1;1;1m▀\u001b[38;2;1;1;1;48;2;1;1;1m▀\u001b[38;2;1;1;1;48;2;1;1;1m▀\u001b[38;2;1;1;1;48;2;1;1;1m▀\u001b[38;2;1;1;1;48;2;1;1;1m▀\u001b[38;2;1;1;1;48;2;1;1;1m▀\u001b[38;2;1;1;1;48;2;1;1;1m▀\u001b[38;2;1;1;1;48;2;1;1;1m▀\u001b[38;2;1;1;1;48;2;1;1;1m▀\u001b[38;2;0;0;0;48;2;1;1;1m▀\u001b[0m\n",
       "\u001b[0m\u001b[38;2;1;1;1;48;2;1;1;1m▀\u001b[38;2;1;1;1;48;2;1;1;1m▀\u001b[38;2;1;1;1;48;2;1;1;1m▀\u001b[38;2;1;1;1;48;2;1;1;1m▀\u001b[38;2;1;1;1;48;2;1;1;1m▀\u001b[38;2;1;1;1;48;2;1;1;1m▀\u001b[38;2;1;1;1;48;2;1;1;1m▀\u001b[38;2;1;1;1;48;2;1;1;1m▀\u001b[38;2;1;1;1;48;2;1;1;1m▀\u001b[38;2;1;1;1;48;2;1;1;1m▀\u001b[38;2;1;1;1;48;2;1;1;1m▀\u001b[38;2;1;1;1;48;2;1;1;1m▀\u001b[38;2;1;1;1;48;2;1;1;1m▀\u001b[38;2;1;1;1;48;2;1;1;1m▀\u001b[38;2;1;1;1;48;2;2;2;2m▀\u001b[38;2;1;1;1;48;2;2;2;2m▀\u001b[38;2;2;2;2;48;2;3;3;3m▀\u001b[38;2;2;2;2;48;2;3;3;3m▀\u001b[38;2;3;3;3;48;2;3;3;3m▀\u001b[38;2;3;3;3;48;2;3;3;3m▀\u001b[38;2;3;3;3;48;2;3;3;3m▀\u001b[38;2;3;3;3;48;2;4;4;4m▀\u001b[38;2;4;4;4;48;2;4;4;4m▀\u001b[38;2;4;4;4;48;2;4;4;4m▀\u001b[38;2;5;5;5;48;2;7;7;7m▀\u001b[38;2;38;38;38;48;2;53;53;53m▀\u001b[38;2;5;5;5;48;2;7;7;7m▀\u001b[38;2;4;4;4;48;2;4;4;4m▀\u001b[38;2;4;4;4;48;2;4;4;4m▀\u001b[38;2;3;3;3;48;2;4;4;4m▀\u001b[38;2;3;3;3;48;2;3;3;3m▀\u001b[38;2;3;3;3;48;2;3;3;3m▀\u001b[38;2;3;3;3;48;2;3;3;3m▀\u001b[38;2;2;2;2;48;2;3;3;3m▀\u001b[38;2;2;2;2;48;2;3;3;3m▀\u001b[38;2;1;1;1;48;2;2;2;2m▀\u001b[38;2;1;1;1;48;2;2;2;2m▀\u001b[38;2;1;1;1;48;2;1;1;1m▀\u001b[38;2;1;1;1;48;2;1;1;1m▀\u001b[38;2;1;1;1;48;2;1;1;1m▀\u001b[38;2;1;1;1;48;2;1;1;1m▀\u001b[38;2;1;1;1;48;2;1;1;1m▀\u001b[38;2;1;1;1;48;2;1;1;1m▀\u001b[38;2;1;1;1;48;2;1;1;1m▀\u001b[38;2;1;1;1;48;2;1;1;1m▀\u001b[38;2;1;1;1;48;2;1;1;1m▀\u001b[38;2;1;1;1;48;2;1;1;1m▀\u001b[38;2;1;1;1;48;2;1;1;1m▀\u001b[38;2;1;1;1;48;2;1;1;1m▀\u001b[38;2;1;1;1;48;2;1;1;1m▀\u001b[38;2;1;1;1;48;2;1;1;1m▀\u001b[0m\n",
       "\u001b[0m\u001b[38;2;1;1;1;48;2;1;1;1m▀\u001b[38;2;1;1;1;48;2;1;1;1m▀\u001b[38;2;1;1;1;48;2;1;1;1m▀\u001b[38;2;1;1;1;48;2;1;1;1m▀\u001b[38;2;1;1;1;48;2;1;1;1m▀\u001b[38;2;1;1;1;48;2;1;1;1m▀\u001b[38;2;1;1;1;48;2;1;1;1m▀\u001b[38;2;1;1;1;48;2;1;1;1m▀\u001b[38;2;1;1;1;48;2;1;1;1m▀\u001b[38;2;1;1;1;48;2;1;1;1m▀\u001b[38;2;1;1;1;48;2;1;1;1m▀\u001b[38;2;1;1;1;48;2;2;2;2m▀\u001b[38;2;2;2;2;48;2;2;2;2m▀\u001b[38;2;2;2;2;48;2;2;2;2m▀\u001b[38;2;2;2;2;48;2;3;3;3m▀\u001b[38;2;3;3;3;48;2;3;3;3m▀\u001b[38;2;3;3;3;48;2;3;3;3m▀\u001b[38;2;3;3;3;48;2;3;3;3m▀\u001b[38;2;3;3;3;48;2;3;3;3m▀\u001b[38;2;3;3;3;48;2;3;3;3m▀\u001b[38;2;3;3;3;48;2;3;3;3m▀\u001b[38;2;4;4;4;48;2;4;4;4m▀\u001b[38;2;4;4;4;48;2;4;4;4m▀\u001b[38;2;5;5;5;48;2;5;5;5m▀\u001b[38;2;6;6;6;48;2;7;7;7m▀\u001b[38;2;40;40;40;48;2;40;40;40m▀\u001b[38;2;6;6;6;48;2;7;7;7m▀\u001b[38;2;5;5;5;48;2;5;5;5m▀\u001b[38;2;4;4;4;48;2;4;4;4m▀\u001b[38;2;4;4;4;48;2;4;4;4m▀\u001b[38;2;3;3;3;48;2;3;3;3m▀\u001b[38;2;3;3;3;48;2;3;3;3m▀\u001b[38;2;3;3;3;48;2;3;3;3m▀\u001b[38;2;3;3;3;48;2;3;3;3m▀\u001b[38;2;3;3;3;48;2;3;3;3m▀\u001b[38;2;3;3;3;48;2;3;3;3m▀\u001b[38;2;2;2;2;48;2;3;3;3m▀\u001b[38;2;2;2;2;48;2;2;2;2m▀\u001b[38;2;2;2;2;48;2;2;2;2m▀\u001b[38;2;1;1;1;48;2;2;2;2m▀\u001b[38;2;1;1;1;48;2;1;1;1m▀\u001b[38;2;1;1;1;48;2;1;1;1m▀\u001b[38;2;1;1;1;48;2;1;1;1m▀\u001b[38;2;1;1;1;48;2;1;1;1m▀\u001b[38;2;1;1;1;48;2;1;1;1m▀\u001b[38;2;1;1;1;48;2;1;1;1m▀\u001b[38;2;1;1;1;48;2;1;1;1m▀\u001b[38;2;1;1;1;48;2;1;1;1m▀\u001b[38;2;1;1;1;48;2;1;1;1m▀\u001b[38;2;1;1;1;48;2;1;1;1m▀\u001b[38;2;1;1;1;48;2;1;1;1m▀\u001b[0m\n",
       "\u001b[0m\u001b[38;2;1;1;1;48;2;1;1;1m▀\u001b[38;2;1;1;1;48;2;1;1;1m▀\u001b[38;2;1;1;1;48;2;1;1;1m▀\u001b[38;2;1;1;1;48;2;1;1;1m▀\u001b[38;2;1;1;1;48;2;1;1;1m▀\u001b[38;2;1;1;1;48;2;1;1;1m▀\u001b[38;2;1;1;1;48;2;1;1;1m▀\u001b[38;2;1;1;1;48;2;1;1;1m▀\u001b[38;2;1;1;1;48;2;2;2;2m▀\u001b[38;2;2;2;2;48;2;2;2;2m▀\u001b[38;2;2;2;2;48;2;2;2;2m▀\u001b[38;2;2;2;2;48;2;2;2;2m▀\u001b[38;2;2;2;2;48;2;2;2;2m▀\u001b[38;2;3;3;3;48;2;3;3;3m▀\u001b[38;2;3;3;3;48;2;3;3;3m▀\u001b[38;2;3;3;3;48;2;3;3;3m▀\u001b[38;2;3;3;3;48;2;3;3;3m▀\u001b[38;2;3;3;3;48;2;3;3;3m▀\u001b[38;2;3;3;3;48;2;3;3;3m▀\u001b[38;2;3;3;3;48;2;3;3;3m▀\u001b[38;2;4;4;4;48;2;4;4;4m▀\u001b[38;2;4;4;4;48;2;5;5;5m▀\u001b[38;2;5;5;5;48;2;5;5;5m▀\u001b[38;2;6;6;6;48;2;8;8;8m▀\u001b[38;2;8;8;8;48;2;11;11;11m▀\u001b[38;2;41;41;41;48;2;50;50;50m▀\u001b[38;2;8;8;8;48;2;11;11;11m▀\u001b[38;2;6;6;6;48;2;8;8;8m▀\u001b[38;2;5;5;5;48;2;5;5;5m▀\u001b[38;2;4;4;4;48;2;5;5;5m▀\u001b[38;2;4;4;4;48;2;4;4;4m▀\u001b[38;2;3;3;3;48;2;3;3;3m▀\u001b[38;2;3;3;3;48;2;3;3;3m▀\u001b[38;2;3;3;3;48;2;3;3;3m▀\u001b[38;2;3;3;3;48;2;3;3;3m▀\u001b[38;2;3;3;3;48;2;3;3;3m▀\u001b[38;2;3;3;3;48;2;3;3;3m▀\u001b[38;2;3;3;3;48;2;3;3;3m▀\u001b[38;2;2;2;2;48;2;2;2;2m▀\u001b[38;2;2;2;2;48;2;2;2;2m▀\u001b[38;2;2;2;2;48;2;2;2;2m▀\u001b[38;2;2;2;2;48;2;2;2;2m▀\u001b[38;2;1;1;1;48;2;2;2;2m▀\u001b[38;2;1;1;1;48;2;1;1;1m▀\u001b[38;2;1;1;1;48;2;1;1;1m▀\u001b[38;2;1;1;1;48;2;1;1;1m▀\u001b[38;2;1;1;1;48;2;1;1;1m▀\u001b[38;2;1;1;1;48;2;1;1;1m▀\u001b[38;2;1;1;1;48;2;1;1;1m▀\u001b[38;2;1;1;1;48;2;1;1;1m▀\u001b[38;2;1;1;1;48;2;1;1;1m▀\u001b[0m\n",
       "\u001b[0m\u001b[38;2;1;1;1;48;2;1;1;1m▀\u001b[38;2;1;1;1;48;2;1;1;1m▀\u001b[38;2;1;1;1;48;2;1;1;1m▀\u001b[38;2;1;1;1;48;2;1;1;1m▀\u001b[38;2;1;1;1;48;2;1;1;1m▀\u001b[38;2;1;1;1;48;2;1;1;1m▀\u001b[38;2;1;1;1;48;2;2;2;2m▀\u001b[38;2;2;2;2;48;2;2;2;2m▀\u001b[38;2;2;2;2;48;2;2;2;2m▀\u001b[38;2;2;2;2;48;2;2;2;2m▀\u001b[38;2;2;2;2;48;2;2;2;2m▀\u001b[38;2;2;2;2;48;2;3;3;3m▀\u001b[38;2;3;3;3;48;2;3;3;3m▀\u001b[38;2;3;3;3;48;2;3;3;3m▀\u001b[38;2;3;3;3;48;2;3;3;3m▀\u001b[38;2;3;3;3;48;2;3;3;3m▀\u001b[38;2;3;3;3;48;2;3;3;3m▀\u001b[38;2;3;3;3;48;2;3;3;3m▀\u001b[38;2;3;3;3;48;2;3;3;3m▀\u001b[38;2;4;4;4;48;2;5;5;5m▀\u001b[38;2;5;5;5;48;2;9;9;9m▀\u001b[38;2;6;6;6;48;2;10;10;10m▀\u001b[38;2;7;7;7;48;2;9;9;9m▀\u001b[38;2;9;9;9;48;2;22;22;22m▀\u001b[38;2;50;50;50;48;2;98;98;98m▀\u001b[38;2;161;161;161;48;2;231;231;231m▀\u001b[38;2;50;50;50;48;2;98;98;98m▀\u001b[38;2;9;9;9;48;2;22;22;22m▀\u001b[38;2;7;7;7;48;2;9;9;9m▀\u001b[38;2;6;6;6;48;2;10;10;10m▀\u001b[38;2;5;5;5;48;2;9;9;9m▀\u001b[38;2;4;4;4;48;2;5;5;5m▀\u001b[38;2;3;3;3;48;2;3;3;3m▀\u001b[38;2;3;3;3;48;2;3;3;3m▀\u001b[38;2;3;3;3;48;2;3;3;3m▀\u001b[38;2;3;3;3;48;2;3;3;3m▀\u001b[38;2;3;3;3;48;2;3;3;3m▀\u001b[38;2;3;3;3;48;2;3;3;3m▀\u001b[38;2;3;3;3;48;2;3;3;3m▀\u001b[38;2;2;2;2;48;2;3;3;3m▀\u001b[38;2;2;2;2;48;2;2;2;2m▀\u001b[38;2;2;2;2;48;2;2;2;2m▀\u001b[38;2;2;2;2;48;2;2;2;2m▀\u001b[38;2;2;2;2;48;2;2;2;2m▀\u001b[38;2;1;1;1;48;2;2;2;2m▀\u001b[38;2;1;1;1;48;2;1;1;1m▀\u001b[38;2;1;1;1;48;2;1;1;1m▀\u001b[38;2;1;1;1;48;2;1;1;1m▀\u001b[38;2;1;1;1;48;2;1;1;1m▀\u001b[38;2;1;1;1;48;2;1;1;1m▀\u001b[38;2;1;1;1;48;2;1;1;1m▀\u001b[0m\n",
       "\u001b[0m\u001b[38;2;1;1;1;48;2;1;1;1m▀\u001b[38;2;1;1;1;48;2;1;1;1m▀\u001b[38;2;1;1;1;48;2;1;1;1m▀\u001b[38;2;1;1;1;48;2;1;1;1m▀\u001b[38;2;1;1;1;48;2;1;1;1m▀\u001b[38;2;1;1;1;48;2;2;2;2m▀\u001b[38;2;2;2;2;48;2;2;2;2m▀\u001b[38;2;2;2;2;48;2;2;2;2m▀\u001b[38;2;2;2;2;48;2;2;2;2m▀\u001b[38;2;2;2;2;48;2;2;2;2m▀\u001b[38;2;2;2;2;48;2;3;3;3m▀\u001b[38;2;3;3;3;48;2;3;3;3m▀\u001b[38;2;3;3;3;48;2;3;3;3m▀\u001b[38;2;3;3;3;48;2;3;3;3m▀\u001b[38;2;3;3;3;48;2;3;3;3m▀\u001b[38;2;3;3;3;48;2;3;3;3m▀\u001b[38;2;3;3;3;48;2;3;3;3m▀\u001b[38;2;3;3;3;48;2;4;4;4m▀\u001b[38;2;4;4;4;48;2;4;4;4m▀\u001b[38;2;5;5;5;48;2;5;5;5m▀\u001b[38;2;8;8;8;48;2;7;7;7m▀\u001b[38;2;18;18;18;48;2;23;23;23m▀\u001b[38;2;49;49;49;48;2;160;160;160m▀\u001b[38;2;144;144;144;48;2;247;247;247m▀\u001b[38;2;227;227;227;48;2;255;255;255m▀\u001b[38;2;249;249;249;48;2;255;255;255m▀\u001b[38;2;227;227;227;48;2;255;255;255m▀\u001b[38;2;144;144;144;48;2;247;247;247m▀\u001b[38;2;49;49;49;48;2;160;160;160m▀\u001b[38;2;18;18;18;48;2;23;23;23m▀\u001b[38;2;8;8;8;48;2;7;7;7m▀\u001b[38;2;5;5;5;48;2;5;5;5m▀\u001b[38;2;4;4;4;48;2;4;4;4m▀\u001b[38;2;3;3;3;48;2;4;4;4m▀\u001b[38;2;3;3;3;48;2;3;3;3m▀\u001b[38;2;3;3;3;48;2;3;3;3m▀\u001b[38;2;3;3;3;48;2;3;3;3m▀\u001b[38;2;3;3;3;48;2;3;3;3m▀\u001b[38;2;3;3;3;48;2;3;3;3m▀\u001b[38;2;3;3;3;48;2;3;3;3m▀\u001b[38;2;2;2;2;48;2;3;3;3m▀\u001b[38;2;2;2;2;48;2;2;2;2m▀\u001b[38;2;2;2;2;48;2;2;2;2m▀\u001b[38;2;2;2;2;48;2;2;2;2m▀\u001b[38;2;2;2;2;48;2;2;2;2m▀\u001b[38;2;1;1;1;48;2;2;2;2m▀\u001b[38;2;1;1;1;48;2;1;1;1m▀\u001b[38;2;1;1;1;48;2;1;1;1m▀\u001b[38;2;1;1;1;48;2;1;1;1m▀\u001b[38;2;1;1;1;48;2;1;1;1m▀\u001b[38;2;1;1;1;48;2;1;1;1m▀\u001b[0m\n",
       "\u001b[0m\u001b[38;2;1;1;1;48;2;1;1;1m▀\u001b[38;2;1;1;1;48;2;1;1;1m▀\u001b[38;2;1;1;1;48;2;1;1;1m▀\u001b[38;2;1;1;1;48;2;1;1;1m▀\u001b[38;2;2;2;2;48;2;2;2;2m▀\u001b[38;2;2;2;2;48;2;2;2;2m▀\u001b[38;2;2;2;2;48;2;2;2;2m▀\u001b[38;2;2;2;2;48;2;2;2;2m▀\u001b[38;2;2;2;2;48;2;2;2;2m▀\u001b[38;2;2;2;2;48;2;2;2;2m▀\u001b[38;2;3;3;3;48;2;3;3;3m▀\u001b[38;2;3;3;3;48;2;3;3;3m▀\u001b[38;2;3;3;3;48;2;3;3;3m▀\u001b[38;2;3;3;3;48;2;3;3;3m▀\u001b[38;2;3;3;3;48;2;3;3;3m▀\u001b[38;2;3;3;3;48;2;3;3;3m▀\u001b[38;2;3;3;3;48;2;4;4;4m▀\u001b[38;2;4;4;4;48;2;4;4;4m▀\u001b[38;2;5;5;5;48;2;5;5;5m▀\u001b[38;2;5;5;5;48;2;5;5;5m▀\u001b[38;2;8;8;8;48;2;7;7;7m▀\u001b[38;2;26;26;26;48;2;26;26;26m▀\u001b[38;2;183;183;183;48;2;185;185;185m▀\u001b[38;2;255;255;255;48;2;255;255;255m▀\u001b[38;2;255;255;255;48;2;255;255;255m▀\u001b[38;2;255;255;255;48;2;255;255;255m▀\u001b[38;2;255;255;255;48;2;255;255;255m▀\u001b[38;2;255;255;255;48;2;255;255;255m▀\u001b[38;2;183;183;183;48;2;185;185;185m▀\u001b[38;2;26;26;26;48;2;26;26;26m▀\u001b[38;2;8;8;8;48;2;7;7;7m▀\u001b[38;2;5;5;5;48;2;5;5;5m▀\u001b[38;2;5;5;5;48;2;5;5;5m▀\u001b[38;2;4;4;4;48;2;4;4;4m▀\u001b[38;2;3;3;3;48;2;4;4;4m▀\u001b[38;2;3;3;3;48;2;3;3;3m▀\u001b[38;2;3;3;3;48;2;3;3;3m▀\u001b[38;2;3;3;3;48;2;3;3;3m▀\u001b[38;2;3;3;3;48;2;3;3;3m▀\u001b[38;2;3;3;3;48;2;3;3;3m▀\u001b[38;2;3;3;3;48;2;3;3;3m▀\u001b[38;2;2;2;2;48;2;2;2;2m▀\u001b[38;2;2;2;2;48;2;2;2;2m▀\u001b[38;2;2;2;2;48;2;2;2;2m▀\u001b[38;2;2;2;2;48;2;2;2;2m▀\u001b[38;2;2;2;2;48;2;2;2;2m▀\u001b[38;2;2;2;2;48;2;2;2;2m▀\u001b[38;2;1;1;1;48;2;1;1;1m▀\u001b[38;2;1;1;1;48;2;1;1;1m▀\u001b[38;2;1;1;1;48;2;1;1;1m▀\u001b[38;2;1;1;1;48;2;1;1;1m▀\u001b[0m\n",
       "\u001b[0m\u001b[38;2;1;1;1;48;2;1;1;1m▀\u001b[38;2;1;1;1;48;2;1;1;1m▀\u001b[38;2;1;1;1;48;2;1;1;1m▀\u001b[38;2;2;2;2;48;2;2;2;2m▀\u001b[38;2;2;2;2;48;2;2;2;2m▀\u001b[38;2;2;2;2;48;2;2;2;2m▀\u001b[38;2;2;2;2;48;2;2;2;2m▀\u001b[38;2;2;2;2;48;2;2;2;2m▀\u001b[38;2;2;2;2;48;2;2;2;2m▀\u001b[38;2;3;3;3;48;2;3;3;3m▀\u001b[38;2;3;3;3;48;2;3;3;3m▀\u001b[38;2;3;3;3;48;2;3;3;3m▀\u001b[38;2;3;3;3;48;2;3;3;3m▀\u001b[38;2;3;3;3;48;2;3;3;3m▀\u001b[38;2;3;3;3;48;2;4;4;4m▀\u001b[38;2;4;4;4;48;2;4;4;4m▀\u001b[38;2;4;4;4;48;2;4;4;4m▀\u001b[38;2;5;5;5;48;2;5;5;5m▀\u001b[38;2;5;5;5;48;2;6;6;6m▀\u001b[38;2;6;6;6;48;2;6;6;6m▀\u001b[38;2;7;7;7;48;2;8;8;8m▀\u001b[38;2;13;13;13;48;2;10;10;10m▀\u001b[38;2;105;105;105;48;2;26;26;26m▀\u001b[38;2;244;244;244;48;2;134;134;134m▀\u001b[38;2;255;255;255;48;2;230;230;230m▀\u001b[38;2;255;255;255;48;2;250;250;250m▀\u001b[38;2;255;255;255;48;2;230;230;230m▀\u001b[38;2;244;244;244;48;2;134;134;134m▀\u001b[38;2;105;105;105;48;2;26;26;26m▀\u001b[38;2;13;13;13;48;2;10;10;10m▀\u001b[38;2;7;7;7;48;2;8;8;8m▀\u001b[38;2;6;6;6;48;2;6;6;6m▀\u001b[38;2;5;5;5;48;2;6;6;6m▀\u001b[38;2;5;5;5;48;2;5;5;5m▀\u001b[38;2;4;4;4;48;2;4;4;4m▀\u001b[38;2;4;4;4;48;2;4;4;4m▀\u001b[38;2;3;3;3;48;2;4;4;4m▀\u001b[38;2;3;3;3;48;2;3;3;3m▀\u001b[38;2;3;3;3;48;2;3;3;3m▀\u001b[38;2;3;3;3;48;2;3;3;3m▀\u001b[38;2;3;3;3;48;2;3;3;3m▀\u001b[38;2;3;3;3;48;2;3;3;3m▀\u001b[38;2;2;2;2;48;2;2;2;2m▀\u001b[38;2;2;2;2;48;2;2;2;2m▀\u001b[38;2;2;2;2;48;2;2;2;2m▀\u001b[38;2;2;2;2;48;2;2;2;2m▀\u001b[38;2;2;2;2;48;2;2;2;2m▀\u001b[38;2;2;2;2;48;2;2;2;2m▀\u001b[38;2;1;1;1;48;2;1;1;1m▀\u001b[38;2;1;1;1;48;2;1;1;1m▀\u001b[38;2;1;1;1;48;2;1;1;1m▀\u001b[0m\n",
       "\u001b[0m\u001b[38;2;1;1;1;48;2;1;1;1m▀\u001b[38;2;1;1;1;48;2;1;1;1m▀\u001b[38;2;2;2;2;48;2;2;2;2m▀\u001b[38;2;2;2;2;48;2;2;2;2m▀\u001b[38;2;2;2;2;48;2;2;2;2m▀\u001b[38;2;2;2;2;48;2;2;2;2m▀\u001b[38;2;2;2;2;48;2;2;2;2m▀\u001b[38;2;2;2;2;48;2;2;2;2m▀\u001b[38;2;2;2;2;48;2;2;2;2m▀\u001b[38;2;3;3;3;48;2;3;3;3m▀\u001b[38;2;3;3;3;48;2;3;3;3m▀\u001b[38;2;3;3;3;48;2;3;3;3m▀\u001b[38;2;3;3;3;48;2;3;3;3m▀\u001b[38;2;4;4;4;48;2;4;4;4m▀\u001b[38;2;4;4;4;48;2;4;4;4m▀\u001b[38;2;4;4;4;48;2;4;4;4m▀\u001b[38;2;5;5;5;48;2;6;6;6m▀\u001b[38;2;6;6;6;48;2;10;10;10m▀\u001b[38;2;6;6;6;48;2;10;10;10m▀\u001b[38;2;11;11;11;48;2;48;48;48m▀\u001b[38;2;20;20;20;48;2;142;142;142m▀\u001b[38;2;62;62;62;48;2;222;222;222m▀\u001b[38;2;129;129;129;48;2;252;252;252m▀\u001b[38;2;185;185;185;48;2;255;255;255m▀\u001b[38;2;228;228;228;48;2;255;255;255m▀\u001b[38;2;247;247;247;48;2;255;255;255m▀\u001b[38;2;228;228;228;48;2;255;255;255m▀\u001b[38;2;185;185;185;48;2;255;255;255m▀\u001b[38;2;129;129;129;48;2;252;252;252m▀\u001b[38;2;62;62;62;48;2;222;222;222m▀\u001b[38;2;20;20;20;48;2;142;142;142m▀\u001b[38;2;11;11;11;48;2;48;48;48m▀\u001b[38;2;6;6;6;48;2;10;10;10m▀\u001b[38;2;6;6;6;48;2;10;10;10m▀\u001b[38;2;5;5;5;48;2;6;6;6m▀\u001b[38;2;4;4;4;48;2;4;4;4m▀\u001b[38;2;4;4;4;48;2;4;4;4m▀\u001b[38;2;4;4;4;48;2;4;4;4m▀\u001b[38;2;3;3;3;48;2;3;3;3m▀\u001b[38;2;3;3;3;48;2;3;3;3m▀\u001b[38;2;3;3;3;48;2;3;3;3m▀\u001b[38;2;3;3;3;48;2;3;3;3m▀\u001b[38;2;2;2;2;48;2;2;2;2m▀\u001b[38;2;2;2;2;48;2;2;2;2m▀\u001b[38;2;2;2;2;48;2;2;2;2m▀\u001b[38;2;2;2;2;48;2;2;2;2m▀\u001b[38;2;2;2;2;48;2;2;2;2m▀\u001b[38;2;2;2;2;48;2;2;2;2m▀\u001b[38;2;2;2;2;48;2;2;2;2m▀\u001b[38;2;1;1;1;48;2;1;1;1m▀\u001b[38;2;1;1;1;48;2;1;1;1m▀\u001b[0m\n",
       "\u001b[0m\u001b[38;2;1;1;1;48;2;1;1;1m▀\u001b[38;2;1;1;1;48;2;2;2;2m▀\u001b[38;2;2;2;2;48;2;2;2;2m▀\u001b[38;2;2;2;2;48;2;2;2;2m▀\u001b[38;2;2;2;2;48;2;2;2;2m▀\u001b[38;2;2;2;2;48;2;2;2;2m▀\u001b[38;2;2;2;2;48;2;2;2;2m▀\u001b[38;2;2;2;2;48;2;2;2;2m▀\u001b[38;2;2;2;2;48;2;2;2;2m▀\u001b[38;2;3;3;3;48;2;3;3;3m▀\u001b[38;2;3;3;3;48;2;3;3;3m▀\u001b[38;2;3;3;3;48;2;3;3;3m▀\u001b[38;2;4;4;4;48;2;4;4;4m▀\u001b[38;2;4;4;4;48;2;4;4;4m▀\u001b[38;2;4;4;4;48;2;5;5;5m▀\u001b[38;2;5;5;5;48;2;6;6;6m▀\u001b[38;2;9;9;9;48;2;8;8;8m▀\u001b[38;2;36;36;36;48;2;45;45;45m▀\u001b[38;2;90;90;90;48;2;200;200;200m▀\u001b[38;2;149;149;149;48;2;247;247;247m▀\u001b[38;2;247;247;247;48;2;255;255;255m▀\u001b[38;2;255;255;255;48;2;255;255;255m▀\u001b[38;2;255;255;255;48;2;255;255;255m▀\u001b[38;2;255;255;255;48;2;255;255;255m▀\u001b[38;2;255;255;255;48;2;255;255;255m▀\u001b[38;2;255;255;255;48;2;255;255;255m▀\u001b[38;2;255;255;255;48;2;255;255;255m▀\u001b[38;2;255;255;255;48;2;255;255;255m▀\u001b[38;2;255;255;255;48;2;255;255;255m▀\u001b[38;2;255;255;255;48;2;255;255;255m▀\u001b[38;2;247;247;247;48;2;255;255;255m▀\u001b[38;2;149;149;149;48;2;247;247;247m▀\u001b[38;2;90;90;90;48;2;200;200;200m▀\u001b[38;2;36;36;36;48;2;45;45;45m▀\u001b[38;2;9;9;9;48;2;8;8;8m▀\u001b[38;2;5;5;5;48;2;6;6;6m▀\u001b[38;2;4;4;4;48;2;5;5;5m▀\u001b[38;2;4;4;4;48;2;4;4;4m▀\u001b[38;2;4;4;4;48;2;4;4;4m▀\u001b[38;2;3;3;3;48;2;3;3;3m▀\u001b[38;2;3;3;3;48;2;3;3;3m▀\u001b[38;2;3;3;3;48;2;3;3;3m▀\u001b[38;2;2;2;2;48;2;2;2;2m▀\u001b[38;2;2;2;2;48;2;2;2;2m▀\u001b[38;2;2;2;2;48;2;2;2;2m▀\u001b[38;2;2;2;2;48;2;2;2;2m▀\u001b[38;2;2;2;2;48;2;2;2;2m▀\u001b[38;2;2;2;2;48;2;2;2;2m▀\u001b[38;2;2;2;2;48;2;2;2;2m▀\u001b[38;2;1;1;1;48;2;2;2;2m▀\u001b[38;2;1;1;1;48;2;1;1;1m▀\u001b[0m\n",
       "\u001b[0m\u001b[38;2;1;1;1;48;2;1;1;1m▀\u001b[38;2;2;2;2;48;2;2;2;2m▀\u001b[38;2;2;2;2;48;2;2;2;2m▀\u001b[38;2;2;2;2;48;2;2;2;2m▀\u001b[38;2;2;2;2;48;2;2;2;2m▀\u001b[38;2;2;2;2;48;2;2;2;2m▀\u001b[38;2;2;2;2;48;2;2;2;2m▀\u001b[38;2;2;2;2;48;2;2;2;2m▀\u001b[38;2;2;2;2;48;2;2;2;2m▀\u001b[38;2;3;3;3;48;2;3;3;3m▀\u001b[38;2;3;3;3;48;2;3;3;3m▀\u001b[38;2;4;4;4;48;2;4;4;4m▀\u001b[38;2;4;4;4;48;2;5;5;5m▀\u001b[38;2;5;5;5;48;2;5;5;5m▀\u001b[38;2;5;5;5;48;2;7;7;7m▀\u001b[38;2;6;6;6;48;2;9;9;9m▀\u001b[38;2;9;9;9;48;2;12;12;12m▀\u001b[38;2;60;60;60;48;2;124;124;124m▀\u001b[38;2;215;215;215;48;2;252;252;252m▀\u001b[38;2;255;255;255;48;2;255;255;255m▀\u001b[38;2;255;255;255;48;2;255;255;255m▀\u001b[38;2;255;255;255;48;2;255;255;255m▀\u001b[38;2;255;255;255;48;2;255;255;255m▀\u001b[38;2;255;255;255;48;2;255;255;255m▀\u001b[38;2;255;255;255;48;2;255;255;255m▀\u001b[38;2;255;255;255;48;2;255;255;255m▀\u001b[38;2;255;255;255;48;2;255;255;255m▀\u001b[38;2;255;255;255;48;2;255;255;255m▀\u001b[38;2;255;255;255;48;2;255;255;255m▀\u001b[38;2;255;255;255;48;2;255;255;255m▀\u001b[38;2;255;255;255;48;2;255;255;255m▀\u001b[38;2;255;255;255;48;2;255;255;255m▀\u001b[38;2;215;215;215;48;2;252;252;252m▀\u001b[38;2;60;60;60;48;2;124;124;124m▀\u001b[38;2;9;9;9;48;2;12;12;12m▀\u001b[38;2;6;6;6;48;2;9;9;9m▀\u001b[38;2;5;5;5;48;2;7;7;7m▀\u001b[38;2;5;5;5;48;2;5;5;5m▀\u001b[38;2;4;4;4;48;2;5;5;5m▀\u001b[38;2;4;4;4;48;2;4;4;4m▀\u001b[38;2;3;3;3;48;2;3;3;3m▀\u001b[38;2;3;3;3;48;2;3;3;3m▀\u001b[38;2;2;2;2;48;2;2;2;2m▀\u001b[38;2;2;2;2;48;2;2;2;2m▀\u001b[38;2;2;2;2;48;2;2;2;2m▀\u001b[38;2;2;2;2;48;2;2;2;2m▀\u001b[38;2;2;2;2;48;2;2;2;2m▀\u001b[38;2;2;2;2;48;2;2;2;2m▀\u001b[38;2;2;2;2;48;2;2;2;2m▀\u001b[38;2;2;2;2;48;2;2;2;2m▀\u001b[38;2;1;1;1;48;2;1;1;1m▀\u001b[0m\n",
       "\u001b[0m\u001b[38;2;1;1;1;48;2;1;1;1m▀\u001b[38;2;2;2;2;48;2;2;2;2m▀\u001b[38;2;2;2;2;48;2;2;2;2m▀\u001b[38;2;2;2;2;48;2;2;2;2m▀\u001b[38;2;2;2;2;48;2;2;2;2m▀\u001b[38;2;2;2;2;48;2;2;2;2m▀\u001b[38;2;2;2;2;48;2;2;2;2m▀\u001b[38;2;2;2;2;48;2;2;2;2m▀\u001b[38;2;2;2;2;48;2;2;2;2m▀\u001b[38;2;3;3;3;48;2;3;3;3m▀\u001b[38;2;3;3;3;48;2;3;3;3m▀\u001b[38;2;5;5;5;48;2;7;7;7m▀\u001b[38;2;6;6;6;48;2;14;14;14m▀\u001b[38;2;7;7;7;48;2;12;12;12m▀\u001b[38;2;15;15;15;48;2;61;61;61m▀\u001b[38;2;68;68;68;48;2;213;213;213m▀\u001b[38;2;82;82;82;48;2;240;240;240m▀\u001b[38;2;161;161;161;48;2;229;229;229m▀\u001b[38;2;255;255;255;48;2;255;255;255m▀\u001b[38;2;255;255;255;48;2;255;255;255m▀\u001b[38;2;255;255;255;48;2;255;255;255m▀\u001b[38;2;255;255;255;48;2;255;255;255m▀\u001b[38;2;255;255;255;48;2;255;255;255m▀\u001b[38;2;255;255;255;48;2;255;255;255m▀\u001b[38;2;255;255;255;48;2;255;255;255m▀\u001b[38;2;255;255;255;48;2;255;255;255m▀\u001b[38;2;255;255;255;48;2;255;255;255m▀\u001b[38;2;255;255;255;48;2;255;255;255m▀\u001b[38;2;255;255;255;48;2;255;255;255m▀\u001b[38;2;255;255;255;48;2;255;255;255m▀\u001b[38;2;255;255;255;48;2;255;255;255m▀\u001b[38;2;255;255;255;48;2;255;255;255m▀\u001b[38;2;255;255;255;48;2;255;255;255m▀\u001b[38;2;161;161;161;48;2;229;229;229m▀\u001b[38;2;82;82;82;48;2;240;240;240m▀\u001b[38;2;68;68;68;48;2;213;213;213m▀\u001b[38;2;15;15;15;48;2;61;61;61m▀\u001b[38;2;7;7;7;48;2;12;12;12m▀\u001b[38;2;6;6;6;48;2;14;14;14m▀\u001b[38;2;5;5;5;48;2;7;7;7m▀\u001b[38;2;3;3;3;48;2;3;3;3m▀\u001b[38;2;3;3;3;48;2;3;3;3m▀\u001b[38;2;2;2;2;48;2;2;2;2m▀\u001b[38;2;2;2;2;48;2;2;2;2m▀\u001b[38;2;2;2;2;48;2;2;2;2m▀\u001b[38;2;2;2;2;48;2;2;2;2m▀\u001b[38;2;2;2;2;48;2;2;2;2m▀\u001b[38;2;2;2;2;48;2;2;2;2m▀\u001b[38;2;2;2;2;48;2;2;2;2m▀\u001b[38;2;2;2;2;48;2;2;2;2m▀\u001b[38;2;1;1;1;48;2;1;1;1m▀\u001b[0m\n",
       "\u001b[0m\u001b[38;2;1;1;1;48;2;1;1;1m▀\u001b[38;2;2;2;2;48;2;2;2;2m▀\u001b[38;2;2;2;2;48;2;2;2;2m▀\u001b[38;2;2;2;2;48;2;2;2;2m▀\u001b[38;2;2;2;2;48;2;2;2;2m▀\u001b[38;2;2;2;2;48;2;2;2;2m▀\u001b[38;2;2;2;2;48;2;2;2;2m▀\u001b[38;2;2;2;2;48;2;2;2;2m▀\u001b[38;2;2;2;2;48;2;2;2;2m▀\u001b[38;2;2;2;2;48;2;2;2;2m▀\u001b[38;2;3;3;3;48;2;3;3;3m▀\u001b[38;2;5;5;5;48;2;4;4;4m▀\u001b[38;2;8;8;8;48;2;8;8;8m▀\u001b[38;2;14;14;14;48;2;10;10;10m▀\u001b[38;2;69;69;69;48;2;11;11;11m▀\u001b[38;2;203;203;203;48;2;53;53;53m▀\u001b[38;2;232;232;232;48;2;64;64;64m▀\u001b[38;2;222;222;222;48;2;149;149;149m▀\u001b[38;2;255;255;255;48;2;255;255;255m▀\u001b[38;2;255;255;255;48;2;255;255;255m▀\u001b[38;2;255;255;255;48;2;255;255;255m▀\u001b[38;2;255;255;255;48;2;255;255;255m▀\u001b[38;2;255;255;255;48;2;255;255;255m▀\u001b[38;2;255;255;255;48;2;255;255;255m▀\u001b[38;2;255;255;255;48;2;255;255;255m▀\u001b[38;2;255;255;255;48;2;255;255;255m▀\u001b[38;2;255;255;255;48;2;255;255;255m▀\u001b[38;2;255;255;255;48;2;255;255;255m▀\u001b[38;2;255;255;255;48;2;255;255;255m▀\u001b[38;2;255;255;255;48;2;255;255;255m▀\u001b[38;2;255;255;255;48;2;255;255;255m▀\u001b[38;2;255;255;255;48;2;255;255;255m▀\u001b[38;2;255;255;255;48;2;255;255;255m▀\u001b[38;2;222;222;222;48;2;149;149;149m▀\u001b[38;2;232;232;232;48;2;64;64;64m▀\u001b[38;2;203;203;203;48;2;53;53;53m▀\u001b[38;2;69;69;69;48;2;11;11;11m▀\u001b[38;2;14;14;14;48;2;10;10;10m▀\u001b[38;2;8;8;8;48;2;8;8;8m▀\u001b[38;2;5;5;5;48;2;4;4;4m▀\u001b[38;2;3;3;3;48;2;3;3;3m▀\u001b[38;2;2;2;2;48;2;2;2;2m▀\u001b[38;2;2;2;2;48;2;2;2;2m▀\u001b[38;2;2;2;2;48;2;2;2;2m▀\u001b[38;2;2;2;2;48;2;2;2;2m▀\u001b[38;2;2;2;2;48;2;2;2;2m▀\u001b[38;2;2;2;2;48;2;2;2;2m▀\u001b[38;2;2;2;2;48;2;2;2;2m▀\u001b[38;2;2;2;2;48;2;2;2;2m▀\u001b[38;2;2;2;2;48;2;2;2;2m▀\u001b[38;2;1;1;1;48;2;1;1;1m▀\u001b[0m\n",
       "\u001b[0m\u001b[38;2;1;1;1;48;2;1;1;1m▀\u001b[38;2;2;2;2;48;2;2;2;2m▀\u001b[38;2;2;2;2;48;2;2;2;2m▀\u001b[38;2;2;2;2;48;2;2;2;2m▀\u001b[38;2;2;2;2;48;2;2;2;2m▀\u001b[38;2;2;2;2;48;2;2;2;2m▀\u001b[38;2;2;2;2;48;2;2;2;2m▀\u001b[38;2;2;2;2;48;2;2;2;2m▀\u001b[38;2;2;2;2;48;2;2;2;2m▀\u001b[38;2;2;2;2;48;2;2;2;2m▀\u001b[38;2;3;3;3;48;2;2;2;2m▀\u001b[38;2;4;4;4;48;2;3;3;3m▀\u001b[38;2;4;4;4;48;2;4;4;4m▀\u001b[38;2;5;5;5;48;2;4;4;4m▀\u001b[38;2;6;6;6;48;2;5;5;5m▀\u001b[38;2;7;7;7;48;2;5;5;5m▀\u001b[38;2;10;10;10;48;2;8;8;8m▀\u001b[38;2;98;98;98;48;2;46;46;46m▀\u001b[38;2;247;247;247;48;2;187;187;187m▀\u001b[38;2;255;255;255;48;2;254;254;254m▀\u001b[38;2;255;255;255;48;2;255;255;255m▀\u001b[38;2;255;255;255;48;2;255;255;255m▀\u001b[38;2;255;255;255;48;2;255;255;255m▀\u001b[38;2;255;255;255;48;2;255;255;255m▀\u001b[38;2;255;255;255;48;2;255;255;255m▀\u001b[38;2;255;255;255;48;2;255;255;255m▀\u001b[38;2;255;255;255;48;2;255;255;255m▀\u001b[38;2;255;255;255;48;2;255;255;255m▀\u001b[38;2;255;255;255;48;2;255;255;255m▀\u001b[38;2;255;255;255;48;2;255;255;255m▀\u001b[38;2;255;255;255;48;2;255;255;255m▀\u001b[38;2;255;255;255;48;2;254;254;254m▀\u001b[38;2;247;247;247;48;2;187;187;187m▀\u001b[38;2;98;98;98;48;2;46;46;46m▀\u001b[38;2;10;10;10;48;2;8;8;8m▀\u001b[38;2;7;7;7;48;2;5;5;5m▀\u001b[38;2;6;6;6;48;2;5;5;5m▀\u001b[38;2;5;5;5;48;2;4;4;4m▀\u001b[38;2;4;4;4;48;2;4;4;4m▀\u001b[38;2;4;4;4;48;2;3;3;3m▀\u001b[38;2;3;3;3;48;2;2;2;2m▀\u001b[38;2;2;2;2;48;2;2;2;2m▀\u001b[38;2;2;2;2;48;2;2;2;2m▀\u001b[38;2;2;2;2;48;2;2;2;2m▀\u001b[38;2;2;2;2;48;2;2;2;2m▀\u001b[38;2;2;2;2;48;2;2;2;2m▀\u001b[38;2;2;2;2;48;2;2;2;2m▀\u001b[38;2;2;2;2;48;2;2;2;2m▀\u001b[38;2;2;2;2;48;2;2;2;2m▀\u001b[38;2;2;2;2;48;2;2;2;2m▀\u001b[38;2;1;1;1;48;2;1;1;1m▀\u001b[0m\n",
       "\u001b[0m\u001b[38;2;1;1;1;48;2;1;1;1m▀\u001b[38;2;2;2;2;48;2;2;2;2m▀\u001b[38;2;2;2;2;48;2;2;2;2m▀\u001b[38;2;2;2;2;48;2;2;2;2m▀\u001b[38;2;2;2;2;48;2;2;2;2m▀\u001b[38;2;2;2;2;48;2;2;2;2m▀\u001b[38;2;2;2;2;48;2;2;2;2m▀\u001b[38;2;2;2;2;48;2;2;2;2m▀\u001b[38;2;2;2;2;48;2;2;2;2m▀\u001b[38;2;2;2;2;48;2;2;2;2m▀\u001b[38;2;2;2;2;48;2;2;2;2m▀\u001b[38;2;3;3;3;48;2;2;2;2m▀\u001b[38;2;3;3;3;48;2;3;3;3m▀\u001b[38;2;4;4;4;48;2;3;3;3m▀\u001b[38;2;4;4;4;48;2;4;4;4m▀\u001b[38;2;5;5;5;48;2;4;4;4m▀\u001b[38;2;6;6;6;48;2;6;6;6m▀\u001b[38;2;14;14;14;48;2;16;16;16m▀\u001b[38;2;136;136;136;48;2;115;115;115m▀\u001b[38;2;239;239;239;48;2;103;103;103m▀\u001b[38;2;254;254;254;48;2;171;171;171m▀\u001b[38;2;255;255;255;48;2;240;240;240m▀\u001b[38;2;255;255;255;48;2;248;248;248m▀\u001b[38;2;255;255;255;48;2;245;245;245m▀\u001b[38;2;254;254;254;48;2;193;193;193m▀\u001b[38;2;235;235;235;48;2;90;90;90m▀\u001b[38;2;254;254;254;48;2;193;193;193m▀\u001b[38;2;255;255;255;48;2;245;245;245m▀\u001b[38;2;255;255;255;48;2;248;248;248m▀\u001b[38;2;255;255;255;48;2;240;240;240m▀\u001b[38;2;254;254;254;48;2;171;171;171m▀\u001b[38;2;239;239;239;48;2;103;103;103m▀\u001b[38;2;136;136;136;48;2;115;115;115m▀\u001b[38;2;14;14;14;48;2;16;16;16m▀\u001b[38;2;6;6;6;48;2;6;6;6m▀\u001b[38;2;5;5;5;48;2;4;4;4m▀\u001b[38;2;4;4;4;48;2;4;4;4m▀\u001b[38;2;4;4;4;48;2;3;3;3m▀\u001b[38;2;3;3;3;48;2;3;3;3m▀\u001b[38;2;3;3;3;48;2;2;2;2m▀\u001b[38;2;2;2;2;48;2;2;2;2m▀\u001b[38;2;2;2;2;48;2;2;2;2m▀\u001b[38;2;2;2;2;48;2;2;2;2m▀\u001b[38;2;2;2;2;48;2;2;2;2m▀\u001b[38;2;2;2;2;48;2;2;2;2m▀\u001b[38;2;2;2;2;48;2;2;2;2m▀\u001b[38;2;2;2;2;48;2;2;2;2m▀\u001b[38;2;2;2;2;48;2;2;2;2m▀\u001b[38;2;2;2;2;48;2;2;2;2m▀\u001b[38;2;2;2;2;48;2;2;2;2m▀\u001b[38;2;1;1;1;48;2;1;1;1m▀\u001b[0m\n",
       "\u001b[0m\u001b[38;2;1;1;1;48;2;1;1;1m▀\u001b[38;2;2;2;2;48;2;2;2;2m▀\u001b[38;2;2;2;2;48;2;2;2;2m▀\u001b[38;2;2;2;2;48;2;2;2;2m▀\u001b[38;2;2;2;2;48;2;2;2;2m▀\u001b[38;2;2;2;2;48;2;2;2;2m▀\u001b[38;2;2;2;2;48;2;2;2;2m▀\u001b[38;2;2;2;2;48;2;2;2;2m▀\u001b[38;2;2;2;2;48;2;2;2;2m▀\u001b[38;2;2;2;2;48;2;2;2;2m▀\u001b[38;2;2;2;2;48;2;2;2;2m▀\u001b[38;2;2;2;2;48;2;2;2;2m▀\u001b[38;2;3;3;3;48;2;2;2;2m▀\u001b[38;2;3;3;3;48;2;3;3;3m▀\u001b[38;2;3;3;3;48;2;3;3;3m▀\u001b[38;2;4;4;4;48;2;3;3;3m▀\u001b[38;2;5;5;5;48;2;4;4;4m▀\u001b[38;2;10;10;10;48;2;4;4;4m▀\u001b[38;2;13;13;13;48;2;5;5;5m▀\u001b[38;2;9;9;9;48;2;5;5;5m▀\u001b[38;2;37;37;37;48;2;8;8;8m▀\u001b[38;2;99;99;99;48;2;9;9;9m▀\u001b[38;2;100;100;100;48;2;8;8;8m▀\u001b[38;2;84;84;84;48;2;6;6;6m▀\u001b[38;2;31;31;31;48;2;5;5;5m▀\u001b[38;2;8;8;8;48;2;5;5;5m▀\u001b[38;2;31;31;31;48;2;5;5;5m▀\u001b[38;2;84;84;84;48;2;6;6;6m▀\u001b[38;2;100;100;100;48;2;8;8;8m▀\u001b[38;2;99;99;99;48;2;9;9;9m▀\u001b[38;2;37;37;37;48;2;8;8;8m▀\u001b[38;2;9;9;9;48;2;5;5;5m▀\u001b[38;2;13;13;13;48;2;5;5;5m▀\u001b[38;2;10;10;10;48;2;4;4;4m▀\u001b[38;2;5;5;5;48;2;4;4;4m▀\u001b[38;2;4;4;4;48;2;3;3;3m▀\u001b[38;2;3;3;3;48;2;3;3;3m▀\u001b[38;2;3;3;3;48;2;3;3;3m▀\u001b[38;2;3;3;3;48;2;2;2;2m▀\u001b[38;2;2;2;2;48;2;2;2;2m▀\u001b[38;2;2;2;2;48;2;2;2;2m▀\u001b[38;2;2;2;2;48;2;2;2;2m▀\u001b[38;2;2;2;2;48;2;2;2;2m▀\u001b[38;2;2;2;2;48;2;2;2;2m▀\u001b[38;2;2;2;2;48;2;2;2;2m▀\u001b[38;2;2;2;2;48;2;2;2;2m▀\u001b[38;2;2;2;2;48;2;2;2;2m▀\u001b[38;2;2;2;2;48;2;2;2;2m▀\u001b[38;2;2;2;2;48;2;2;2;2m▀\u001b[38;2;2;2;2;48;2;2;2;2m▀\u001b[38;2;1;1;1;48;2;1;1;1m▀\u001b[0m\n",
       "\u001b[0m\u001b[38;2;1;1;1;48;2;1;1;1m▀\u001b[38;2;1;1;1;48;2;1;1;1m▀\u001b[38;2;2;2;2;48;2;2;2;2m▀\u001b[38;2;2;2;2;48;2;2;2;2m▀\u001b[38;2;2;2;2;48;2;2;2;2m▀\u001b[38;2;2;2;2;48;2;2;2;2m▀\u001b[38;2;2;2;2;48;2;2;2;2m▀\u001b[38;2;2;2;2;48;2;2;2;2m▀\u001b[38;2;2;2;2;48;2;2;2;2m▀\u001b[38;2;2;2;2;48;2;2;2;2m▀\u001b[38;2;2;2;2;48;2;2;2;2m▀\u001b[38;2;2;2;2;48;2;2;2;2m▀\u001b[38;2;2;2;2;48;2;2;2;2m▀\u001b[38;2;2;2;2;48;2;2;2;2m▀\u001b[38;2;3;3;3;48;2;2;2;2m▀\u001b[38;2;3;3;3;48;2;3;3;3m▀\u001b[38;2;3;3;3;48;2;3;3;3m▀\u001b[38;2;3;3;3;48;2;3;3;3m▀\u001b[38;2;4;4;4;48;2;3;3;3m▀\u001b[38;2;4;4;4;48;2;3;3;3m▀\u001b[38;2;4;4;4;48;2;3;3;3m▀\u001b[38;2;4;4;4;48;2;4;4;4m▀\u001b[38;2;4;4;4;48;2;4;4;4m▀\u001b[38;2;4;4;4;48;2;4;4;4m▀\u001b[38;2;4;4;4;48;2;4;4;4m▀\u001b[38;2;4;4;4;48;2;4;4;4m▀\u001b[38;2;4;4;4;48;2;4;4;4m▀\u001b[38;2;4;4;4;48;2;4;4;4m▀\u001b[38;2;4;4;4;48;2;4;4;4m▀\u001b[38;2;4;4;4;48;2;4;4;4m▀\u001b[38;2;4;4;4;48;2;3;3;3m▀\u001b[38;2;4;4;4;48;2;3;3;3m▀\u001b[38;2;4;4;4;48;2;3;3;3m▀\u001b[38;2;3;3;3;48;2;3;3;3m▀\u001b[38;2;3;3;3;48;2;3;3;3m▀\u001b[38;2;3;3;3;48;2;3;3;3m▀\u001b[38;2;3;3;3;48;2;2;2;2m▀\u001b[38;2;2;2;2;48;2;2;2;2m▀\u001b[38;2;2;2;2;48;2;2;2;2m▀\u001b[38;2;2;2;2;48;2;2;2;2m▀\u001b[38;2;2;2;2;48;2;2;2;2m▀\u001b[38;2;2;2;2;48;2;2;2;2m▀\u001b[38;2;2;2;2;48;2;2;2;2m▀\u001b[38;2;2;2;2;48;2;2;2;2m▀\u001b[38;2;2;2;2;48;2;2;2;2m▀\u001b[38;2;2;2;2;48;2;2;2;2m▀\u001b[38;2;2;2;2;48;2;2;2;2m▀\u001b[38;2;2;2;2;48;2;2;2;2m▀\u001b[38;2;2;2;2;48;2;2;2;2m▀\u001b[38;2;1;1;1;48;2;1;1;1m▀\u001b[38;2;1;1;1;48;2;1;1;1m▀\u001b[0m\n",
       "\u001b[0m\u001b[38;2;1;1;1;48;2;1;1;1m▀\u001b[38;2;1;1;1;48;2;1;1;1m▀\u001b[38;2;2;2;2;48;2;1;1;1m▀\u001b[38;2;2;2;2;48;2;2;2;2m▀\u001b[38;2;2;2;2;48;2;2;2;2m▀\u001b[38;2;2;2;2;48;2;2;2;2m▀\u001b[38;2;2;2;2;48;2;2;2;2m▀\u001b[38;2;2;2;2;48;2;2;2;2m▀\u001b[38;2;2;2;2;48;2;2;2;2m▀\u001b[38;2;2;2;2;48;2;2;2;2m▀\u001b[38;2;2;2;2;48;2;2;2;2m▀\u001b[38;2;2;2;2;48;2;2;2;2m▀\u001b[38;2;2;2;2;48;2;2;2;2m▀\u001b[38;2;2;2;2;48;2;2;2;2m▀\u001b[38;2;2;2;2;48;2;2;2;2m▀\u001b[38;2;2;2;2;48;2;2;2;2m▀\u001b[38;2;3;3;3;48;2;2;2;2m▀\u001b[38;2;3;3;3;48;2;3;3;3m▀\u001b[38;2;3;3;3;48;2;3;3;3m▀\u001b[38;2;3;3;3;48;2;3;3;3m▀\u001b[38;2;3;3;3;48;2;3;3;3m▀\u001b[38;2;3;3;3;48;2;3;3;3m▀\u001b[38;2;3;3;3;48;2;3;3;3m▀\u001b[38;2;3;3;3;48;2;3;3;3m▀\u001b[38;2;3;3;3;48;2;3;3;3m▀\u001b[38;2;3;3;3;48;2;3;3;3m▀\u001b[38;2;3;3;3;48;2;3;3;3m▀\u001b[38;2;3;3;3;48;2;3;3;3m▀\u001b[38;2;3;3;3;48;2;3;3;3m▀\u001b[38;2;3;3;3;48;2;3;3;3m▀\u001b[38;2;3;3;3;48;2;3;3;3m▀\u001b[38;2;3;3;3;48;2;3;3;3m▀\u001b[38;2;3;3;3;48;2;3;3;3m▀\u001b[38;2;3;3;3;48;2;3;3;3m▀\u001b[38;2;3;3;3;48;2;2;2;2m▀\u001b[38;2;2;2;2;48;2;2;2;2m▀\u001b[38;2;2;2;2;48;2;2;2;2m▀\u001b[38;2;2;2;2;48;2;2;2;2m▀\u001b[38;2;2;2;2;48;2;2;2;2m▀\u001b[38;2;2;2;2;48;2;2;2;2m▀\u001b[38;2;2;2;2;48;2;2;2;2m▀\u001b[38;2;2;2;2;48;2;2;2;2m▀\u001b[38;2;2;2;2;48;2;2;2;2m▀\u001b[38;2;2;2;2;48;2;2;2;2m▀\u001b[38;2;2;2;2;48;2;2;2;2m▀\u001b[38;2;2;2;2;48;2;2;2;2m▀\u001b[38;2;2;2;2;48;2;2;2;2m▀\u001b[38;2;2;2;2;48;2;2;2;2m▀\u001b[38;2;2;2;2;48;2;1;1;1m▀\u001b[38;2;1;1;1;48;2;1;1;1m▀\u001b[38;2;1;1;1;48;2;1;1;1m▀\u001b[0m\n",
       "\u001b[0m\u001b[38;2;1;1;1;48;2;1;1;1m▀\u001b[38;2;1;1;1;48;2;1;1;1m▀\u001b[38;2;1;1;1;48;2;1;1;1m▀\u001b[38;2;2;2;2;48;2;1;1;1m▀\u001b[38;2;2;2;2;48;2;2;2;2m▀\u001b[38;2;2;2;2;48;2;2;2;2m▀\u001b[38;2;2;2;2;48;2;2;2;2m▀\u001b[38;2;2;2;2;48;2;2;2;2m▀\u001b[38;2;2;2;2;48;2;2;2;2m▀\u001b[38;2;2;2;2;48;2;2;2;2m▀\u001b[38;2;2;2;2;48;2;2;2;2m▀\u001b[38;2;2;2;2;48;2;2;2;2m▀\u001b[38;2;2;2;2;48;2;2;2;2m▀\u001b[38;2;2;2;2;48;2;2;2;2m▀\u001b[38;2;2;2;2;48;2;2;2;2m▀\u001b[38;2;2;2;2;48;2;2;2;2m▀\u001b[38;2;2;2;2;48;2;2;2;2m▀\u001b[38;2;2;2;2;48;2;2;2;2m▀\u001b[38;2;2;2;2;48;2;2;2;2m▀\u001b[38;2;3;3;3;48;2;2;2;2m▀\u001b[38;2;3;3;3;48;2;2;2;2m▀\u001b[38;2;3;3;3;48;2;2;2;2m▀\u001b[38;2;3;3;3;48;2;3;3;3m▀\u001b[38;2;3;3;3;48;2;3;3;3m▀\u001b[38;2;3;3;3;48;2;3;3;3m▀\u001b[38;2;3;3;3;48;2;3;3;3m▀\u001b[38;2;3;3;3;48;2;3;3;3m▀\u001b[38;2;3;3;3;48;2;3;3;3m▀\u001b[38;2;3;3;3;48;2;3;3;3m▀\u001b[38;2;3;3;3;48;2;2;2;2m▀\u001b[38;2;3;3;3;48;2;2;2;2m▀\u001b[38;2;3;3;3;48;2;2;2;2m▀\u001b[38;2;2;2;2;48;2;2;2;2m▀\u001b[38;2;2;2;2;48;2;2;2;2m▀\u001b[38;2;2;2;2;48;2;2;2;2m▀\u001b[38;2;2;2;2;48;2;2;2;2m▀\u001b[38;2;2;2;2;48;2;2;2;2m▀\u001b[38;2;2;2;2;48;2;2;2;2m▀\u001b[38;2;2;2;2;48;2;2;2;2m▀\u001b[38;2;2;2;2;48;2;2;2;2m▀\u001b[38;2;2;2;2;48;2;2;2;2m▀\u001b[38;2;2;2;2;48;2;2;2;2m▀\u001b[38;2;2;2;2;48;2;2;2;2m▀\u001b[38;2;2;2;2;48;2;2;2;2m▀\u001b[38;2;2;2;2;48;2;2;2;2m▀\u001b[38;2;2;2;2;48;2;2;2;2m▀\u001b[38;2;2;2;2;48;2;2;2;2m▀\u001b[38;2;2;2;2;48;2;1;1;1m▀\u001b[38;2;1;1;1;48;2;1;1;1m▀\u001b[38;2;1;1;1;48;2;1;1;1m▀\u001b[38;2;1;1;1;48;2;1;1;1m▀\u001b[0m\n",
       "\u001b[0m\u001b[38;2;1;1;1;48;2;1;1;1m▀\u001b[38;2;1;1;1;48;2;1;1;1m▀\u001b[38;2;1;1;1;48;2;1;1;1m▀\u001b[38;2;1;1;1;48;2;1;1;1m▀\u001b[38;2;2;2;2;48;2;1;1;1m▀\u001b[38;2;2;2;2;48;2;2;2;2m▀\u001b[38;2;2;2;2;48;2;2;2;2m▀\u001b[38;2;2;2;2;48;2;2;2;2m▀\u001b[38;2;2;2;2;48;2;2;2;2m▀\u001b[38;2;2;2;2;48;2;2;2;2m▀\u001b[38;2;2;2;2;48;2;2;2;2m▀\u001b[38;2;2;2;2;48;2;2;2;2m▀\u001b[38;2;2;2;2;48;2;2;2;2m▀\u001b[38;2;2;2;2;48;2;2;2;2m▀\u001b[38;2;2;2;2;48;2;2;2;2m▀\u001b[38;2;2;2;2;48;2;2;2;2m▀\u001b[38;2;2;2;2;48;2;2;2;2m▀\u001b[38;2;2;2;2;48;2;2;2;2m▀\u001b[38;2;2;2;2;48;2;2;2;2m▀\u001b[38;2;2;2;2;48;2;2;2;2m▀\u001b[38;2;2;2;2;48;2;2;2;2m▀\u001b[38;2;2;2;2;48;2;2;2;2m▀\u001b[38;2;2;2;2;48;2;2;2;2m▀\u001b[38;2;2;2;2;48;2;2;2;2m▀\u001b[38;2;2;2;2;48;2;2;2;2m▀\u001b[38;2;2;2;2;48;2;2;2;2m▀\u001b[38;2;2;2;2;48;2;2;2;2m▀\u001b[38;2;2;2;2;48;2;2;2;2m▀\u001b[38;2;2;2;2;48;2;2;2;2m▀\u001b[38;2;2;2;2;48;2;2;2;2m▀\u001b[38;2;2;2;2;48;2;2;2;2m▀\u001b[38;2;2;2;2;48;2;2;2;2m▀\u001b[38;2;2;2;2;48;2;2;2;2m▀\u001b[38;2;2;2;2;48;2;2;2;2m▀\u001b[38;2;2;2;2;48;2;2;2;2m▀\u001b[38;2;2;2;2;48;2;2;2;2m▀\u001b[38;2;2;2;2;48;2;2;2;2m▀\u001b[38;2;2;2;2;48;2;2;2;2m▀\u001b[38;2;2;2;2;48;2;2;2;2m▀\u001b[38;2;2;2;2;48;2;2;2;2m▀\u001b[38;2;2;2;2;48;2;2;2;2m▀\u001b[38;2;2;2;2;48;2;2;2;2m▀\u001b[38;2;2;2;2;48;2;2;2;2m▀\u001b[38;2;2;2;2;48;2;2;2;2m▀\u001b[38;2;2;2;2;48;2;2;2;2m▀\u001b[38;2;2;2;2;48;2;2;2;2m▀\u001b[38;2;2;2;2;48;2;1;1;1m▀\u001b[38;2;1;1;1;48;2;1;1;1m▀\u001b[38;2;1;1;1;48;2;1;1;1m▀\u001b[38;2;1;1;1;48;2;1;1;1m▀\u001b[38;2;1;1;1;48;2;1;1;1m▀\u001b[0m\n",
       "\u001b[0m\u001b[38;2;1;1;1;48;2;1;1;1m▀\u001b[38;2;1;1;1;48;2;1;1;1m▀\u001b[38;2;1;1;1;48;2;1;1;1m▀\u001b[38;2;1;1;1;48;2;1;1;1m▀\u001b[38;2;1;1;1;48;2;1;1;1m▀\u001b[38;2;1;1;1;48;2;1;1;1m▀\u001b[38;2;2;2;2;48;2;2;2;2m▀\u001b[38;2;2;2;2;48;2;2;2;2m▀\u001b[38;2;2;2;2;48;2;2;2;2m▀\u001b[38;2;2;2;2;48;2;2;2;2m▀\u001b[38;2;2;2;2;48;2;2;2;2m▀\u001b[38;2;2;2;2;48;2;2;2;2m▀\u001b[38;2;2;2;2;48;2;2;2;2m▀\u001b[38;2;2;2;2;48;2;2;2;2m▀\u001b[38;2;2;2;2;48;2;2;2;2m▀\u001b[38;2;2;2;2;48;2;2;2;2m▀\u001b[38;2;2;2;2;48;2;2;2;2m▀\u001b[38;2;2;2;2;48;2;2;2;2m▀\u001b[38;2;2;2;2;48;2;2;2;2m▀\u001b[38;2;2;2;2;48;2;2;2;2m▀\u001b[38;2;2;2;2;48;2;2;2;2m▀\u001b[38;2;2;2;2;48;2;2;2;2m▀\u001b[38;2;2;2;2;48;2;2;2;2m▀\u001b[38;2;2;2;2;48;2;2;2;2m▀\u001b[38;2;2;2;2;48;2;2;2;2m▀\u001b[38;2;2;2;2;48;2;2;2;2m▀\u001b[38;2;2;2;2;48;2;2;2;2m▀\u001b[38;2;2;2;2;48;2;2;2;2m▀\u001b[38;2;2;2;2;48;2;2;2;2m▀\u001b[38;2;2;2;2;48;2;2;2;2m▀\u001b[38;2;2;2;2;48;2;2;2;2m▀\u001b[38;2;2;2;2;48;2;2;2;2m▀\u001b[38;2;2;2;2;48;2;2;2;2m▀\u001b[38;2;2;2;2;48;2;2;2;2m▀\u001b[38;2;2;2;2;48;2;2;2;2m▀\u001b[38;2;2;2;2;48;2;2;2;2m▀\u001b[38;2;2;2;2;48;2;2;2;2m▀\u001b[38;2;2;2;2;48;2;2;2;2m▀\u001b[38;2;2;2;2;48;2;2;2;2m▀\u001b[38;2;2;2;2;48;2;2;2;2m▀\u001b[38;2;2;2;2;48;2;2;2;2m▀\u001b[38;2;2;2;2;48;2;2;2;2m▀\u001b[38;2;2;2;2;48;2;2;2;2m▀\u001b[38;2;2;2;2;48;2;2;2;2m▀\u001b[38;2;2;2;2;48;2;2;2;2m▀\u001b[38;2;1;1;1;48;2;1;1;1m▀\u001b[38;2;1;1;1;48;2;1;1;1m▀\u001b[38;2;1;1;1;48;2;1;1;1m▀\u001b[38;2;1;1;1;48;2;1;1;1m▀\u001b[38;2;1;1;1;48;2;1;1;1m▀\u001b[38;2;1;1;1;48;2;1;1;1m▀\u001b[0m\n",
       "\u001b[0m\u001b[38;2;1;1;1;48;2;1;1;1m▀\u001b[38;2;1;1;1;48;2;1;1;1m▀\u001b[38;2;1;1;1;48;2;1;1;1m▀\u001b[38;2;1;1;1;48;2;1;1;1m▀\u001b[38;2;1;1;1;48;2;1;1;1m▀\u001b[38;2;1;1;1;48;2;1;1;1m▀\u001b[38;2;1;1;1;48;2;1;1;1m▀\u001b[38;2;2;2;2;48;2;1;1;1m▀\u001b[38;2;2;2;2;48;2;2;2;2m▀\u001b[38;2;2;2;2;48;2;2;2;2m▀\u001b[38;2;2;2;2;48;2;2;2;2m▀\u001b[38;2;2;2;2;48;2;2;2;2m▀\u001b[38;2;2;2;2;48;2;2;2;2m▀\u001b[38;2;2;2;2;48;2;2;2;2m▀\u001b[38;2;2;2;2;48;2;2;2;2m▀\u001b[38;2;2;2;2;48;2;2;2;2m▀\u001b[38;2;2;2;2;48;2;2;2;2m▀\u001b[38;2;2;2;2;48;2;2;2;2m▀\u001b[38;2;2;2;2;48;2;2;2;2m▀\u001b[38;2;2;2;2;48;2;2;2;2m▀\u001b[38;2;2;2;2;48;2;2;2;2m▀\u001b[38;2;2;2;2;48;2;2;2;2m▀\u001b[38;2;2;2;2;48;2;2;2;2m▀\u001b[38;2;2;2;2;48;2;2;2;2m▀\u001b[38;2;2;2;2;48;2;2;2;2m▀\u001b[38;2;2;2;2;48;2;2;2;2m▀\u001b[38;2;2;2;2;48;2;2;2;2m▀\u001b[38;2;2;2;2;48;2;2;2;2m▀\u001b[38;2;2;2;2;48;2;2;2;2m▀\u001b[38;2;2;2;2;48;2;2;2;2m▀\u001b[38;2;2;2;2;48;2;2;2;2m▀\u001b[38;2;2;2;2;48;2;2;2;2m▀\u001b[38;2;2;2;2;48;2;2;2;2m▀\u001b[38;2;2;2;2;48;2;2;2;2m▀\u001b[38;2;2;2;2;48;2;2;2;2m▀\u001b[38;2;2;2;2;48;2;2;2;2m▀\u001b[38;2;2;2;2;48;2;2;2;2m▀\u001b[38;2;2;2;2;48;2;2;2;2m▀\u001b[38;2;2;2;2;48;2;2;2;2m▀\u001b[38;2;2;2;2;48;2;2;2;2m▀\u001b[38;2;2;2;2;48;2;2;2;2m▀\u001b[38;2;2;2;2;48;2;2;2;2m▀\u001b[38;2;2;2;2;48;2;2;2;2m▀\u001b[38;2;2;2;2;48;2;1;1;1m▀\u001b[38;2;1;1;1;48;2;1;1;1m▀\u001b[38;2;1;1;1;48;2;1;1;1m▀\u001b[38;2;1;1;1;48;2;1;1;1m▀\u001b[38;2;1;1;1;48;2;1;1;1m▀\u001b[38;2;1;1;1;48;2;1;1;1m▀\u001b[38;2;1;1;1;48;2;1;1;1m▀\u001b[38;2;1;1;1;48;2;1;1;1m▀\u001b[0m\n",
       "\u001b[0m\u001b[38;2;1;1;1;48;2;1;1;1m▀\u001b[38;2;1;1;1;48;2;1;1;1m▀\u001b[38;2;1;1;1;48;2;1;1;1m▀\u001b[38;2;1;1;1;48;2;1;1;1m▀\u001b[38;2;1;1;1;48;2;1;1;1m▀\u001b[38;2;1;1;1;48;2;1;1;1m▀\u001b[38;2;1;1;1;48;2;1;1;1m▀\u001b[38;2;1;1;1;48;2;1;1;1m▀\u001b[38;2;1;1;1;48;2;1;1;1m▀\u001b[38;2;2;2;2;48;2;1;1;1m▀\u001b[38;2;2;2;2;48;2;1;1;1m▀\u001b[38;2;2;2;2;48;2;2;2;2m▀\u001b[38;2;2;2;2;48;2;2;2;2m▀\u001b[38;2;2;2;2;48;2;2;2;2m▀\u001b[38;2;2;2;2;48;2;2;2;2m▀\u001b[38;2;2;2;2;48;2;2;2;2m▀\u001b[38;2;2;2;2;48;2;2;2;2m▀\u001b[38;2;2;2;2;48;2;2;2;2m▀\u001b[38;2;2;2;2;48;2;2;2;2m▀\u001b[38;2;2;2;2;48;2;2;2;2m▀\u001b[38;2;2;2;2;48;2;2;2;2m▀\u001b[38;2;2;2;2;48;2;2;2;2m▀\u001b[38;2;2;2;2;48;2;2;2;2m▀\u001b[38;2;2;2;2;48;2;2;2;2m▀\u001b[38;2;2;2;2;48;2;2;2;2m▀\u001b[38;2;2;2;2;48;2;2;2;2m▀\u001b[38;2;2;2;2;48;2;2;2;2m▀\u001b[38;2;2;2;2;48;2;2;2;2m▀\u001b[38;2;2;2;2;48;2;2;2;2m▀\u001b[38;2;2;2;2;48;2;2;2;2m▀\u001b[38;2;2;2;2;48;2;2;2;2m▀\u001b[38;2;2;2;2;48;2;2;2;2m▀\u001b[38;2;2;2;2;48;2;2;2;2m▀\u001b[38;2;2;2;2;48;2;2;2;2m▀\u001b[38;2;2;2;2;48;2;2;2;2m▀\u001b[38;2;2;2;2;48;2;2;2;2m▀\u001b[38;2;2;2;2;48;2;2;2;2m▀\u001b[38;2;2;2;2;48;2;2;2;2m▀\u001b[38;2;2;2;2;48;2;2;2;2m▀\u001b[38;2;2;2;2;48;2;2;2;2m▀\u001b[38;2;2;2;2;48;2;1;1;1m▀\u001b[38;2;2;2;2;48;2;1;1;1m▀\u001b[38;2;1;1;1;48;2;1;1;1m▀\u001b[38;2;1;1;1;48;2;1;1;1m▀\u001b[38;2;1;1;1;48;2;1;1;1m▀\u001b[38;2;1;1;1;48;2;1;1;1m▀\u001b[38;2;1;1;1;48;2;1;1;1m▀\u001b[38;2;1;1;1;48;2;1;1;1m▀\u001b[38;2;1;1;1;48;2;1;1;1m▀\u001b[38;2;1;1;1;48;2;1;1;1m▀\u001b[38;2;1;1;1;48;2;1;1;1m▀\u001b[0m\n",
       "\u001b[0m\u001b[38;2;1;1;1;48;2;1;1;1m▀\u001b[38;2;1;1;1;48;2;1;1;1m▀\u001b[38;2;1;1;1;48;2;1;1;1m▀\u001b[38;2;1;1;1;48;2;1;1;1m▀\u001b[38;2;1;1;1;48;2;1;1;1m▀\u001b[38;2;1;1;1;48;2;1;1;1m▀\u001b[38;2;1;1;1;48;2;1;1;1m▀\u001b[38;2;1;1;1;48;2;1;1;1m▀\u001b[38;2;1;1;1;48;2;1;1;1m▀\u001b[38;2;1;1;1;48;2;1;1;1m▀\u001b[38;2;1;1;1;48;2;1;1;1m▀\u001b[38;2;1;1;1;48;2;1;1;1m▀\u001b[38;2;2;2;2;48;2;1;1;1m▀\u001b[38;2;2;2;2;48;2;1;1;1m▀\u001b[38;2;2;2;2;48;2;2;2;2m▀\u001b[38;2;2;2;2;48;2;2;2;2m▀\u001b[38;2;2;2;2;48;2;2;2;2m▀\u001b[38;2;2;2;2;48;2;2;2;2m▀\u001b[38;2;2;2;2;48;2;2;2;2m▀\u001b[38;2;2;2;2;48;2;2;2;2m▀\u001b[38;2;2;2;2;48;2;2;2;2m▀\u001b[38;2;2;2;2;48;2;2;2;2m▀\u001b[38;2;2;2;2;48;2;2;2;2m▀\u001b[38;2;2;2;2;48;2;2;2;2m▀\u001b[38;2;2;2;2;48;2;2;2;2m▀\u001b[38;2;2;2;2;48;2;2;2;2m▀\u001b[38;2;2;2;2;48;2;2;2;2m▀\u001b[38;2;2;2;2;48;2;2;2;2m▀\u001b[38;2;2;2;2;48;2;2;2;2m▀\u001b[38;2;2;2;2;48;2;2;2;2m▀\u001b[38;2;2;2;2;48;2;2;2;2m▀\u001b[38;2;2;2;2;48;2;2;2;2m▀\u001b[38;2;2;2;2;48;2;2;2;2m▀\u001b[38;2;2;2;2;48;2;2;2;2m▀\u001b[38;2;2;2;2;48;2;2;2;2m▀\u001b[38;2;2;2;2;48;2;2;2;2m▀\u001b[38;2;2;2;2;48;2;2;2;2m▀\u001b[38;2;2;2;2;48;2;1;1;1m▀\u001b[38;2;2;2;2;48;2;1;1;1m▀\u001b[38;2;1;1;1;48;2;1;1;1m▀\u001b[38;2;1;1;1;48;2;1;1;1m▀\u001b[38;2;1;1;1;48;2;1;1;1m▀\u001b[38;2;1;1;1;48;2;1;1;1m▀\u001b[38;2;1;1;1;48;2;1;1;1m▀\u001b[38;2;1;1;1;48;2;1;1;1m▀\u001b[38;2;1;1;1;48;2;1;1;1m▀\u001b[38;2;1;1;1;48;2;1;1;1m▀\u001b[38;2;1;1;1;48;2;1;1;1m▀\u001b[38;2;1;1;1;48;2;1;1;1m▀\u001b[38;2;1;1;1;48;2;1;1;1m▀\u001b[38;2;1;1;1;48;2;1;1;1m▀\u001b[0m\n",
       "\u001b[0m\u001b[38;2;1;1;1;48;2;1;1;1m▀\u001b[38;2;1;1;1;48;2;1;1;1m▀\u001b[38;2;1;1;1;48;2;1;1;1m▀\u001b[38;2;1;1;1;48;2;1;1;1m▀\u001b[38;2;1;1;1;48;2;1;1;1m▀\u001b[38;2;1;1;1;48;2;1;1;1m▀\u001b[38;2;1;1;1;48;2;1;1;1m▀\u001b[38;2;1;1;1;48;2;1;1;1m▀\u001b[38;2;1;1;1;48;2;1;1;1m▀\u001b[38;2;1;1;1;48;2;1;1;1m▀\u001b[38;2;1;1;1;48;2;1;1;1m▀\u001b[38;2;1;1;1;48;2;1;1;1m▀\u001b[38;2;1;1;1;48;2;1;1;1m▀\u001b[38;2;1;1;1;48;2;1;1;1m▀\u001b[38;2;1;1;1;48;2;1;1;1m▀\u001b[38;2;1;1;1;48;2;1;1;1m▀\u001b[38;2;2;2;2;48;2;1;1;1m▀\u001b[38;2;2;2;2;48;2;1;1;1m▀\u001b[38;2;2;2;2;48;2;1;1;1m▀\u001b[38;2;2;2;2;48;2;2;2;2m▀\u001b[38;2;2;2;2;48;2;2;2;2m▀\u001b[38;2;2;2;2;48;2;2;2;2m▀\u001b[38;2;2;2;2;48;2;2;2;2m▀\u001b[38;2;2;2;2;48;2;2;2;2m▀\u001b[38;2;2;2;2;48;2;2;2;2m▀\u001b[38;2;2;2;2;48;2;2;2;2m▀\u001b[38;2;2;2;2;48;2;2;2;2m▀\u001b[38;2;2;2;2;48;2;2;2;2m▀\u001b[38;2;2;2;2;48;2;2;2;2m▀\u001b[38;2;2;2;2;48;2;2;2;2m▀\u001b[38;2;2;2;2;48;2;2;2;2m▀\u001b[38;2;2;2;2;48;2;2;2;2m▀\u001b[38;2;2;2;2;48;2;1;1;1m▀\u001b[38;2;2;2;2;48;2;1;1;1m▀\u001b[38;2;2;2;2;48;2;1;1;1m▀\u001b[38;2;1;1;1;48;2;1;1;1m▀\u001b[38;2;1;1;1;48;2;1;1;1m▀\u001b[38;2;1;1;1;48;2;1;1;1m▀\u001b[38;2;1;1;1;48;2;1;1;1m▀\u001b[38;2;1;1;1;48;2;1;1;1m▀\u001b[38;2;1;1;1;48;2;1;1;1m▀\u001b[38;2;1;1;1;48;2;1;1;1m▀\u001b[38;2;1;1;1;48;2;1;1;1m▀\u001b[38;2;1;1;1;48;2;1;1;1m▀\u001b[38;2;1;1;1;48;2;1;1;1m▀\u001b[38;2;1;1;1;48;2;1;1;1m▀\u001b[38;2;1;1;1;48;2;1;1;1m▀\u001b[38;2;1;1;1;48;2;1;1;1m▀\u001b[38;2;1;1;1;48;2;1;1;1m▀\u001b[38;2;1;1;1;48;2;1;1;1m▀\u001b[38;2;1;1;1;48;2;1;1;1m▀\u001b[0m\n",
       "\u001b[0m\u001b[38;2;0;0;0m▀\u001b[38;2;1;1;1m▀\u001b[38;2;1;1;1m▀\u001b[38;2;1;1;1m▀\u001b[38;2;1;1;1m▀\u001b[38;2;1;1;1m▀\u001b[38;2;1;1;1m▀\u001b[38;2;1;1;1m▀\u001b[38;2;1;1;1m▀\u001b[38;2;1;1;1m▀\u001b[38;2;1;1;1m▀\u001b[38;2;1;1;1m▀\u001b[38;2;1;1;1m▀\u001b[38;2;1;1;1m▀\u001b[38;2;1;1;1m▀\u001b[38;2;1;1;1m▀\u001b[38;2;1;1;1m▀\u001b[38;2;1;1;1m▀\u001b[38;2;1;1;1m▀\u001b[38;2;1;1;1m▀\u001b[38;2;1;1;1m▀\u001b[38;2;1;1;1m▀\u001b[38;2;1;1;1m▀\u001b[38;2;1;1;1m▀\u001b[38;2;1;1;1m▀\u001b[38;2;1;1;1m▀\u001b[38;2;1;1;1m▀\u001b[38;2;1;1;1m▀\u001b[38;2;1;1;1m▀\u001b[38;2;1;1;1m▀\u001b[38;2;1;1;1m▀\u001b[38;2;1;1;1m▀\u001b[38;2;1;1;1m▀\u001b[38;2;1;1;1m▀\u001b[38;2;1;1;1m▀\u001b[38;2;1;1;1m▀\u001b[38;2;1;1;1m▀\u001b[38;2;1;1;1m▀\u001b[38;2;1;1;1m▀\u001b[38;2;1;1;1m▀\u001b[38;2;1;1;1m▀\u001b[38;2;1;1;1m▀\u001b[38;2;1;1;1m▀\u001b[38;2;1;1;1m▀\u001b[38;2;1;1;1m▀\u001b[38;2;1;1;1m▀\u001b[38;2;1;1;1m▀\u001b[38;2;1;1;1m▀\u001b[38;2;1;1;1m▀\u001b[38;2;1;1;1m▀\u001b[38;2;0;0;0m▀\u001b[0m"
      ]
     },
     "execution_count": 9,
     "metadata": {},
     "output_type": "execute_result"
    }
   ],
   "source": [
    "@. Gray(mk(argand) / 255)"
   ]
  },
  {
   "cell_type": "markdown",
   "id": "556d84fe",
   "metadata": {},
   "source": [
    "One interesting performance characteristics to know about broadcasting in Julia is that sometimes it would \"[fuse](https://julialang.org/blog/2018/05/extensible-broadcast-fusion/)\" the functions together, thus avoid allocating intermediate arrays.\n",
    "\n",
    "In other words: `@. f(g(h(xs)))` is not going to allocate `hs = h.(xs)` then `gs = g.(hs)` and so on, instead it only allocate once for the final product.\n",
    "\n",
    "This is possible because broadcast operation (`.`) is part of the Julia syntax and handled differently, user can also customize broadcasting behavior of their own data types.\n",
    "\n",
    "Julia's code introspection tools - which we're just demonstrating here so you know they exist - also demonstrate this. Here, we're using the `@code_lowered` macro to show what Julia's interpretation of a chain of broadcasted operations is:"
   ]
  },
  {
   "cell_type": "code",
   "execution_count": 10,
   "id": "4548b1d9",
   "metadata": {},
   "outputs": [
    {
     "data": {
      "text/plain": [
       "CodeInfo(\n",
       "\u001b[90m1 ─\u001b[39m %1 = Main.:+\n",
       "\u001b[90m│  \u001b[39m %2 = Main.mk\n",
       "\u001b[90m│  \u001b[39m %3 = Base.broadcasted(Main.:*, x1, x2)\n",
       "\u001b[90m│  \u001b[39m %4 = Base.broadcasted(%2, %3)\n",
       "\u001b[90m│  \u001b[39m %5 = Base.broadcasted(%1, %4, x3)\n",
       "\u001b[90m│  \u001b[39m %6 = Base.materialize(%5)\n",
       "\u001b[90m└──\u001b[39m      return %6\n",
       ")"
      ]
     },
     "execution_count": 10,
     "metadata": {},
     "output_type": "execute_result"
    }
   ],
   "source": [
    "arr = [0,1,2,3,4]\n",
    "\n",
    "@code_lowered( mk.(2 .* arr) .+ 5 )"
   ]
  },
  {
   "cell_type": "markdown",
   "id": "8e6467b4",
   "metadata": {},
   "source": [
    "You can see that the special `Base.broadcasted` representation here wraps the relevant operations, allowing them to be optimised using a single pre-allocated temporary object, before being `materialize`d into the final output."
   ]
  }
 ],
 "metadata": {
  "kernelspec": {
   "display_name": "Julia 1.9.3",
   "language": "julia",
   "name": "julia-1.9"
  },
  "language_info": {
   "file_extension": ".jl",
   "mimetype": "application/julia",
   "name": "julia",
   "version": "1.9.3"
  }
 },
 "nbformat": 4,
 "nbformat_minor": 5
}
