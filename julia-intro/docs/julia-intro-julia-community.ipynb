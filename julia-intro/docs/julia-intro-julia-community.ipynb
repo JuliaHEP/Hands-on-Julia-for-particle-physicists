{
 "cells": [
  {
   "cell_type": "markdown",
   "metadata": {
    "editable": true,
    "slideshow": {
     "slide_type": ""
    },
    "tags": []
   },
   "source": [
    "The Julia Community\n",
    "===================\n",
    "\n",
    "Especially in the modern world, a programming language is no better than the community resources it has on the internet.\n",
    "\n",
    "Whilst the **Julia** community is smaller than that for Python and C++, it's certainly well supported and active - and cross-fertilisation of ideas with other \"newer\" language communities such as *Rust* has led to a number of exciting developments as well."
   ]
  },
  {
   "cell_type": "markdown",
   "metadata": {},
   "source": [
    "## Managing Julia Packages (Pkg)\n",
    "\n",
    "Julia integrates its own package manager with a module called Pkg.\n",
    "From within a Julia shell, it is easy to install and otherwise manage libraries with\n",
    "\n",
    "```julia\n",
    "using Pkg\n",
    "Pkg.install(\"name-of-package\")\n",
    "```\n",
    "\n",
    "as long as they're known to the Julia ecosystem. \n",
    "Pkg will handle dependencies for any packages you install, and will usually precompile all of them to guarantee high performance.\n",
    "\n",
    "(Packages are registered in the Julia [General Registry](https://github.com/JuliaRegistries/General), and can be browsed with tools like [Julia Packages](https://juliapackages.com/) )\n",
    "\n",
    "### IJulia\n",
    "\n",
    "As Julia is one of the core Jupyter languages, it is easy to set up a Jupyter environment once you have a Julia install, with the IJulia package.\n",
    "With the help of the Pkg module, we can simply type\n",
    "\n",
    "```julia\n",
    "using Pkg\n",
    "Pkg.install(\"IJulia\")\n",
    "Pkg.build(\"IJulia\")\n",
    "using IJulia\n",
    "```\n",
    "\n",
    "IJulia will prompt you to install and set up a local MiniConda instance for Jupyter if you want to be truly standalone, otherwise you can integrate with your existing Jupyter install.\n",
    "\n",
    "If you want to launch a notebook from within Julia itself, you can then simply type \n",
    "\n",
    "```julia\n",
    "notebook()\n",
    "```\n",
    "\n",
    "to launch your Jupyter notebook service."
   ]
  },
  {
   "cell_type": "markdown",
   "metadata": {},
   "source": [
    "Getting Help with Julia\n",
    "-----------------------\n",
    "\n",
    "The Julia community is generally friendly and enthusiastic. As with any modern community, it lives at various places on the Internet.\n",
    "\n",
    "### \"Forum Style\" - the Julia Discourse\n",
    "\n",
    "The extensive Julia Discourse ( https://discourse.julialang.org/ ) serves as the centre of much of the Julia community's long-term communication.\n",
    "\n",
    "\n",
    "### \"Real Time\" - the Julia Slack [and others]\n",
    "\n",
    "For real-time conversations, the most popular instance is the Julia Slack ( https://julialang.org/slack/ ), although there are also communities on both [Zulip](https://julialang.zulipchat.com/register/) and [Discord](https://discord.gg/mm2kYjB).\n",
    "\n",
    "\n",
    "### HEP specific - the JuliaHEP subgroup\n",
    "\n",
    "For the last several years, the community of HEP people using Julia has had its own centre on the internet, based around <https://www.juliahep.org/>.\n",
    "\n",
    "(There are also subchannels on the main Julia Discourse and Slack devoted to HEP.)"
   ]
  },
  {
   "cell_type": "markdown",
   "metadata": {},
   "source": []
  }
 ],
 "metadata": {
  "kernelspec": {
   "display_name": "Julia 1.9.3",
   "language": "julia",
   "name": "julia-1.9"
  },
  "language_info": {
   "file_extension": ".jl",
   "mimetype": "application/julia",
   "name": "julia",
   "version": "1.9.3"
  }
 },
 "nbformat": 4,
 "nbformat_minor": 4
}
