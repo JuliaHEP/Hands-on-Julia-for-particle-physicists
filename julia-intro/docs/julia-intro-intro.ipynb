{
 "cells": [
  {
   "cell_type": "markdown",
   "metadata": {
    "slideshow": {
     "slide_type": ""
    },
    "tags": []
   },
   "source": [
    "Julia for Python (and C++) programmers\n",
    "========================================\n",
    "\n",
    "Why Julia?\n",
    "----------\n",
    "\n",
    "**Julia** is a relatively young (2012) programming language designed to be effective for scientific workflows - the developers specifically call out Fortran and MATLAB as predecessors in this area. \n",
    "Compared to these, Julia has much of the dynamic and interactive expressiveness of languages such as *Python* (including functionality that is only provided there by the third-party *NumPy* library), whilst leveraging just-in-time compilation and specialisation to allow performance approaching (and sometimes better than) high-performance compiled languages such as *C*, *Modern Fortran* and *Rust*.\n",
    "\n",
    "### List of Julia properties\n",
    "\n",
    "+ High-performance (within 0.5 order of magnitude of C; often at parity)\n",
    "+ Fully Unicode supporting - including LaTeX markup support in REPL, and natural mathematical symbols for common operations\n",
    "+ First-class support in Jupyter (it's the *Ju* bit of the name)\n",
    "+ Supports object-oriented programming (with *multiple dispatch*), Functional-style method chaining, and other modern paradigms\n",
    "+ Dynamic typing, with efficient function specialisation (via JIT) and optional typing supported deeply in language (unlike Python)\n",
    "\n"
   ]
  },
  {
   "cell_type": "markdown",
   "metadata": {},
   "source": [
    "Example Julia Code\n",
    "-------------------"
   ]
  },
  {
   "cell_type": "code",
   "execution_count": 1,
   "metadata": {},
   "outputs": [
    {
     "name": "stdout",
     "output_type": "stream",
     "text": [
      "Y is greater than X\n",
      "X is greater than Y\n"
     ]
    }
   ],
   "source": [
    "function myfunc(x, y)\n",
    "    if x > y\n",
    "        \"X is greater than Y\\n\"\n",
    "    else\n",
    "        \"Y is greater than X\\n\"\n",
    "    end\n",
    "end\n",
    "\n",
    "print(myfunc(2,3))\n",
    "\n",
    "print(myfunc(2.0, 1))"
   ]
  },
  {
   "cell_type": "markdown",
   "metadata": {
    "vscode": {
     "languageId": "julia"
    }
   },
   "source": [
    "As you can see, Julia's syntax is somewhere between that of Python and MATLAB in style, but it's easy to follow.\n",
    "One subtle thing we're using in this example is that *all* expressions return a value - the \"value\" of the *if* chain is the string that is created as the only operation in that chain... and thus the \"value\" of the function, without an explicit *return* statement, is simply the value of the last expression that was executed before the function ended.\n",
    "\n",
    "We could write this more explicitly as:"
   ]
  },
  {
   "cell_type": "code",
   "execution_count": 2,
   "metadata": {},
   "outputs": [
    {
     "data": {
      "text/plain": [
       "verbosefunc (generic function with 1 method)"
      ]
     },
     "execution_count": 2,
     "metadata": {},
     "output_type": "execute_result"
    }
   ],
   "source": [
    "function verbosefunc(x, y)\n",
    "    if x > y \n",
    "        return \"X is greater than Y\\n\"\n",
    "    else \n",
    "        return \"Y is greater than X\\n\"\n",
    "    end\n",
    "end"
   ]
  },
  {
   "cell_type": "markdown",
   "metadata": {},
   "source": [
    "and of course *explicit* return statements are necessary in some places to control flow.\n",
    "\n",
    "As we mentioned, Julia has a JIT which applies to all code written in it - the first time a unit of code is executed, the JIT will compile direct to host machine code. \n",
    "We can see this better with a longer function that requires actual effort (thanks to @Moelf), using the @time macro to get the execution time:"
   ]
  },
  {
   "cell_type": "code",
   "execution_count": 3,
   "metadata": {},
   "outputs": [
    {
     "data": {
      "text/plain": [
       "go_faster (generic function with 1 method)"
      ]
     },
     "execution_count": 3,
     "metadata": {},
     "output_type": "execute_result"
    }
   ],
   "source": [
    "function go_faster(a)\n",
    "    trace = 0.0\n",
    "    for i in axes(a, 1)\n",
    "        trace += tanh(a[i, i])\n",
    "    end\n",
    "    return a .+ trace\n",
    "end"
   ]
  },
  {
   "cell_type": "code",
   "execution_count": 4,
   "metadata": {},
   "outputs": [
    {
     "name": "stdout",
     "output_type": "stream",
     "text": [
      "  0.072604 seconds (269.89 k allocations: 18.373 MiB, 99.96% compilation time)\n"
     ]
    },
    {
     "data": {
      "text/plain": [
       "10×10 Matrix{Float64}:\n",
       "  9.0  19.0  29.0  39.0  49.0  59.0  69.0  79.0  89.0   99.0\n",
       " 10.0  20.0  30.0  40.0  50.0  60.0  70.0  80.0  90.0  100.0\n",
       " 11.0  21.0  31.0  41.0  51.0  61.0  71.0  81.0  91.0  101.0\n",
       " 12.0  22.0  32.0  42.0  52.0  62.0  72.0  82.0  92.0  102.0\n",
       " 13.0  23.0  33.0  43.0  53.0  63.0  73.0  83.0  93.0  103.0\n",
       " 14.0  24.0  34.0  44.0  54.0  64.0  74.0  84.0  94.0  104.0\n",
       " 15.0  25.0  35.0  45.0  55.0  65.0  75.0  85.0  95.0  105.0\n",
       " 16.0  26.0  36.0  46.0  56.0  66.0  76.0  86.0  96.0  106.0\n",
       " 17.0  27.0  37.0  47.0  57.0  67.0  77.0  87.0  97.0  107.0\n",
       " 18.0  28.0  38.0  48.0  58.0  68.0  78.0  88.0  98.0  108.0"
      ]
     },
     "execution_count": 4,
     "metadata": {},
     "output_type": "execute_result"
    }
   ],
   "source": [
    "x = reshape(0:99, 10, 10)\n",
    "\n",
    "@time go_faster(x)"
   ]
  },
  {
   "cell_type": "markdown",
   "metadata": {},
   "source": [
    "As we can see, over 99.9% of the time taken was by the JIT. \n",
    "However, as Julia caches the result, subsequent executions are much faster, using the previously compiled code:\n"
   ]
  },
  {
   "cell_type": "code",
   "execution_count": 4,
   "metadata": {},
   "outputs": [
    {
     "name": "stdout",
     "output_type": "stream",
     "text": [
      "  0.072999 seconds (269.89 k allocations: 18.373 MiB, 99.96% compilation time)\n"
     ]
    },
    {
     "data": {
      "text/plain": [
       "10×10 Matrix{Float64}:\n",
       " 10.7616  20.7616  30.7616  40.7616  …  70.7616  80.7616  90.7616  100.762\n",
       " 11.7616  21.7616  31.7616  41.7616     71.7616  81.7616  91.7616  101.762\n",
       " 12.7616  22.7616  32.7616  42.7616     72.7616  82.7616  92.7616  102.762\n",
       " 13.7616  23.7616  33.7616  43.7616     73.7616  83.7616  93.7616  103.762\n",
       " 14.7616  24.7616  34.7616  44.7616     74.7616  84.7616  94.7616  104.762\n",
       " 15.7616  25.7616  35.7616  45.7616  …  75.7616  85.7616  95.7616  105.762\n",
       " 16.7616  26.7616  36.7616  46.7616     76.7616  86.7616  96.7616  106.762\n",
       " 17.7616  27.7616  37.7616  47.7616     77.7616  87.7616  97.7616  107.762\n",
       " 18.7616  28.7616  38.7616  48.7616     78.7616  88.7616  98.7616  108.762\n",
       " 19.7616  29.7616  39.7616  49.7616     79.7616  89.7616  99.7616  109.762"
      ]
     },
     "execution_count": 4,
     "metadata": {},
     "output_type": "execute_result"
    }
   ],
   "source": [
    "y = reshape(1:100, 10, 10)\n",
    "\n",
    "@time go_faster(y)"
   ]
  },
  {
   "cell_type": "markdown",
   "metadata": {},
   "source": [
    "Of course, it's possible to achieve similar effects using the various \"JIT in Python\" packages like *numba*, but those are additional add-ons to Python itself, and often require writing code in outwardly \"unPythonic\" ways.\n"
   ]
  },
  {
   "cell_type": "markdown",
   "metadata": {},
   "source": [
    "A Quick Overview of Julia Syntax\n",
    "----------------------------------\n",
    "\n",
    "Much of Julia's syntax should be easy to pick up for users of Python or other modern languages. The example functions above demonstrate much of the control flow, but we'll go over the basics quickly, pointing out Juliaisms where we see them.\n",
    "\n",
    "### Comments\n",
    "\n",
    "Comments in Julia are made with a **#**\n",
    "\n",
    "\n",
    "### Types \n",
    "\n",
    "Values in Julia can have various *Types*, depending on the kind of data they represent. In common with many 21st C languages, Julia expresses the relationship between Types as a *Type Hierarchy*, as seen below:\n",
    "\n",
    "![The Julia Type Hierarchy, thanks to Uwe Hernandez Acosta](./images/numeric_types.png)\n",
    "\n",
    "Only the leaves of the hierarchy are \"concrete types\" - types that a value can possess. The remaining types are \"abstract types\", existing to allow Julia to reason about common properties of two values of different types. \n",
    "\n",
    "A value of a particular concrete type also matches all of the abstract types above it in the hierarchy - a **Float64** value is also an **AbstractFloat**, a **Real** and a **Number**.\n",
    "\n",
    "In Julia, the \"<:\" operator expresses the relation of \"subtype\" - so it is **true** that **Float64 <: AbstractFloat**\n",
    "\n",
    "For the most part, as in Python, you can write a value and assume that Julia will pick the correct type for it automatically. \n",
    "\n",
    "\n",
    "### Variable Declaration and Types\n",
    "\n",
    "Variables in Julia can be declared typelessly, like in Python - they must be declared with an assignment. In this case, they work like Python variables, taking on the type of whatever value is contained in them. Assigning a differently typed value to the variable changes its type.\n",
    "\n",
    "Variables may use almost Unicode characters they like.\n",
    "\n",
    "(from now on, we'll be using the **@show** macro, which outputs the current line, and its result, as part of the Cell output, in order to cut down on the number of cells we need)"
   ]
  },
  {
   "cell_type": "code",
   "execution_count": 5,
   "metadata": {},
   "outputs": [
    {
     "name": "stdout",
     "output_type": "stream",
     "text": [
      "typeof(myvar_α) = Int64\n",
      "typeof(myvar_α) = Float64\n"
     ]
    },
    {
     "data": {
      "text/plain": [
       "Float64"
      ]
     },
     "execution_count": 5,
     "metadata": {},
     "output_type": "execute_result"
    }
   ],
   "source": [
    "myvar_α = 1 \n",
    "\n",
    "@show typeof(myvar_α)\n",
    "\n",
    "myvar_α = 2.0\n",
    "\n",
    "@show typeof(myvar_α)"
   ]
  },
  {
   "cell_type": "markdown",
   "metadata": {},
   "source": [
    "We can also choose to specify explicitly the type of a variable, by annotating it on first declaration with the special ::Type syntax.\n",
    "This *binds* the specified type to the variable - meaning that values will be *converted* to the variable's type on assignment, if necessary.\n",
    "(If Julia cannot convert a value without losing precision, it will instead throw an error)\n",
    "\n",
    "This is a recurring approach in Julia - you *can* specify types, but if not, Julia will infer them if necessary from context."
   ]
  },
  {
   "cell_type": "code",
   "execution_count": 6,
   "metadata": {},
   "outputs": [
    {
     "name": "stdout",
     "output_type": "stream",
     "text": [
      "typeof(myint) = Int64\n",
      "typeof(myint) = Int64\n"
     ]
    },
    {
     "data": {
      "text/plain": [
       "2"
      ]
     },
     "execution_count": 6,
     "metadata": {},
     "output_type": "execute_result"
    }
   ],
   "source": [
    "myint::Int64 = 1 \n",
    "\n",
    "@show typeof(myint)\n",
    "\n",
    "myint = 2.0\n",
    "\n",
    "@show typeof(myint)\n",
    "\n",
    "myint  #note that this is an integer value "
   ]
  },
  {
   "cell_type": "code",
   "execution_count": 7,
   "metadata": {},
   "outputs": [
    {
     "ename": "LoadError",
     "evalue": "InexactError: Int64(2.5)",
     "output_type": "error",
     "traceback": [
      "InexactError: Int64(2.5)",
      "",
      "Stacktrace:",
      " [1] Int64",
      "   @ .\\float.jl:900 [inlined]",
      " [2] convert(#unused#::Type{Int64}, x::Float64)",
      "   @ Base .\\number.jl:7",
      " [3] top-level scope",
      "   @ In[7]:1"
     ]
    }
   ],
   "source": [
    "myint = 2.5  #InexactError - Julia won't truncate a floating point value implicitly"
   ]
  },
  {
   "cell_type": "markdown",
   "metadata": {},
   "source": [
    "Julia also supports Complex values internally - the **im** keyword is used to represent *i*. Complex values support all the usual arithmetic operations transparently:"
   ]
  },
  {
   "cell_type": "code",
   "execution_count": 8,
   "metadata": {},
   "outputs": [
    {
     "data": {
      "text/plain": [
       "0.75 - 0.5im"
      ]
     },
     "execution_count": 8,
     "metadata": {},
     "output_type": "execute_result"
    }
   ],
   "source": [
    "(2 + 3im) / (4im)"
   ]
  },
  {
   "cell_type": "markdown",
   "metadata": {},
   "source": [
    "### Composite Types (\"Structs\")\n",
    "\n",
    "We can also define new composite types - where we have to provide some type information for the contained values. \n",
    "By default, composite types variables are *immutable*, like Python tuples with named elements."
   ]
  },
  {
   "cell_type": "code",
   "execution_count": 9,
   "metadata": {},
   "outputs": [
    {
     "name": "stdout",
     "output_type": "stream",
     "text": [
      "υϵκτωρ = my_vector(3.7, 6.0e7) = my_vector(3.7, 6.0e7)\n"
     ]
    },
    {
     "ename": "LoadError",
     "evalue": "setfield!: immutable struct of type my_vector cannot be changed",
     "output_type": "error",
     "traceback": [
      "setfield!: immutable struct of type my_vector cannot be changed",
      "",
      "Stacktrace:",
      " [1] setproperty!(x::my_vector, f::Symbol, v::Float64)",
      "   @ Base .\\Base.jl:38",
      " [2] top-level scope",
      "   @ In[9]:8"
     ]
    }
   ],
   "source": [
    "struct my_vector\n",
    "    x::Float64\n",
    "    y::Float64\n",
    "end\n",
    "\n",
    "@show υϵκτωρ = my_vector(3.7, 6e7)\n",
    "\n",
    "υϵκτωρ.x = 3.6"
   ]
  },
  {
   "cell_type": "markdown",
   "metadata": {},
   "source": [
    "We can also define explicitly *mutable* composite types, whose values can be modified, as well as generic composite types which expect a type parameter to be provided when instantiated.\n",
    "\n",
    "In this case, \"templated_vector\" structs need to be given the type of their data - either explicitly, or implicitly (by inference from the values they're initialised with)."
   ]
  },
  {
   "cell_type": "code",
   "execution_count": 10,
   "metadata": {},
   "outputs": [
    {
     "name": "stdout",
     "output_type": "stream",
     "text": [
      "μυτ = mutable_vector(3.6, 7.8) = mutable_vector(3.6, 7.8)\n",
      "μυτ.x = 5 = 5\n",
      "int_vec = templated_vector{Int64}(6, 7) = templated_vector{Int64}(6, 7)\n",
      "float_vec = templated_vector(6.0, 6.0) = templated_vector{Float64}(6.0, 6.0)\n"
     ]
    },
    {
     "data": {
      "text/plain": [
       "templated_vector{Float64}(6.0, 6.0)"
      ]
     },
     "execution_count": 10,
     "metadata": {},
     "output_type": "execute_result"
    }
   ],
   "source": [
    "mutable struct mutable_vector\n",
    "    x::Float64\n",
    "    y::Float64\n",
    "end\n",
    "\n",
    "@show μυτ = mutable_vector(3.6, 7.8)\n",
    "\n",
    "@show μυτ.x = 5\n",
    "\n",
    "struct templated_vector{T<:Number}  #here, we can make any kind of templated_vector as long as the type is a Number\n",
    "    x::T\n",
    "    y::T\n",
    "end\n",
    "\n",
    "@show int_vec = templated_vector{Int64}(6,7)\n",
    "\n",
    "@show float_vec = templated_vector(6.0,6.0)"
   ]
  },
  {
   "cell_type": "markdown",
   "metadata": {},
   "source": [
    "### Arrays, Dicts and other Composite Types\n",
    "\n",
    "Julia supports multidimensional Arrays as first-class members of its type system, as you already may have noticed. \n",
    "\n",
    "Unlike C and C++, Arrays in Julia are not simply wrappers around pointer arithmetic - and unlike those languages and Python, multidimensional Arrays are not simply \"arrays of single-dimensional arrays/lists\". This allows Julia to provide advanced Array types - like SparseArray - that efficiently store data with particular symmetries or organisational properties.\n",
    "\n",
    "Also, unlike all those languages, Julia Arrays are *column-major* - the left-most index is the one that varies most rapidly, as in Fortran and MatLab.\n",
    "\n",
    "Arrays can be used like Python lists - to contain *any* mix of value types - but we usually don't want to do that because it's inefficient.\n",
    "\n",
    "We can create \"Array Literals\" with a superficially familiar [] syntax, we can separate values by commas if we're making a 1-d array. We can also specify ranges with colons, and \"list comprehension\" type syntax.\n",
    "\n",
    "For higher-dimensional arrays, we can nest brackets, using spaces, tabs or semicolons to concatenate the \"columns\" into a multidimensional structure... (there's a deep syntax for constructing high-dimensionality arrays which we won't cover in this intro!)"
   ]
  },
  {
   "cell_type": "code",
   "execution_count": 11,
   "metadata": {},
   "outputs": [
    {
     "name": "stdout",
     "output_type": "stream",
     "text": [
      "[1, 2, 3] = [1, 2, 3]\n",
      "[1, 2.0, 'b'] = Any[1, 2.0, 'b']\n",
      "[1:5] = UnitRange{Int64}[1:5]\n",
      "[i ^ 2 for i = 4:8] = [16, 25, 36, 49, 64]\n",
      "[[1, 2] [3, 4]] = [1 3; 2 4]\n"
     ]
    },
    {
     "data": {
      "text/plain": [
       "2×2 Matrix{Int64}:\n",
       " 1  3\n",
       " 2  4"
      ]
     },
     "execution_count": 11,
     "metadata": {},
     "output_type": "execute_result"
    }
   ],
   "source": [
    "@show [1,2,3]\n",
    "\n",
    "@show [1, 2.0, 'b']\n",
    "\n",
    "@show [1:5]\n",
    "\n",
    "@show [i^2 for i = 4:8]\n",
    "\n",
    "@show [[1,2] [3,4]] #the Out[22] refers to this"
   ]
  },
  {
   "cell_type": "markdown",
   "metadata": {},
   "source": [
    "More usually, we will instead create Arrays via the constructor, or via the many utility functions that exist (similarly to NumPy).\n",
    "In the first example we directly create an (uninitialised, hence 'random' element values) array of 64-bit integers... but that's not a very common requirement - notice that Arrays are effectively \"templated types\" like our struct above."
   ]
  },
  {
   "cell_type": "code",
   "execution_count": 12,
   "metadata": {},
   "outputs": [
    {
     "name": "stdout",
     "output_type": "stream",
     "text": [
      "empty_array = Array{Int64}(undef, 2) = [1675873130224, 1675873130256]\n",
      "zeros(Float64, 2, 3) = [0.0 0.0 0.0; 0.0 0.0 0.0]\n",
      "reshape(1:9, 3, 3) = [1 4 7; 2 5 8; 3 6 9]\n"
     ]
    },
    {
     "data": {
      "text/plain": [
       "3×3 reshape(::UnitRange{Int64}, 3, 3) with eltype Int64:\n",
       " 1  4  7\n",
       " 2  5  8\n",
       " 3  6  9"
      ]
     },
     "execution_count": 12,
     "metadata": {},
     "output_type": "execute_result"
    }
   ],
   "source": [
    "@show empty_array = Array{Int64}(undef,2)\n",
    "\n",
    "α = @show zeros(Float64, 2, 3)\n",
    "\n",
    "β = @show reshape(1:9, 3, 3)"
   ]
  },
  {
   "cell_type": "markdown",
   "metadata": {},
   "source": [
    "Arrays are indexed via *all* of their indices in a single bracket, as they are entire objects even if multi-dimensional. \n",
    "As in Python, \":\" allows us to specify a range to *slice* a particular index over - a bare \":\" represents the entire range.\n",
    "\n",
    "Julia arrays default to 1-indexing, not 0-indexing that you might be used to. The special keywords \"begin\" and \"end\" can also be used to refer to the first and last elements in an indexed range."
   ]
  },
  {
   "cell_type": "code",
   "execution_count": 13,
   "metadata": {},
   "outputs": [
    {
     "name": "stdout",
     "output_type": "stream",
     "text": [
      "β[begin, end] = 7\n",
      "β[1, 1:2] = [1, 4]\n",
      "β[:, 2] = [4, 5, 6]\n"
     ]
    },
    {
     "data": {
      "text/plain": [
       "3-element Vector{Int64}:\n",
       " 4\n",
       " 5\n",
       " 6"
      ]
     },
     "execution_count": 13,
     "metadata": {},
     "output_type": "execute_result"
    }
   ],
   "source": [
    "@show β[begin,end]\n",
    "\n",
    "@show β[1,1:2]\n",
    "\n",
    "@show β[:,2]"
   ]
  },
  {
   "cell_type": "markdown",
   "metadata": {},
   "source": [
    "#### Tuples\n",
    "\n",
    "Julia also supports immutable Arrays - Tuples - which, as in Python, are created using parenthesis ( ) , rather than [ ]. \n",
    "You can name the fields of a tuple if you want (using \"=\" to map names to values)."
   ]
  },
  {
   "cell_type": "code",
   "execution_count": 14,
   "metadata": {},
   "outputs": [
    {
     "name": "stdout",
     "output_type": "stream",
     "text": [
      "my_tuple = (2, 3) = (2, 3)\n",
      "named_tuple = (a = 1, b = 7) = (a = 1, b = 7)\n",
      "named_tuple.a = 1\n"
     ]
    },
    {
     "data": {
      "text/plain": [
       "1"
      ]
     },
     "execution_count": 14,
     "metadata": {},
     "output_type": "execute_result"
    }
   ],
   "source": [
    "@show my_tuple = (2,3)\n",
    "\n",
    "@show named_tuple = (a=1, b=7)\n",
    "\n",
    "@show named_tuple.a"
   ]
  },
  {
   "cell_type": "markdown",
   "metadata": {},
   "source": [
    "Tuple expressions can also be used as part of Julia's support for \"destructuring\" values in composite types on assignment.\n",
    "Here, we distribute the 4 values on the right into 4 variables on the left:"
   ]
  },
  {
   "cell_type": "code",
   "execution_count": 15,
   "metadata": {},
   "outputs": [
    {
     "name": "stdout",
     "output_type": "stream",
     "text": [
      "(a, b, c, d) = 9:13 = 9:13\n",
      "b = 10\n"
     ]
    },
    {
     "data": {
      "text/plain": [
       "10"
      ]
     },
     "execution_count": 15,
     "metadata": {},
     "output_type": "execute_result"
    }
   ],
   "source": [
    "@show (a,b,c,d) = 9:13\n",
    "\n",
    "@show b"
   ]
  },
  {
   "cell_type": "markdown",
   "metadata": {},
   "source": [
    "### Dictionaries etc\n",
    "\n",
    "Finally, we can make Dictionaries (for C++ programmers - HashMaps or AssociativeArrays) with the Dict constructor.\n",
    "Unlike Python, the mapping between a key and a value is denoted with a \"=>\".\n",
    "There's also a \"dictionary comprehension\" syntax for dictionaries that can be computed as an operation over ranges.\n",
    "\n",
    "Dictionaries have a range of methods that work on them.\n",
    "\n",
    "We can also make Sets and other advanced collections."
   ]
  },
  {
   "cell_type": "code",
   "execution_count": 16,
   "metadata": {},
   "outputs": [
    {
     "name": "stdout",
     "output_type": "stream",
     "text": [
      "farmyard_sounds[\"🐮\"] = \"moo\"\n",
      "haskey(farmyard_sounds, \"pig\") = true\n",
      "farmyard_sounds[\"🐱\"] = \"Meow\" = \"Meow\"\n",
      "Set(values(farmyard_sounds)) = Set([\"get off my land!\", \"baa\", \"oink\", \"Meow\", \"moo\"])\n"
     ]
    },
    {
     "data": {
      "text/plain": [
       "Set{String} with 5 elements:\n",
       "  \"get off my land!\"\n",
       "  \"baa\"\n",
       "  \"oink\"\n",
       "  \"Meow\"\n",
       "  \"moo\""
      ]
     },
     "execution_count": 16,
     "metadata": {},
     "output_type": "execute_result"
    }
   ],
   "source": [
    "farmyard_sounds = Dict(\"🐮\" => \"moo\", \"sheep\" => \"baa\", \"pig\" => \"oink\", \"farmer\" => \"get off my land!\")\n",
    "\n",
    "@show farmyard_sounds[\"🐮\"]\n",
    "\n",
    "@show haskey(farmyard_sounds,\"pig\")\n",
    "\n",
    "@show farmyard_sounds[\"🐱\"] = \"Meow\"\n",
    "\n",
    "@show Set(values(farmyard_sounds))"
   ]
  },
  {
   "cell_type": "markdown",
   "metadata": {},
   "source": [
    "### Strings\n",
    "\n",
    "Strings in Julia are Unicode, encoded as UTF-8. They are delimited by double quotes, or triple-double-quotes (which allows you to use double quotes inside the string). Single quotes delimit *characters*, as in C, C++.\n",
    "\n",
    "A string can be indexed into like an Array, but indexing is done byte-wise and Julia *will* throw an error if you try to index into the middle of a code-point. For iteration over the code-points in a string, Julia provides the *eachindex* method.\n",
    "\n",
    "String concatenation is done with the * operator."
   ]
  },
  {
   "cell_type": "code",
   "execution_count": 17,
   "metadata": {},
   "outputs": [
    {
     "name": "stdout",
     "output_type": "stream",
     "text": [
      "текст[38] = 'т'\n"
     ]
    },
    {
     "data": {
      "text/plain": [
       "\"The Ukrainian for 'text' is 'текст' and the Hindi is \\\"पाठ\\\" \""
      ]
     },
     "execution_count": 17,
     "metadata": {},
     "output_type": "execute_result"
    }
   ],
   "source": [
    "текст = \"The Ukrainian for 'text' is 'текст' \"   \n",
    "\n",
    "@show текст[38] #trying to access position 37  would fail as it's in the middle of the 'с'\n",
    "\n",
    "текст * \"\"\"and the Hindi is \"पाठ\" \"\"\""
   ]
  },
  {
   "cell_type": "markdown",
   "metadata": {},
   "source": [
    "Strings also allow interpolation of expressions in Julia - using `$()` to contain the expression to be evaluated, or just `$expr` if `expr` is a single variable name."
   ]
  },
  {
   "cell_type": "code",
   "execution_count": 18,
   "metadata": {},
   "outputs": [
    {
     "name": "stdout",
     "output_type": "stream",
     "text": [
      "\"35 squared is $(35 ^ 2)\" = \"35 squared is 1225\"\n"
     ]
    },
    {
     "data": {
      "text/plain": [
       "\"The string текст is \\\"The Ukrainian for 'text' is 'текст' \\\" \""
      ]
     },
     "execution_count": 18,
     "metadata": {},
     "output_type": "execute_result"
    }
   ],
   "source": [
    "@show \"35 squared is $(35^2)\"\n",
    "\n",
    "\"\"\"The string текст is \"$текст\" \"\"\""
   ]
  },
  {
   "cell_type": "markdown",
   "metadata": {},
   "source": [
    "By contrast, single characters are delimited by single quotes, and are internally represented as 32-bit values (they default to UTF-32 representation)."
   ]
  },
  {
   "cell_type": "code",
   "execution_count": 19,
   "metadata": {},
   "outputs": [
    {
     "data": {
      "text/plain": [
       "'α': Unicode U+03B1 (category Ll: Letter, lowercase)"
      ]
     },
     "execution_count": 19,
     "metadata": {},
     "output_type": "execute_result"
    }
   ],
   "source": [
    "alpha = 'α'"
   ]
  },
  {
   "cell_type": "markdown",
   "metadata": {},
   "source": [
    "## Control Flow\n",
    "\n",
    "Julia delimits \"blocks\" of code using \"begin\" and \"end\" keywords - it's not dependant on white-space indenting like Python, although Julia *will* indent your code for you in a REPL or notebook, to make it more readable.\n",
    "\n",
    "Explicit Loops look a lot like Python, with the addition of the explict \"end\" to close the block:"
   ]
  },
  {
   "cell_type": "code",
   "execution_count": 20,
   "metadata": {},
   "outputs": [
    {
     "name": "stdout",
     "output_type": "stream",
     "text": [
      "0×0 is 0\n",
      "1×1 is 1\n",
      "2×2 is 4\n",
      "3×3 is 9\n",
      "4×4 is 16\n",
      "i = 6\n",
      "i = 5\n",
      "i = 4\n",
      "i = 3\n",
      "i = 2\n",
      "i = 1\n"
     ]
    }
   ],
   "source": [
    "for i in 0:4\n",
    "    println(\"$i×$i is $(i*i)\")\n",
    "end\n",
    "\n",
    "i = 6\n",
    "while i > 0 \n",
    "    println(\"i = $i\")\n",
    "    i -= 1\n",
    "end"
   ]
  },
  {
   "cell_type": "markdown",
   "metadata": {},
   "source": [
    "Similarly, explicit branching looks quite familiar:"
   ]
  },
  {
   "cell_type": "code",
   "execution_count": 21,
   "metadata": {},
   "outputs": [
    {
     "name": "stdout",
     "output_type": "stream",
     "text": [
      "5 > 3\n"
     ]
    }
   ],
   "source": [
    "i = 5\n",
    "\n",
    "if i > 3 \n",
    "    println(\"$i > 3\")\n",
    "elseif i < 0\n",
    "    println(\"$i is negative\")\n",
    "else\n",
    "    println(\"$i is positive and ≤3\")\n",
    "end"
   ]
  }
 ],
 "metadata": {
  "kernelspec": {
   "display_name": "Julia 1.9.3",
   "language": "julia",
   "name": "julia-1.9"
  },
  "language_info": {
   "file_extension": ".jl",
   "mimetype": "application/julia",
   "name": "julia",
   "version": "1.9.3"
  }
 },
 "nbformat": 4,
 "nbformat_minor": 4
}
