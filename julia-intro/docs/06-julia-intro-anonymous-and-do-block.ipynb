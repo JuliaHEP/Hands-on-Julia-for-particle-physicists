{
 "cells": [
  {
   "cell_type": "markdown",
   "id": "a2eaefc6-58e0-4520-9ba9-f11d1480e959",
   "metadata": {
    "slideshow": {
     "slide_type": ""
    },
    "tags": []
   },
   "source": [
    "# Anonymous Functions and Do-block"
   ]
  },
  {
   "cell_type": "markdown",
   "id": "2a69c363",
   "metadata": {
    "slideshow": {
     "slide_type": ""
    },
    "tags": []
   },
   "source": [
    "While you can write everything without anonymous functions and do-blocks, they are common syntax used in the Julia code base and make code easier to read & write for humans."
   ]
  },
  {
   "cell_type": "markdown",
   "id": "33ca213b-6638-4c0e-9428-5db7e81975ce",
   "metadata": {},
   "source": [
    "## Anonymous function\n",
    "As a reminder, anonymous functions are useful for writing one-liners:"
   ]
  },
  {
   "cell_type": "code",
   "execution_count": 1,
   "id": "98c087f9-7ca5-4bd8-8cdc-e67352ef6dd8",
   "metadata": {},
   "outputs": [
    {
     "data": {
      "text/plain": [
       "3-element Vector{Int64}:\n",
       "  0\n",
       "  1\n",
       " -2"
      ]
     },
     "metadata": {},
     "output_type": "display_data"
    }
   ],
   "source": [
    "sort([-2, 0, 1]; by = x -> x^4)"
   ]
  },
  {
   "cell_type": "markdown",
   "id": "9b4fcf07-e589-4409-b8f8-909004ab5103",
   "metadata": {},
   "source": [
    "of course, you can always define a separate named function, although this pollutes the namespace if you're only using it once:"
   ]
  },
  {
   "cell_type": "code",
   "execution_count": 2,
   "id": "6d8eee0f-23b4-4023-b7ee-993cf1efbf1e",
   "metadata": {},
   "outputs": [
    {
     "data": {
      "text/plain": [
       "3-element Vector{Int64}:\n",
       "  0\n",
       "  1\n",
       " -2"
      ]
     },
     "metadata": {},
     "output_type": "display_data"
    }
   ],
   "source": [
    "_my_by(x) = x^4\n",
    "sort([-2, 0, 1]; by = _my_by)"
   ]
  },
  {
   "cell_type": "markdown",
   "id": "342f4123-bff3-4027-8012-18ba4e246839",
   "metadata": {},
   "source": [
    "## Do-block syntax"
   ]
  },
  {
   "cell_type": "markdown",
   "id": "ede5d8e1-f0f3-4172-b6a2-0fa0bab1370a",
   "metadata": {},
   "source": [
    "The `do-block` syntax helps when your anonymous function is too long but doesn't deserve its own name.\n",
    "\n",
    "This:"
   ]
  },
  {
   "cell_type": "code",
   "execution_count": 3,
   "id": "3f25bbb2-9381-425d-a1db-2e3fd103bc15",
   "metadata": {},
   "outputs": [
    {
     "data": {
      "text/plain": [
       "3-element Vector{Float64}:\n",
       "  -1.0\n",
       " NaN\n",
       "   1.0"
      ]
     },
     "metadata": {},
     "output_type": "display_data"
    }
   ],
   "source": [
    "function _one_off(x)\n",
    "    if x>=1\n",
    "        return 1.0\n",
    "    elseif x<0\n",
    "        return -1.0\n",
    "    else\n",
    "        return NaN\n",
    "    end\n",
    "end\n",
    "\n",
    "map(_one_off, -1:1)"
   ]
  },
  {
   "cell_type": "markdown",
   "id": "1c83bb9f-bfe8-45d0-a982-e97a7fe364a4",
   "metadata": {},
   "source": [
    "is equivalent to writing the following `do-block`:"
   ]
  },
  {
   "cell_type": "code",
   "execution_count": 4,
   "id": "faf7b6c3-6a04-4d77-b9c4-335de9e5575c",
   "metadata": {},
   "outputs": [
    {
     "data": {
      "text/plain": [
       "3-element Vector{Float64}:\n",
       "  -1.0\n",
       " NaN\n",
       "   1.0"
      ]
     },
     "metadata": {},
     "output_type": "display_data"
    }
   ],
   "source": [
    "map(-1:1) do x\n",
    "    if x>=1\n",
    "        return 1.0\n",
    "    elseif x<0\n",
    "        return -1.0\n",
    "    else\n",
    "        return NaN\n",
    "    end\n",
    "end"
   ]
  },
  {
   "cell_type": "markdown",
   "id": "20001de3-bd3e-489f-b34a-abcac05f0565",
   "metadata": {},
   "source": [
    "More throughly speaking, the `do-block` syntax makes an anonymous function using the body (between `do` and `end`), taking variable names immediately after the `do` as parameters, and passes this function as the first argument of `map()`. Note, this works on any function (that expects first argument to be callable), not just `map()`.\n",
    "\n",
    "Many functions in the Julia standard library have alternate forms which take a function as their first argument to allow this kind of style. Generally, such functions also perform clean-up after the do-block has completed, making this a lot like `with` blocks in Python.\n",
    "\n",
    "For example, there is a version of `open` which enables a *very* familiar form to Python programmers:"
   ]
  },
  {
   "cell_type": "code",
   "execution_count": 6,
   "metadata": {},
   "outputs": [],
   "source": [
    "open(\"somefile.txt\", write=true) do io\n",
    "    write(io, \"I added this line!\\n\")\n",
    "end;"
   ]
  }
 ],
 "metadata": {
  "kernelspec": {
   "display_name": "Julia 1.11.6",
   "language": "julia",
   "name": "julia-1.11"
  },
  "language_info": {
   "file_extension": ".jl",
   "mimetype": "application/julia",
   "name": "julia",
   "version": "1.11.6"
  }
 },
 "nbformat": 4,
 "nbformat_minor": 5
}
