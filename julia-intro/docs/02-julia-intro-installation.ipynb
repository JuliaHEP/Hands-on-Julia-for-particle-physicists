{
 "cells": [
  {
   "cell_type": "markdown",
   "metadata": {},
   "source": [
    "# Installing and Running Julia"
   ]
  },
  {
   "cell_type": "markdown",
   "metadata": {},
   "source": [
    "## Standard Installation\n",
    "\n",
    "Installing Julia is very easy, as it comes with its own version manager `juliaup`:\n",
    "\n",
    "- Go to the Julia [install](https://julialang.org/install/) page\n",
    "- Download and install `juliaup` for your platform (it can also be found in the Arch User Repository)\n",
    "\n",
    "Note: You can still download julia versions manually, but this is no longer recommended. tarballs can be found [here](https://julialang.org/downloads/)."
   ]
  },
  {
   "cell_type": "markdown",
   "metadata": {},
   "source": [
    "## Using juliaup\n",
    "\n",
    "The usage is generally similar to and inspired by `rustup`:\n",
    "\n",
    "- Install a julia version: `juliaup add <version>`, for example `lts`, `release`, `nightly`, or a specific version number\n",
    "- List all available versions to install: `juliaup list`\n",
    "- Set a default version: `juliaup default <version>`\n",
    "- Update installed versions: `juliaup up`\n",
    "- Update juliaup itself: `juliaup self update`\n",
    "\n",
    "For the purpose of this tutorial, use `lts` (currently 1.10) or `release` (currently 1.11)."
   ]
  },
  {
   "cell_type": "markdown",
   "metadata": {},
   "source": [
    "## Running Julia\n",
    "\n",
    "Running julia starts juliaup's default version:\n",
    "\n",
    "```julia\n",
    "➜  ~ julia\n",
    "               _\n",
    "   _       _ _(_)_     |  Documentation: https://docs.julialang.org\n",
    "  (_)     | (_) (_)    |\n",
    "   _ _   _| |_  __ _   |  Type \"?\" for help, \"]?\" for Pkg help.\n",
    "  | | | | | | |/ _` |  |\n",
    "  | | |_| | | | (_| |  |  Version 1.11.6 (2025-07-09)\n",
    " _/ |\\__'_|_|_|\\__'_|  |  Official https://julialang.org/ release\n",
    "|__/                   |\n",
    "\n",
    "julia> \n",
    "```\n",
    "\n",
    "You can start a specific installed julia version using `julia +<version>`"
   ]
  },
  {
   "cell_type": "markdown",
   "metadata": {},
   "source": [
    "You will be to now type Julia commands in a standard **REPL** environment: *read*, *evaluate*, *print*, *loop*.\n",
    "\n",
    "This is an almost exact Julia analogue of Python's `ipython`."
   ]
  },
  {
   "cell_type": "markdown",
   "metadata": {},
   "source": [
    "```julia\n",
    "julia> println(\"hello, world!\")\n",
    "hello, world!\n",
    "\n",
    "julia> (2+3)^2\n",
    "25\n",
    "\n",
    "julia> \n",
    "```"
   ]
  },
  {
   "cell_type": "markdown",
   "metadata": {},
   "source": [
    "### Notebooks\n",
    "\n",
    "Julia will run in a Jupyter notebook environment, e.g., using Jupyter Lab or in VS Code"
   ]
  },
  {
   "cell_type": "markdown",
   "metadata": {},
   "source": [
    "### Julia Scripts\n",
    "\n",
    "Finally, let's just observe that Julia scripts work just as one would expect:\n",
    "\n",
    "```julia\n",
    "#! /usr/bin/env julia\n",
    "\n",
    "function main()\n",
    "    println(\"hello, world! let's calculate a sum of squares\")\n",
    "\n",
    "    total = 0\n",
    "    for i in 1:10\n",
    "        total += i^2\n",
    "    end\n",
    "\n",
    "    println(\"The answer is $(total)\")\n",
    "end\n",
    "\n",
    "main()\n",
    "```\n"
   ]
  },
  {
   "cell_type": "markdown",
   "metadata": {},
   "source": [
    "So let's execute that:\n",
    "\n",
    "```\n",
    "$ julia julia-script.jl\n",
    "hello, world! let's calculate a sum of squares\n",
    "The answer is 385\n",
    "```"
   ]
  }
 ],
 "metadata": {
  "kernelspec": {
   "display_name": "Julia 1.9.3",
   "language": "julia",
   "name": "julia-1.9"
  },
  "language_info": {
   "name": "julia"
  },
  "orig_nbformat": 4
 },
 "nbformat": 4,
 "nbformat_minor": 2
}
