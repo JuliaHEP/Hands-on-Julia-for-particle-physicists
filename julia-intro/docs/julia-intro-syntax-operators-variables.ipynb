{
 "cells": [
  {
   "cell_type": "markdown",
   "metadata": {},
   "source": [
    "# Julia Syntax Survival (Operators and Variables)\n",
    "\n",
    "All languages have their syntax and here we present a whistle-stop tour of the highlights of Julia.\n",
    "\n",
    "We don't attempt to be exhaustive here - check the [Julia Documentation](https://docs.julialang.org/) (or do a search) if there's anything you are unsure of."
   ]
  },
  {
   "cell_type": "markdown",
   "metadata": {},
   "source": [
    "## Variables\n",
    "\n",
    "A variable is a name bound to a value and assignment is done with `=` (no surprise!):"
   ]
  },
  {
   "cell_type": "code",
   "execution_count": 1,
   "metadata": {},
   "outputs": [
    {
     "data": {
      "text/plain": [
       "1.0e-9"
      ]
     },
     "execution_count": 1,
     "metadata": {},
     "output_type": "execute_result"
    }
   ],
   "source": [
    "x = 1.09\n",
    "my_amazing_string = \"a string\"\n",
    "δ = 1.0e-9"
   ]
  },
  {
   "cell_type": "markdown",
   "metadata": {},
   "source": [
    "*Note*: In REPL mode, Julia will print the results of the last statement's execution as output. \n",
    "Sometimes you don't want that, in which case it can be suppressed by adding a semicolon at the end of\n",
    "the statement:"
   ]
  },
  {
   "cell_type": "code",
   "execution_count": 2,
   "metadata": {},
   "outputs": [],
   "source": [
    "δ2 = 1.0e-18;"
   ]
  },
  {
   "cell_type": "markdown",
   "metadata": {},
   "source": [
    "## Operators\n",
    "\n",
    "## Binary Operators\n",
    "\n",
    "| Expression | Name | Description\n",
    "|---|---|---|\n",
    "| +x | unary plus | the identity operation |\n",
    "| -x | unary minus | maps values to their additive inverses |\n",
    "| x + y| binary plus | performs addition |\n",
    "|x - y\t|binary minus\t|performs subtraction|\n",
    "|x * y\t|times\t|performs multiplication|\n",
    "|x / y\t|divide\t|performs division|\n",
    "|**x ÷ y**\t|integer divide\t|x / y, truncated to an integer, same as `div(a,y)`|\n",
    "|**x \\ y**\t|inverse divide\t|equivalent to y / x|\n",
    "|**x ^ y**\t|power\t|raises x to the yth power|\n",
    "|x % y\t|remainder\t|same as `rem(x,y)`|"
   ]
  },
  {
   "cell_type": "markdown",
   "metadata": {},
   "source": [
    "We put in bold the operators that might be different from other languages you know. In particular, note that Julia uses \"^\" for exponentation, not logical operations (and not **, like many other languages)."
   ]
  },
  {
   "cell_type": "code",
   "execution_count": 3,
   "metadata": {},
   "outputs": [
    {
     "data": {
      "text/plain": [
       "1027"
      ]
     },
     "execution_count": 3,
     "metadata": {},
     "output_type": "execute_result"
    }
   ],
   "source": [
    "(2^10) + (33%10)"
   ]
  },
  {
   "cell_type": "markdown",
   "metadata": {},
   "source": [
    "## Bitwise Operators\n",
    "\n",
    "[Bitwise operators](https://en.wikipedia.org/wiki/Bitwise_operation#Bitwise_operators)\n",
    "are supported on all primitive integer types:\n",
    "\n",
    "| Expression | Name                                                                     |\n",
    "|:---------- |:------------------------------------------------------------------------ |\n",
    "| `~x`       | bitwise not                                                              |\n",
    "| `x & y`    | bitwise and                                                              |\n",
    "| `x \\| y`   | bitwise or                                                               |\n",
    "| `x ⊻ y`    | bitwise xor (exclusive or)                                               |\n",
    "| `x ⊼ y`    | bitwise nand (not and)                                                   |\n",
    "| `x ⊽ y`    | bitwise nor (not or)                                                     |\n",
    "| `x >>> y`  | [logical shift](https://en.wikipedia.org/wiki/Logical_shift) right       |\n",
    "| `x >> y`   | [arithmetic shift](https://en.wikipedia.org/wiki/Arithmetic_shift) right |\n",
    "| `x << y`   | logical/arithmetic shift left                                            |"
   ]
  },
  {
   "cell_type": "code",
   "execution_count": 4,
   "metadata": {},
   "outputs": [
    {
     "data": {
      "text/plain": [
       "5"
      ]
     },
     "execution_count": 4,
     "metadata": {},
     "output_type": "execute_result"
    }
   ],
   "source": [
    "a = 7\n",
    "b = 13\n",
    "a & b"
   ]
  },
  {
   "cell_type": "code",
   "execution_count": 5,
   "metadata": {},
   "outputs": [
    {
     "data": {
      "text/plain": [
       "15"
      ]
     },
     "execution_count": 5,
     "metadata": {},
     "output_type": "execute_result"
    }
   ],
   "source": [
    "a | b"
   ]
  },
  {
   "cell_type": "markdown",
   "metadata": {},
   "source": [
    "Teaser: We'll look at a very cool feature of *vectorised* or *broadcast* operators shortly."
   ]
  },
  {
   "cell_type": "markdown",
   "metadata": {},
   "source": [
    "### Updating and Testing\n",
    "\n",
    "Most variables (except for `const` globals) can be updated, with the usual *updating operators* (`+=`, `-=`, `*=`, `/=`, etc.):"
   ]
  },
  {
   "cell_type": "code",
   "execution_count": 6,
   "metadata": {},
   "outputs": [
    {
     "data": {
      "text/plain": [
       "14"
      ]
     },
     "execution_count": 6,
     "metadata": {},
     "output_type": "execute_result"
    }
   ],
   "source": [
    "a *= 2"
   ]
  },
  {
   "cell_type": "markdown",
   "metadata": {},
   "source": [
    "Comparative testing of values uses the usual operators (`==`, `>`, `<`, `>=`, `<=`) and returns a `bool` type, which can be `true` or `false`:"
   ]
  },
  {
   "cell_type": "code",
   "execution_count": 7,
   "metadata": {},
   "outputs": [
    {
     "data": {
      "text/plain": [
       "true"
      ]
     },
     "execution_count": 7,
     "metadata": {},
     "output_type": "execute_result"
    }
   ],
   "source": [
    "a >= 8"
   ]
  },
  {
   "cell_type": "code",
   "execution_count": 8,
   "metadata": {},
   "outputs": [
    {
     "data": {
      "text/plain": [
       "false"
      ]
     },
     "execution_count": 8,
     "metadata": {},
     "output_type": "execute_result"
    }
   ],
   "source": [
    "a < δ2"
   ]
  },
  {
   "cell_type": "markdown",
   "metadata": {},
   "source": [
    "The `!` operator negates a boolean:"
   ]
  },
  {
   "cell_type": "code",
   "execution_count": 9,
   "metadata": {},
   "outputs": [
    {
     "data": {
      "text/plain": [
       "false"
      ]
     },
     "execution_count": 9,
     "metadata": {},
     "output_type": "execute_result"
    }
   ],
   "source": [
    "!true"
   ]
  },
  {
   "cell_type": "markdown",
   "metadata": {},
   "source": [
    "Julia allows you to chain comparisons:"
   ]
  },
  {
   "cell_type": "code",
   "execution_count": 10,
   "metadata": {},
   "outputs": [
    {
     "data": {
      "text/plain": [
       "true"
      ]
     },
     "execution_count": 10,
     "metadata": {},
     "output_type": "execute_result"
    }
   ],
   "source": [
    "1 < 2 <= 2 < 3 == 3 > 2 >= 1 == 1 < 3 != 5"
   ]
  },
  {
   "cell_type": "markdown",
   "metadata": {},
   "source": [
    "## Basic Types\n",
    "\n",
    "Julia supports integers (signed and unsigned) and floats, all with varying bit widths:"
   ]
  },
  {
   "cell_type": "code",
   "execution_count": 11,
   "metadata": {},
   "outputs": [
    {
     "data": {
      "text/plain": [
       "Float64"
      ]
     },
     "execution_count": 11,
     "metadata": {},
     "output_type": "execute_result"
    }
   ],
   "source": [
    "f = 1.234\n",
    "typeof(f)"
   ]
  },
  {
   "cell_type": "code",
   "execution_count": 12,
   "metadata": {},
   "outputs": [
    {
     "data": {
      "text/plain": [
       "0x0000000000bc3814"
      ]
     },
     "execution_count": 12,
     "metadata": {},
     "output_type": "execute_result"
    }
   ],
   "source": [
    "i = UInt(12335124)"
   ]
  },
  {
   "cell_type": "code",
   "execution_count": 13,
   "metadata": {},
   "outputs": [
    {
     "data": {
      "text/plain": [
       "UInt64"
      ]
     },
     "execution_count": 13,
     "metadata": {},
     "output_type": "execute_result"
    }
   ],
   "source": [
    "typeof(i)"
   ]
  },
  {
   "cell_type": "markdown",
   "metadata": {},
   "source": [
    "Julia will generally handle mixed type arthemetic smoothly and safely (this is done by *promoting* variables):"
   ]
  },
  {
   "cell_type": "code",
   "execution_count": 14,
   "metadata": {},
   "outputs": [
    {
     "data": {
      "text/plain": [
       "1.5221543015999999e7"
      ]
     },
     "execution_count": 14,
     "metadata": {},
     "output_type": "execute_result"
    }
   ],
   "source": [
    "f * i"
   ]
  },
  {
   "cell_type": "markdown",
   "metadata": {},
   "source": [
    "But it will throw an error if this can't be done safely:"
   ]
  },
  {
   "cell_type": "code",
   "execution_count": 15,
   "metadata": {
    "tags": [
     "raises-exception"
    ]
   },
   "outputs": [
    {
     "data": {
      "text/plain": [
       "0x017f5046bf5a7100"
      ]
     },
     "execution_count": 15,
     "metadata": {},
     "output_type": "execute_result"
    }
   ],
   "source": [
    "UInt(i^4)"
   ]
  },
  {
   "cell_type": "markdown",
   "metadata": {},
   "source": [
    "As in Python, you don't need to specify a type for a variable (unlike C++) - by default, they work like Python, and can freely be assigned any values of any type.\n",
    "However, you *can* specify a type for a variable, using the ::Type notation, which causes that variable to *only* hold values of that type:"
   ]
  },
  {
   "cell_type": "code",
   "execution_count": null,
   "metadata": {},
   "outputs": [],
   "source": [
    "integer_value::Int64 = 6;\n",
    "\n",
    "integer_value = 2.0;\n",
    "\n",
    "@show integer_value\n",
    "\n",
    "typeof(integer_value)"
   ]
  },
  {
   "cell_type": "markdown",
   "metadata": {},
   "source": [
    "Note that Julia will only perform \"free\" conversions of type, as above, if it can do so without losing precision. \n",
    "If we try to put a non-integer into this variable:"
   ]
  },
  {
   "cell_type": "code",
   "execution_count": null,
   "metadata": {},
   "outputs": [],
   "source": [
    "integer_value = 2.5"
   ]
  },
  {
   "cell_type": "markdown",
   "metadata": {},
   "source": [
    "Julia's types are arranged in a \"hierarchy\", from more general to more specific types:\n",
    "\n",
    "![The Julia Type Hierarchy, thanks to Uwe Hernandez Acosta](./images/numeric_types.png)\n",
    "\n",
    "Only the \"leaves\" of the type tree can be values (\"concrete types\") - but variables (and functions) can be defined in terms of any of the types, even the \"abstract\" ones. \n",
    "This means you can, for example, define a variable that will hold any \"Number\" type - allowing it to hold Float, Rational or Integer values, but not, say, Strings. \n",
    "\n",
    "We'll come back to other aspects of this when we cover *multiple dispatch*."
   ]
  },
  {
   "cell_type": "code",
   "execution_count": null,
   "metadata": {},
   "outputs": [],
   "source": [
    "@show my_number::Number = 6.0\n",
    "\n",
    "@show my_number = 5//7\n",
    "\n",
    "@show my_number = \"This will fail\""
   ]
  },
  {
   "cell_type": "markdown",
   "metadata": {},
   "source": [
    "### Complex and Rational Numbers\n",
    "\n",
    "Complex and rational numbers are handled natively in Julia:"
   ]
  },
  {
   "cell_type": "code",
   "execution_count": 16,
   "metadata": {},
   "outputs": [
    {
     "data": {
      "text/plain": [
       "3 - 9im"
      ]
     },
     "execution_count": 16,
     "metadata": {},
     "output_type": "execute_result"
    }
   ],
   "source": [
    "# \"im\" is the imaginary number constant\n",
    "m = 1 + 2im\n",
    "n = -3 - 3im\n",
    "m*n"
   ]
  },
  {
   "cell_type": "code",
   "execution_count": 17,
   "metadata": {},
   "outputs": [
    {
     "data": {
      "text/plain": [
       "1//6"
      ]
     },
     "execution_count": 17,
     "metadata": {},
     "output_type": "execute_result"
    }
   ],
   "source": [
    "# // defines a rational\n",
    "r1 = 2//3\n",
    "r2 = 1//4\n",
    "r1*r2"
   ]
  },
  {
   "cell_type": "markdown",
   "metadata": {},
   "source": [
    "### Strings\n",
    "\n",
    "Strings in Julia are defined with double quotes: \"oh yes, they are\", or triple double quotes, which allow use of unescaped double quotes: \"\"\"Sam exclaimed, \"this is much easier than using backslashes!\" \"\"\"."
   ]
  },
  {
   "cell_type": "code",
   "execution_count": 18,
   "metadata": {},
   "outputs": [
    {
     "data": {
      "text/plain": [
       "\"here is a string\""
      ]
     },
     "execution_count": 18,
     "metadata": {},
     "output_type": "execute_result"
    }
   ],
   "source": [
    "\"here is a string\""
   ]
  },
  {
   "cell_type": "markdown",
   "metadata": {},
   "source": [
    "One point to note is that strings are concatenated with a `*` operator, because concatenation is not commutative:"
   ]
  },
  {
   "cell_type": "code",
   "execution_count": 19,
   "metadata": {},
   "outputs": [
    {
     "data": {
      "text/plain": [
       "\"hello world\""
      ]
     },
     "execution_count": 19,
     "metadata": {},
     "output_type": "execute_result"
    }
   ],
   "source": [
    "\"hello \" * \"world\""
   ]
  },
  {
   "cell_type": "markdown",
   "metadata": {},
   "source": [
    "Strings are internally represented as UTF-8, so they can hold any Unicode values. However, they are *indexed* by byte, and attempting to take values from the middle of a code-point will cause an error. There are methods which provide iterators to safely iterate over the individual \"characters\" if you need to.\n",
    "\n",
    "*Characters* are defined with single quotes: 'प', and are UTF-32 (32-bit values)."
   ]
  },
  {
   "cell_type": "code",
   "execution_count": null,
   "metadata": {},
   "outputs": [],
   "source": [
    "текст = \"\"\"The Ukrainian for \"text\" is \"текст\" and the Hindi is \"पाठ\"!\"\"\"\n",
    "\n",
    "текст[38] == 'т'  #trying to take from position 37 would cause an error, as Cyrillic chars are two-bytes wide."
   ]
  },
  {
   "cell_type": "markdown",
   "metadata": {},
   "source": [
    "Finally, Julia supports string interpolation using `$`` to specify the variable, or expression if contained within parentheses, to substitute into the string."
   ]
  },
  {
   "cell_type": "code",
   "execution_count": null,
   "metadata": {},
   "outputs": [],
   "source": [
    "\"$m squared is $(m^2)\""
   ]
  },
  {
   "cell_type": "markdown",
   "metadata": {},
   "source": [
    "### Arrays, Dicts and other Composite Types\n",
    "\n",
    "Julia supports Array, Dict, Tuple and other \"container types\" you may recognise from Python, and the syntax is similar for 1-dimensional examples, including support for \"list comprehension\" expressions."
   ]
  },
  {
   "cell_type": "code",
   "execution_count": null,
   "metadata": {},
   "outputs": [],
   "source": [
    "@show my_list = [1, 2, 'a'] #you can make \"Python like\" arrays with mixed types in them\n",
    "\n",
    "@show my_integer_array = [1,2,7, 66] #but Julia will specialise an Array literal with only 1 type in it to be uniform (like NumPy Arrays)\n",
    "\n",
    "@show typeof(my_integer_array)\n",
    "\n",
    "@show squared_integers = [i^2 for i = 1:10]"
   ]
  },
  {
   "cell_type": "markdown",
   "metadata": {},
   "source": [
    "Julia also supports multi-dimensional Arrays internally as first-class types, (that is, they're not simply \"an array of arrays\" or whatever), allowing for efficient representations of specialised data (like SparseArrays or diagonal matrices).\n",
    "\n",
    "As a result, indexing is done - as in Pandas etc - with a single index expression for all axes.  Unlike Python, array indices default to starting at *1* - but you can use *begin* and *end* to represent the first and last elements in any range."
   ]
  },
  {
   "cell_type": "code",
   "execution_count": null,
   "metadata": {},
   "outputs": [],
   "source": [
    "identity_matrix = [ [1,0] [0,1] ]\n",
    "\n",
    "\"\"\"The top-left element of identity_matrix is $(identity_matrix[1,1]) or $(identity_matrix[begin,begin])\"\"\""
   ]
  },
  {
   "cell_type": "markdown",
   "metadata": {},
   "source": [
    "As with NumPy, there are a large number of utility methods to efficiently create Arrays of a specific type and geometry.\n",
    "\n",
    "#### Dictionaries\n",
    "\n",
    "We can make Dictionaries (for C++ programmers - HashMaps or AssociativeArrays) with the Dict constructor.\n",
    "Unlike Python, the mapping between a key and a value is denoted with a \"=>\"."
   ]
  },
  {
   "cell_type": "code",
   "execution_count": null,
   "metadata": {},
   "outputs": [],
   "source": [
    "farmyard_sounds = Dict(\"🐮\" => \"moo\", \"sheep\" => \"baa\", \"pig\" => \"oink\", \"farmer\" => \"get off my land!\")\n",
    "\n",
    "@show farmyard_sounds[\"🐮\"]\n",
    "\n",
    "@show haskey(farmyard_sounds,\"pig\")\n",
    "\n",
    "@show farmyard_sounds[\"🐱\"] = \"Meow\""
   ]
  },
  {
   "cell_type": "markdown",
   "metadata": {},
   "source": [
    "(Tuples and Sets and other container types work similarly to how you would expect in Python, so we won't cover them explicitly)\n",
    "\n",
    "### Custom Composite Types\n",
    "\n",
    "You can also create composite types, *structs* - here you need to specify the types of their sub-fields. As with many Julia constructs, a struct definition starts with a keyword (\"struct\") and ends with \"end\":"
   ]
  },
  {
   "cell_type": "code",
   "execution_count": null,
   "metadata": {},
   "outputs": [],
   "source": [
    "struct my_vector\n",
    "    x::Float64\n",
    "    y::Float64\n",
    "end\n",
    "\n",
    "@show υϵκτωρ = my_vector(3.7, 6e7)\n",
    "\n",
    "υϵκτωρ.x = 3.6"
   ]
  },
  {
   "cell_type": "markdown",
   "metadata": {},
   "source": []
  }
 ],
 "metadata": {
  "kernelspec": {
   "display_name": "Julia 1.9.3",
   "language": "julia",
   "name": "julia-1.9"
  },
  "language_info": {
   "file_extension": ".jl",
   "mimetype": "application/julia",
   "name": "julia",
   "version": "1.9.3"
  },
  "orig_nbformat": 4
 },
 "nbformat": 4,
 "nbformat_minor": 2
}
